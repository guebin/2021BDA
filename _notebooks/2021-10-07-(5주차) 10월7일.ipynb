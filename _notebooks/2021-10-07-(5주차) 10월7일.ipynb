{
 "cells": [
  {
   "cell_type": "markdown",
   "id": "df5e7772-50f4-4d42-ae3e-c4bf497c810b",
   "metadata": {
    "tags": []
   },
   "source": [
    "# (5주차) 10월7일\n",
    "> 알렉스넷(잡담), 로지스틱 회귀분석 \n",
    "\n",
    "- toc:true\n",
    "- branch: master\n",
    "- badges: true\n",
    "- comments: true\n",
    "- author: 최규빈"
   ]
  },
  {
   "cell_type": "markdown",
   "id": "7fceafc5-f484-4826-898b-3c7c13f3a584",
   "metadata": {
    "tags": []
   },
   "source": [
    "### 강의영상 "
   ]
  },
  {
   "cell_type": "markdown",
   "id": "8e6b8c36-a261-45c5-90a8-78f9912c665e",
   "metadata": {},
   "source": [
    "> youtube: https://youtube.com/playlist?list=PLQqh36zP38-ya8Fv0HApuyVpd2MQeTICF"
   ]
  },
  {
   "cell_type": "markdown",
   "id": "569cc37d-de9e-4a12-a540-be6e0d78f0b4",
   "metadata": {},
   "source": [
    "`-` (1/2) 기말고사 안내 + 알렉스넷 \n",
    "\n",
    "`-` (2/2) 로지스틱 회귀분석 "
   ]
  },
  {
   "cell_type": "markdown",
   "id": "c400bbda-fc1f-4af8-b067-3f7d30af036d",
   "metadata": {
    "tags": []
   },
   "source": [
    "### Logistic regression "
   ]
  },
  {
   "cell_type": "code",
   "execution_count": 3,
   "id": "e2302417-ef5e-4826-92c3-bf54c72b6ca2",
   "metadata": {},
   "outputs": [],
   "source": [
    "import torch \n",
    "import matplotlib.pyplot as plt"
   ]
  },
  {
   "cell_type": "markdown",
   "id": "4c57527b-33f6-433a-a878-f6376f96f5f6",
   "metadata": {},
   "source": [
    "### Example "
   ]
  },
  {
   "cell_type": "markdown",
   "id": "14619937-2642-464e-b878-7432fa4ee2a3",
   "metadata": {},
   "source": [
    "`-` 현실에서 이런 경우가 많음 \n",
    "- $x$가 커질수록 (혹은 작아질수록) 성공확률이 증가함. "
   ]
  },
  {
   "cell_type": "markdown",
   "id": "fb1349be-6e45-42e1-bb2f-011e4b52b663",
   "metadata": {},
   "source": [
    "`-` 이러한 모형은 아래와 같이 설계할 수 있음 <--- 외우세요!!!"
   ]
  },
  {
   "cell_type": "markdown",
   "id": "b58c7c85-e210-4784-8d25-b80d56f7eb4c",
   "metadata": {},
   "source": [
    "- $y_i \\sim Ber(\\pi_i),\\quad $ where $\\pi_i = \\frac{\\exp(w_0+w_1x_i)}{1+\\exp(w_0+w_1x_i)}$\n",
    "\n",
    "- $\\hat{y}_i= \\frac{\\exp(\\hat{w}_0+\\hat{w}_1x_i)}{1+\\exp(\\hat{w}_0+\\hat{w}_1x_i)}=\\frac{1}{1+\\exp(-\\hat{w}_0-\\hat{w}_1x_i)}$ \n",
    "\n",
    "- $loss= - \\sum_{i=1}^{n} \\big(y_i\\log(\\hat{y}_i)+(1-y_i)\\log(1-\\hat{y}_i)\\big)$ <--- 외우세요!!"
   ]
  },
  {
   "cell_type": "markdown",
   "id": "b022dcb3-4e6c-49dc-b902-96b7fad8c910",
   "metadata": {},
   "source": [
    "`-` 예제시작 "
   ]
  },
  {
   "cell_type": "code",
   "execution_count": 12,
   "id": "0b300303-3d02-449c-be53-f26ee32ededb",
   "metadata": {},
   "outputs": [],
   "source": [
    "X=torch.linspace(-1,1,2000).reshape(2000,1)\n",
    "w0= - 1 \n",
    "w1= 5 \n",
    "u = w0+X*w1 \n",
    "v = torch.exp(u)/(1+torch.exp(u)) # v=πi\n",
    "y = torch.bernoulli(v) "
   ]
  },
  {
   "cell_type": "markdown",
   "id": "57e8c1f7-28c4-41eb-a7ae-87481ba1c3f3",
   "metadata": {},
   "source": [
    "`-` RBM --> DBN (2006년, 사이언스지) "
   ]
  },
  {
   "cell_type": "code",
   "execution_count": 19,
   "id": "52e381f9-bd54-4abe-a2b7-733d7025a81c",
   "metadata": {},
   "outputs": [
    {
     "data": {
      "text/plain": [
       "[<matplotlib.lines.Line2D at 0x7f4205e1c460>]"
      ]
     },
     "execution_count": 19,
     "metadata": {},
     "output_type": "execute_result"
    },
    {
     "data": {
      "image/png": "[encoded data removed]",
      "text/plain": [
       "<Figure size 432x288 with 1 Axes>"
      ]
     },
     "metadata": {
      "needs_background": "light"
     },
     "output_type": "display_data"
    }
   ],
   "source": [
    "plt.scatter(X,y,alpha=0.05)\n",
    "plt.plot(X,v,'--r')"
   ]
  },
  {
   "cell_type": "markdown",
   "id": "53ff57a5-7602-4c73-a4fc-eeaa8d8bf626",
   "metadata": {},
   "source": [
    "`-` 다이어그램으로 표현하면 "
   ]
  },
  {
   "cell_type": "code",
   "execution_count": 23,
   "id": "35b2ed99-6909-415f-9744-2b3c91868411",
   "metadata": {},
   "outputs": [],
   "source": [
    "import graphviz"
   ]
  },
  {
   "cell_type": "code",
   "execution_count": 24,
   "id": "e3ae622d-dd53-446b-91c6-4c285dcb4b9a",
   "metadata": {},
   "outputs": [],
   "source": [
    "def gv(s): return graphviz.Source('digraph G{ rankdir=\"LR\"' + s + '; }')"
   ]
  },
  {
   "cell_type": "markdown",
   "id": "5e34db80-71b6-46b4-b348-af29f2c40f89",
   "metadata": {},
   "source": [
    "나름대로 딥러닝의 골치덩이를 해결하는 방법을 제시함.. --> 관심 X "
   ]
  },
  {
   "cell_type": "code",
   "execution_count": 25,
   "id": "2d25729d-666c-4bc3-a30a-e77ee8ee8166",
   "metadata": {},
   "outputs": [
    {
     "data": {
      "image/svg+xml": [
       "<?xml version=\"1.0\" encoding=\"UTF-8\" standalone=\"no\"?>\n",
       "<!DOCTYPE svg PUBLIC \"-//W3C//DTD SVG 1.1//EN\"\n",
       " \"http://www.w3.org/Graphics/SVG/1.1/DTD/svg11.dtd\">\n",
       "<!-- Generated by graphviz version 2.49.1 (20211004.0028)\n",
       " -->\n",
       "<!-- Title: G Pages: 1 -->\n",
       "<svg width=\"544pt\" height=\"99pt\"\n",
       " viewBox=\"0.00 0.00 543.57 99.00\" xmlns=\"http://www.w3.org/2000/svg\" xmlns:xlink=\"http://www.w3.org/1999/xlink\">\n",
       "<g id=\"graph0\" class=\"graph\" transform=\"scale(1 1) rotate(0) translate(4 95)\">\n",
       "<title>G</title>\n",
       "<polygon fill=\"white\" stroke=\"transparent\" points=\"-4,4 -4,-95 539.57,-95 539.57,4 -4,4\"/>\n",
       "<g id=\"clust1\" class=\"cluster\">\n",
       "<title>cluster_1</title>\n",
       "<polygon fill=\"lightgrey\" stroke=\"lightgrey\" points=\"8,-8 8,-83 79,-83 79,-8 8,-8\"/>\n",
       "<text text-anchor=\"middle\" x=\"43.5\" y=\"-67.8\" font-family=\"Times,serif\" font-size=\"14.00\">Layer 0</text>\n",
       "</g>\n",
       "<g id=\"clust2\" class=\"cluster\">\n",
       "<title>cluster_2</title>\n",
       "<polygon fill=\"lightgrey\" stroke=\"lightgrey\" points=\"128,-8 128,-83 527.57,-83 527.57,-8 128,-8\"/>\n",
       "<text text-anchor=\"middle\" x=\"327.79\" y=\"-67.8\" font-family=\"Times,serif\" font-size=\"14.00\">Layer 1</text>\n",
       "</g>\n",
       "<!-- X -->\n",
       "<g id=\"node1\" class=\"node\">\n",
       "<title>X</title>\n",
       "<ellipse fill=\"none\" stroke=\"black\" cx=\"43\" cy=\"-34\" rx=\"27\" ry=\"18\"/>\n",
       "<text text-anchor=\"middle\" x=\"43\" y=\"-30.3\" font-family=\"Times,serif\" font-size=\"14.00\">X</text>\n",
       "</g>\n",
       "<!-- X@W -->\n",
       "<g id=\"node2\" class=\"node\">\n",
       "<title>X@W</title>\n",
       "<ellipse fill=\"none\" stroke=\"black\" cx=\"171.75\" cy=\"-34\" rx=\"36\" ry=\"18\"/>\n",
       "<text text-anchor=\"middle\" x=\"171.75\" y=\"-30.3\" font-family=\"Times,serif\" font-size=\"14.00\">X@W</text>\n",
       "</g>\n",
       "<!-- X&#45;&gt;X@W -->\n",
       "<g id=\"edge1\" class=\"edge\">\n",
       "<title>X&#45;&gt;X@W</title>\n",
       "<path fill=\"none\" stroke=\"black\" d=\"M70.26,-34C86.29,-34 107.21,-34 125.81,-34\"/>\n",
       "<polygon fill=\"black\" stroke=\"black\" points=\"125.86,-37.5 135.86,-34 125.86,-30.5 125.86,-37.5\"/>\n",
       "<text text-anchor=\"middle\" x=\"103.5\" y=\"-37.8\" font-family=\"Times,serif\" font-size=\"14.00\">@W</text>\n",
       "</g>\n",
       "<!-- Sigmoid(X@W)=yhat -->\n",
       "<g id=\"node3\" class=\"node\">\n",
       "<title>Sigmoid(X@W)=yhat</title>\n",
       "<ellipse fill=\"none\" stroke=\"black\" cx=\"411.03\" cy=\"-34\" rx=\"108.58\" ry=\"18\"/>\n",
       "<text text-anchor=\"middle\" x=\"411.03\" y=\"-30.3\" font-family=\"Times,serif\" font-size=\"14.00\">Sigmoid(X@W)=yhat</text>\n",
       "</g>\n",
       "<!-- X@W&#45;&gt;Sigmoid(X@W)=yhat -->\n",
       "<g id=\"edge2\" class=\"edge\">\n",
       "<title>X@W&#45;&gt;Sigmoid(X@W)=yhat</title>\n",
       "<path fill=\"none\" stroke=\"black\" d=\"M207.5,-34C230.21,-34 261.32,-34 292.33,-34\"/>\n",
       "<polygon fill=\"black\" stroke=\"black\" points=\"292.39,-37.5 302.39,-34 292.39,-30.5 292.39,-37.5\"/>\n",
       "<text text-anchor=\"middle\" x=\"254.99\" y=\"-37.8\" font-family=\"Times,serif\" font-size=\"14.00\">Sigmoid</text>\n",
       "</g>\n",
       "</g>\n",
       "</svg>\n"
      ],
      "text/plain": [
       "<graphviz.files.Source at 0x7f4205dece50>"
      ]
     },
     "execution_count": 25,
     "metadata": {},
     "output_type": "execute_result"
    }
   ],
   "source": [
    "#collapse\n",
    "gv('''\n",
    "subgraph cluster_1{\n",
    "    style=filled;\n",
    "    color=lightgrey;\n",
    "    \"X\" \n",
    "    label = \"Layer 0\"\n",
    "}\n",
    "subgraph cluster_2{\n",
    "    style=filled;\n",
    "    color=lightgrey;\n",
    "    \"X\" -> \"X@W\"[label=\"@W\"]\n",
    "    \"X@W\" -> \"Sigmoid(X@W)=yhat\"[label=\"Sigmoid\"]\n",
    "    label = \"Layer 1\"\n",
    "}\n",
    "''')"
   ]
  },
  {
   "cell_type": "code",
   "execution_count": 26,
   "id": "5901fc64-a249-4599-9ce2-a4a8742553ce",
   "metadata": {},
   "outputs": [
    {
     "data": {
      "image/svg+xml": [
       "<?xml version=\"1.0\" encoding=\"UTF-8\" standalone=\"no\"?>\n",
       "<!DOCTYPE svg PUBLIC \"-//W3C//DTD SVG 1.1//EN\"\n",
       " \"http://www.w3.org/Graphics/SVG/1.1/DTD/svg11.dtd\">\n",
       "<!-- Generated by graphviz version 2.49.1 (20211004.0028)\n",
       " -->\n",
       "<!-- Title: G Pages: 1 -->\n",
       "<svg width=\"266pt\" height=\"99pt\"\n",
       " viewBox=\"0.00 0.00 266.19 99.00\" xmlns=\"http://www.w3.org/2000/svg\" xmlns:xlink=\"http://www.w3.org/1999/xlink\">\n",
       "<g id=\"graph0\" class=\"graph\" transform=\"scale(1 1) rotate(0) translate(4 95)\">\n",
       "<title>G</title>\n",
       "<polygon fill=\"white\" stroke=\"transparent\" points=\"-4,4 -4,-95 262.19,-95 262.19,4 -4,4\"/>\n",
       "<g id=\"clust1\" class=\"cluster\">\n",
       "<title>cluster_1</title>\n",
       "<polygon fill=\"lightgrey\" stroke=\"lightgrey\" points=\"8,-8 8,-83 79,-83 79,-8 8,-8\"/>\n",
       "<text text-anchor=\"middle\" x=\"43.5\" y=\"-67.8\" font-family=\"Times,serif\" font-size=\"14.00\">Layer 0</text>\n",
       "</g>\n",
       "<g id=\"clust2\" class=\"cluster\">\n",
       "<title>cluster_2</title>\n",
       "<polygon fill=\"lightgrey\" stroke=\"lightgrey\" points=\"99,-8 99,-83 250.19,-83 250.19,-8 99,-8\"/>\n",
       "<text text-anchor=\"middle\" x=\"174.59\" y=\"-67.8\" font-family=\"Times,serif\" font-size=\"14.00\">Layer 1: Sigmoid</text>\n",
       "</g>\n",
       "<!-- X -->\n",
       "<g id=\"node1\" class=\"node\">\n",
       "<title>X</title>\n",
       "<ellipse fill=\"none\" stroke=\"black\" cx=\"43\" cy=\"-34\" rx=\"27\" ry=\"18\"/>\n",
       "<text text-anchor=\"middle\" x=\"43\" y=\"-30.3\" font-family=\"Times,serif\" font-size=\"14.00\">X</text>\n",
       "</g>\n",
       "<!-- node1=yhat -->\n",
       "<g id=\"node2\" class=\"node\">\n",
       "<title>node1=yhat</title>\n",
       "<ellipse fill=\"none\" stroke=\"black\" cx=\"174.59\" cy=\"-34\" rx=\"67.69\" ry=\"18\"/>\n",
       "<text text-anchor=\"middle\" x=\"174.59\" y=\"-30.3\" font-family=\"Times,serif\" font-size=\"14.00\">node1=yhat</text>\n",
       "</g>\n",
       "<!-- X&#45;&gt;node1=yhat -->\n",
       "<g id=\"edge1\" class=\"edge\">\n",
       "<title>X&#45;&gt;node1=yhat</title>\n",
       "<path fill=\"none\" stroke=\"black\" d=\"M70.23,-34C78.18,-34 87.36,-34 96.9,-34\"/>\n",
       "<polygon fill=\"black\" stroke=\"black\" points=\"96.93,-37.5 106.93,-34 96.93,-30.5 96.93,-37.5\"/>\n",
       "</g>\n",
       "</g>\n",
       "</svg>\n"
      ],
      "text/plain": [
       "<graphviz.files.Source at 0x7f4205decdf0>"
      ]
     },
     "execution_count": 26,
     "metadata": {},
     "output_type": "execute_result"
    }
   ],
   "source": [
    "#collapse\n",
    "gv('''\n",
    "subgraph cluster_1{\n",
    "    style=filled;\n",
    "    color=lightgrey;\n",
    "    X\n",
    "    label = \"Layer 0\"\n",
    "}\n",
    "subgraph cluster_2{\n",
    "    style=filled;\n",
    "    color=lightgrey;\n",
    "    X -> \"node1=yhat\"\n",
    "    label = \"Layer 1: Sigmoid\"\n",
    "}\n",
    "''')"
   ]
  },
  {
   "cell_type": "markdown",
   "id": "4802f25b-73fc-42d1-89bd-368d3be141ce",
   "metadata": {},
   "source": [
    "`-` 아키텍처, 손실함수, 옵티마이저 "
   ]
  },
  {
   "cell_type": "code",
   "execution_count": 27,
   "id": "7e3bea63-7136-48be-96e5-1d11c74edf7f",
   "metadata": {},
   "outputs": [],
   "source": [
    "torch.manual_seed(43052) \n",
    "l1=torch.nn.Linear(in_features=1,out_features=1,bias=True) \n",
    "a1=torch.nn.Sigmoid() \n",
    "net=torch.nn.Sequential(l1,a1) \n",
    "#loss = torch.mean((y-yhat)**2) <--- 이러면 안됩니다!!!\n",
    "optimizer=torch.optim.SGD(net.parameters(),lr=0.05) "
   ]
  },
  {
   "cell_type": "code",
   "execution_count": 30,
   "id": "659361a7-a5a6-40f3-97ff-c8c824f34c06",
   "metadata": {},
   "outputs": [
    {
     "data": {
      "text/plain": [
       "[<matplotlib.lines.Line2D at 0x7f4205baa9a0>]"
      ]
     },
     "execution_count": 30,
     "metadata": {},
     "output_type": "execute_result"
    },
    {
     "data": {
      "image/png": "[encoded data removed]",
      "text/plain": [
       "<Figure size 432x288 with 1 Axes>"
      ]
     },
     "metadata": {
      "needs_background": "light"
     },
     "output_type": "display_data"
    }
   ],
   "source": [
    "plt.scatter(X,y,alpha=0.01) \n",
    "plt.plot(X,net(X).data,'--') \n",
    "plt.plot(X,v,'--r')"
   ]
  },
  {
   "cell_type": "markdown",
   "id": "db18aea8-1cd2-4a33-a182-9eed17baa496",
   "metadata": {},
   "source": [
    "`-` step1~4 "
   ]
  },
  {
   "cell_type": "code",
   "execution_count": 31,
   "id": "00568521-80e7-4f4d-8320-deb035a4a5ea",
   "metadata": {},
   "outputs": [],
   "source": [
    "for epoc in range(10000): \n",
    "    ## 1 \n",
    "    yhat=net(X) \n",
    "    ## 2 \n",
    "    loss=-torch.mean(y*torch.log(yhat) + (1-y)*torch.log(1-yhat)) \n",
    "    ## 3 \n",
    "    loss.backward() \n",
    "    ## 4 \n",
    "    optimizer.step() \n",
    "    net.zero_grad() "
   ]
  },
  {
   "cell_type": "code",
   "execution_count": 32,
   "id": "2317c4fa-c293-4d0f-ba61-81a55af26a9f",
   "metadata": {},
   "outputs": [
    {
     "data": {
      "text/plain": [
       "[Parameter containing:\n",
       " tensor([[4.6663]], requires_grad=True),\n",
       " Parameter containing:\n",
       " tensor([-0.9541], requires_grad=True)]"
      ]
     },
     "execution_count": 32,
     "metadata": {},
     "output_type": "execute_result"
    }
   ],
   "source": [
    "list(net.parameters())"
   ]
  },
  {
   "cell_type": "code",
   "execution_count": 34,
   "id": "924ca15d-66ef-4907-900c-739543cff0aa",
   "metadata": {},
   "outputs": [
    {
     "data": {
      "text/plain": [
       "[<matplotlib.lines.Line2D at 0x7f41fc7c5040>]"
      ]
     },
     "execution_count": 34,
     "metadata": {},
     "output_type": "execute_result"
    },
    {
     "data": {
      "image/png": "[encoded data removed]",
      "text/plain": [
       "<Figure size 432x288 with 1 Axes>"
      ]
     },
     "metadata": {
      "needs_background": "light"
     },
     "output_type": "display_data"
    }
   ],
   "source": [
    "plt.scatter(X,y,alpha=0.01) \n",
    "plt.plot(X,net(X).data,'--') \n",
    "plt.plot(X,v,'--r')"
   ]
  },
  {
   "cell_type": "markdown",
   "id": "1bd361e3-079e-40a5-b47b-1ad76c1517c7",
   "metadata": {},
   "source": [
    "### 숙제 "
   ]
  },
  {
   "cell_type": "markdown",
   "id": "c9592968-9236-4b6c-b7bd-5f4f649564e2",
   "metadata": {},
   "source": [
    "loss를 mse로 바꿔서 돌려볼것 "
   ]
  },
  {
   "cell_type": "code",
   "execution_count": null,
   "id": "bc993a5b-1023-4ee0-ae6d-220a4e96f85f",
   "metadata": {},
   "outputs": [],
   "source": [
    "torch.manual_seed(43052) \n",
    "l1=torch.nn.Linear(in_features=1,out_features=1,bias=True) \n",
    "a1=torch.nn.Sigmoid() \n",
    "net=torch.nn.Sequential(l1,a1) \n",
    "#loss = torch.mean((y-yhat)**2) <--- 이러면 안됩니다!!!\n",
    "optimizer=torch.optim.SGD(net.parameters(),lr=0.05) "
   ]
  },
  {
   "cell_type": "code",
   "execution_count": null,
   "id": "a6d4658a-0125-4630-8f2a-4ef866fc63ac",
   "metadata": {},
   "outputs": [],
   "source": [
    "for epoc in range(10000): \n",
    "    ## 1 \n",
    "    yhat=net(X) \n",
    "    ## 2 \n",
    "#####    loss=-torch.mean(y*torch.log(yhat) + (1-y)*torch.log(1-yhat)) <-- 여기만수정해서!!\n",
    "    ## 3 \n",
    "    loss.backward() \n",
    "    ## 4 \n",
    "    optimizer.step() \n",
    "    net.zero_grad() "
   ]
  },
  {
   "cell_type": "code",
   "execution_count": 32,
   "id": "9d780e70-c590-4f4f-8ba9-e74c84298e25",
   "metadata": {},
   "outputs": [
    {
     "data": {
      "text/plain": [
       "[Parameter containing:\n",
       " tensor([[4.6663]], requires_grad=True),\n",
       " Parameter containing:\n",
       " tensor([-0.9541], requires_grad=True)]"
      ]
     },
     "execution_count": 32,
     "metadata": {},
     "output_type": "execute_result"
    }
   ],
   "source": [
    "list(net.parameters())"
   ]
  },
  {
   "cell_type": "code",
   "execution_count": 34,
   "id": "8ec14e9b-5df6-4334-890b-1213901dce32",
   "metadata": {},
   "outputs": [
    {
     "data": {
      "text/plain": [
       "[<matplotlib.lines.Line2D at 0x7f41fc7c5040>]"
      ]
     },
     "execution_count": 34,
     "metadata": {},
     "output_type": "execute_result"
    },
    {
     "data": {
      "image/png": "[encoded data removed]",
      "text/plain": [
       "<Figure size 432x288 with 1 Axes>"
      ]
     },
     "metadata": {
      "needs_background": "light"
     },
     "output_type": "display_data"
    }
   ],
   "source": [
    "plt.scatter(X,y,alpha=0.01) \n",
    "plt.plot(X,net(X).data,'--') \n",
    "plt.plot(X,v,'--r')"
   ]
  },
  {
   "cell_type": "markdown",
   "id": "c0208243-a6c6-411f-9059-4e551ac75d46",
   "metadata": {},
   "source": [
    "대회에 한번 나가봐요!! "
   ]
  },
  {
   "cell_type": "markdown",
   "id": "4a8b9b3f-1306-4ab2-b4a9-6fa6c16d26e7",
   "metadata": {},
   "source": [
    "**교수님** OK"
   ]
  },
  {
   "cell_type": "markdown",
   "id": "00ed0bce-311c-4e13-ad8e-18e14f94ea31",
   "metadata": {},
   "source": [
    "2010년: 1등 오류율 28% \n",
    "\n",
    "2011년: 1등 오류율 26% "
   ]
  },
  {
   "cell_type": "markdown",
   "id": "3bb5486d-1b0e-4f17-b29d-adb49de757da",
   "metadata": {},
   "source": [
    "--- "
   ]
  },
  {
   "cell_type": "markdown",
   "id": "6ce2182b-e6c1-4e85-a92d-ae85a97aaef7",
   "metadata": {},
   "source": [
    "*CPU의 학습속도가 너무 느림* \n",
    "- 알렉스: GPU를 이용하여 학습을 해보자. "
   ]
  },
  {
   "cell_type": "markdown",
   "id": "e9dd5435-6c3c-469d-b35e-8af7b805de1b",
   "metadata": {},
   "source": [
    "*오버피팅 문제발생*\n",
    "- 대학원생: 드랍아웃 \n"
   ]
  },
  {
   "cell_type": "markdown",
   "id": "4c7d029d-0b32-4f5c-8ca3-db5e72cdd2e5",
   "metadata": {},
   "source": [
    "*GPU를 써도 학습속도가 느린단점이 있었음* \n",
    "- 알렉스: 벤지오연구실의 RuLU함수를 써보자. "
   ]
  },
  {
   "cell_type": "markdown",
   "id": "25364b81-eecf-4e2e-b581-a31ecc0e9e07",
   "metadata": {},
   "source": [
    "2012년 우승: 알렉스넷 오류율 16% "
   ]
  }
 ],
 "metadata": {
  "kernelspec": {
   "display_name": "Python 3 (ipykernel)",
   "language": "python",
   "name": "python3"
  },
  "language_info": {
   "codemirror_mode": {
    "name": "ipython",
    "version": 3
   },
   "file_extension": ".py",
   "mimetype": "text/x-python",
   "name": "python",
   "nbconvert_exporter": "python",
   "pygments_lexer": "ipython3",
   "version": "3.8.11"
  }
 },
 "nbformat": 4,
 "nbformat_minor": 5
}
