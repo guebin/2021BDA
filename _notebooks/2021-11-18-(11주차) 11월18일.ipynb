{
 "cells": [
  {
   "cell_type": "markdown",
   "id": "5201bcb3-469c-4084-afeb-c9f8ab7587e4",
   "metadata": {
    "tags": []
   },
   "source": [
    "# (11주차) 11월18일\n",
    "> 체인룰\n",
    "\n",
    "- toc:true\n",
    "- branch: master\n",
    "- badges: true\n",
    "- comments: true\n",
    "- author: 최규빈"
   ]
  },
  {
   "cell_type": "markdown",
   "id": "047d83e5-421f-4758-9f96-f3002e7ab6f4",
   "metadata": {},
   "source": [
    "### 강의영상 "
   ]
  },
  {
   "cell_type": "markdown",
   "id": "573f85dc-d48c-47c5-bb35-9af172c46981",
   "metadata": {},
   "source": [
    "> youtube: https://youtube.com/playlist?list=PLQqh36zP38-wC6aKJkQrtjg8h-PzhILkn"
   ]
  },
  {
   "cell_type": "markdown",
   "id": "36b34c41-1604-4cdc-98c2-63e7a3412218",
   "metadata": {},
   "source": [
    "`-` (1/4) 체인룰을 이용한 미분계수 계산, 이론 (1) \n",
    "\n",
    "`-` (2/4) 체인룰을 이용한 미분계수 계산, 이론 (2) \n",
    "\n",
    "`-` (3/4) 체인룰을 이용한 미분계수 계산, 실습\n",
    "\n",
    "`-` (4/4) 과제설명"
   ]
  },
  {
   "cell_type": "markdown",
   "id": "c711e017-4128-435d-ae65-2e76c22d0445",
   "metadata": {},
   "source": [
    "### import "
   ]
  },
  {
   "cell_type": "code",
   "execution_count": 1,
   "id": "217616da-3e8c-4391-b402-65b3f42d71bd",
   "metadata": {},
   "outputs": [],
   "source": [
    "import torch "
   ]
  },
  {
   "cell_type": "markdown",
   "id": "882211b0-0ecb-4f04-8eb0-38b9b1f1b78c",
   "metadata": {},
   "source": [
    "### 지난시간 복습 "
   ]
  },
  {
   "cell_type": "markdown",
   "id": "f32fce0d-0317-4bd6-8dc4-88d8ddec2221",
   "metadata": {},
   "source": [
    "`-` 회귀분석에서 손실함수에 대한 미분은 아래와 같은 과정으로 계산할 수 있다. "
   ]
  },
  {
   "cell_type": "markdown",
   "id": "cc2f74ea-bb4f-49b8-9430-715440eca1e8",
   "metadata": {},
   "source": [
    "- $loss = ({\\bf y}-{\\bf X}{\\bf W})^\\top ({\\bf y}-{\\bf X}{\\bf W})={\\bf y}^\\top {\\bf y} - {\\bf y}^\\top {\\bf X}{\\bf W} - {\\bf W}^\\top {\\bf X}^\\top {\\bf y} + {\\bf W}^\\top {\\bf X}^\\top {\\bf X} {\\bf W}$"
   ]
  },
  {
   "cell_type": "markdown",
   "id": "66dcf8a5-5f63-41ef-b367-c3b4ad56449a",
   "metadata": {},
   "source": [
    "- $\\frac{\\partial }{\\partial {\\bf W}}loss = -2{\\bf X}^\\top {\\bf y} +2 {\\bf X}^\\top {\\bf X} {\\bf W}$"
   ]
  },
  {
   "cell_type": "markdown",
   "id": "324cc750-e196-4c23-9ec9-e6a4557c9c0e",
   "metadata": {},
   "source": [
    "### 오늘수업의 목표 "
   ]
  },
  {
   "cell_type": "markdown",
   "id": "992bd969-92aa-4561-bbc1-62311600b68f",
   "metadata": {},
   "source": [
    "`-` 목표: 미분을 계산할 수 있는 컴퓨터(core)가 여러개 있다고 할때, 위의 계산을 더 빠르게 할 방법이 있을까? \n",
    "- 체인룰 $\\to$ 역전파기법 (backpropagation) "
   ]
  },
  {
   "cell_type": "markdown",
   "id": "196d042c-6c77-4e87-823e-d8cf93456ae7",
   "metadata": {},
   "source": [
    "`-` 어떻게 하면 미분계산을 여러 컴퓨터에게 적당히 나누어 수행시킬 수 있을까? "
   ]
  },
  {
   "cell_type": "markdown",
   "id": "1c5c1569-cb25-49ab-9adb-03f2180e8015",
   "metadata": {},
   "source": [
    "### 체인룰 (어려운 하나의 미분을 손쉬운 여러개의 미분으로 나누는 기법) "
   ]
  },
  {
   "cell_type": "markdown",
   "id": "325aed8d-2df0-4717-810c-3758d31e5451",
   "metadata": {},
   "source": [
    "`-` 손실함수가 사실 아래와 같은 변환을 거쳐서 계산되었다고 볼 수 있다. "
   ]
  },
  {
   "cell_type": "markdown",
   "id": "bb1eed13-087b-43a9-9c92-1b26ad33fcdd",
   "metadata": {},
   "source": [
    "- ${\\bf X} \\to {\\bf X}{\\bf W} \\to {\\bf y} -{\\bf X}{\\bf W} \\to ({\\bf y}-{\\bf X}{\\bf W})^\\top ({\\bf y}-{\\bf X}{\\bf W})$"
   ]
  },
  {
   "cell_type": "markdown",
   "id": "ef811c10-d520-4ed5-8cf7-40b0d1e73fc4",
   "metadata": {},
   "source": [
    "`-` 위의 과정을 수식으로 정리해보면 아래와 같다. "
   ]
  },
  {
   "cell_type": "markdown",
   "id": "4fce83c4-bdfd-44d8-936c-a01ad12c60c9",
   "metadata": {},
   "source": [
    "- ${\\bf u}={\\bf X}{\\bf W}$, $\\quad {\\bf u}: n \\times 1$ \n",
    "\n",
    "- ${\\bf v} = {\\bf y}- {\\bf u},$  $\\quad {\\bf v}: n \\times 1$\n",
    "\n",
    "- $loss={\\bf v}^\\top {\\bf v},$ $\\quad loss: 1 \\times 1 $"
   ]
  },
  {
   "cell_type": "markdown",
   "id": "b409f372-580e-4a76-8a85-b491eaccffa0",
   "metadata": {},
   "source": [
    "`-` 손실함수에 대한 미분은 아래와 같다. "
   ]
  },
  {
   "cell_type": "markdown",
   "id": "98ab10e6-1864-4a1e-bb08-b4d37b8df867",
   "metadata": {},
   "source": [
    "$$\\frac{\\partial }{\\partial {\\bf W}} loss = \\frac{\\partial }{\\partial {\\bf W}} {\\bf v}^\\top {\\bf v} $$ "
   ]
  },
  {
   "cell_type": "markdown",
   "id": "b97564d8-1800-4afc-b788-bb15812b9b8c",
   "metadata": {},
   "source": [
    "(그런데 이걸 어떻게 계산함?)"
   ]
  },
  {
   "cell_type": "markdown",
   "id": "d3922387-6ed2-4df8-b3f9-24d8a69ffc00",
   "metadata": {},
   "source": [
    "`-` 계산할 수 있는것들의 모음.. "
   ]
  },
  {
   "cell_type": "markdown",
   "id": "0856e109-5965-45a3-8221-9e60bb513e99",
   "metadata": {},
   "source": [
    "- $\\frac{\\partial}{\\partial {\\bf v}} loss = 2{\\bf v} $ $\\quad \\to$ (n,1) 벡터 "
   ]
  },
  {
   "cell_type": "markdown",
   "id": "b771abf8-3d42-484a-9fa0-dd982b7b9586",
   "metadata": {},
   "source": [
    "- $\\frac{\\partial }{\\partial {\\bf u}} {\\bf v}^\\top = -{\\bf I}$ $\\quad \\to $ (n,n) 매트릭스 "
   ]
  },
  {
   "cell_type": "markdown",
   "id": "f70bee73-64b4-4910-a534-9bf7d46bf9c6",
   "metadata": {},
   "source": [
    "- $\\frac{\\partial }{\\partial \\bf W}{\\bf u}^\\top = {\\bf X}^\\top $ $\\quad \\to$ (p,n) 매트릭스 "
   ]
  },
  {
   "cell_type": "markdown",
   "id": "37ccae60-baa8-444d-8e24-41d04b72b9b2",
   "metadata": {},
   "source": [
    "`-` 혹시.. 아래와 같이 쓸 수 있을까?  "
   ]
  },
  {
   "cell_type": "markdown",
   "id": "0823dc28-0355-411d-8f75-6ff95bb223a8",
   "metadata": {},
   "source": [
    "$$ \\left(\\frac{\\partial }{\\partial \\bf W}{\\bf u}^\\top \\right) \n",
    "\\left(\\frac{\\partial }{\\partial \\bf u}{\\bf v}^\\top \\right) \n",
    "\\left(\\frac{\\partial }{\\partial \\bf v}loss \\right) = \n",
    "\\frac{\\partial {\\bf u}^\\top}{\\partial \\bf W}\n",
    "\\frac{\\partial {\\bf v}^\\top}{\\partial \\bf u}\n",
    "\\frac{\\partial loss}{\\partial \\bf v}\n",
    "$$ "
   ]
  },
  {
   "cell_type": "markdown",
   "id": "5475ae41-4a23-4ae6-aef9-5716bdacb4ab",
   "metadata": {},
   "source": [
    "- 가능할것 같다. 뭐 기호야 정의하기 나름이니까!"
   ]
  },
  {
   "cell_type": "markdown",
   "id": "ffb23444-959b-4897-a7cf-29e16a7bd264",
   "metadata": {},
   "source": [
    "`-` 그렇다면 혹시 아래와 같이 쓸 수 있을까? "
   ]
  },
  {
   "cell_type": "markdown",
   "id": "7cd16996-e8d8-4a4b-b070-c8dd78fc89a7",
   "metadata": {},
   "source": [
    "$$\n",
    "\\frac{\\partial {\\bf u}^\\top}{\\partial \\bf W}\n",
    "\\frac{\\partial {\\bf v}^\\top}{\\partial \\bf u}\n",
    "\\frac{\\partial loss}{\\partial \\bf v} = \\frac{\\partial loss }{\\partial\\bf W}=\\frac{\\partial }{\\partial \\bf W} loss\n",
    "$$"
   ]
  },
  {
   "cell_type": "markdown",
   "id": "b064edd0-c116-48d6-bb10-1c305d7c42a0",
   "metadata": {},
   "source": [
    "- 이건 선을 넘는 것임.\n",
    "- 그런데 어떠한 공식에 의해서 가능함. 그 공식 이름이 체인룰이다. "
   ]
  },
  {
   "cell_type": "markdown",
   "id": "3156df62-cf34-4d0d-a531-8cdc88057fff",
   "metadata": {},
   "source": [
    "`-` 결국 정리하면 아래의 꼴이 되었다. "
   ]
  },
  {
   "cell_type": "markdown",
   "id": "6aac267e-20db-4908-82f1-407f6d226424",
   "metadata": {},
   "source": [
    "$$\\left(\\frac{\\partial }{\\partial \\bf W}{\\bf u}^\\top \\right) \n",
    "\\left(\\frac{\\partial }{\\partial \\bf u}{\\bf v}^\\top \\right) \n",
    "\\left(\\frac{\\partial }{\\partial \\bf v}loss \\right) \n",
    "= \n",
    "\\frac{\\partial }{\\partial \\bf W}loss $$ "
   ]
  },
  {
   "cell_type": "markdown",
   "id": "91f99e49-72fd-4bc8-a3c3-e11b99c13ea4",
   "metadata": {},
   "source": [
    "`-` 그렇다면? "
   ]
  },
  {
   "cell_type": "markdown",
   "id": "95d9bdf9-ee86-4db9-adb1-f9684b58e3b6",
   "metadata": {},
   "source": [
    "$$\\left({\\bf X}^\\top  \\right) \n",
    "\\left(-{\\bf I} \\right) \n",
    "\\left(2{\\bf v}\\right) \n",
    "= \n",
    "\\frac{\\partial }{\\partial \\bf W}loss $$ "
   ]
  },
  {
   "cell_type": "markdown",
   "id": "a3879dbf-dc36-4593-a3c9-fc42465e3c52",
   "metadata": {},
   "source": [
    "그런데, ${\\bf v}={\\bf y}-{\\bf u}={\\bf y} -{\\bf X}{\\bf W}$ 이므로 "
   ]
  },
  {
   "cell_type": "markdown",
   "id": "4fffac2c-8fde-417f-80cb-1b51cd3ba90f",
   "metadata": {},
   "source": [
    "$$-2{\\bf X}^\\top\\left({\\bf y}-{\\bf X}{\\bf W}\\right) \n",
    "= \n",
    "\\frac{\\partial }{\\partial \\bf W}loss $$ "
   ]
  },
  {
   "cell_type": "markdown",
   "id": "235a7535-0f41-4332-bb6c-a335f400bae3",
   "metadata": {},
   "source": [
    "정리하면 "
   ]
  },
  {
   "cell_type": "markdown",
   "id": "c6aa24e6-54e7-4a28-858e-6fd081cfa217",
   "metadata": {},
   "source": [
    "$$\\frac{\\partial }{\\partial \\bf W}loss = -2{\\bf X}^\\top{\\bf y}+2{\\bf X}^\\top {\\bf X}{\\bf W}$$ "
   ]
  },
  {
   "cell_type": "markdown",
   "id": "14241112-fc39-4173-88df-fd3512b28067",
   "metadata": {},
   "source": [
    "### 예시: 중간고사 문제.. "
   ]
  },
  {
   "cell_type": "markdown",
   "id": "26ba9719-39ac-4094-bc1f-d5d01d33cb62",
   "metadata": {},
   "source": [
    "`-` 미분계수를 계산하는 문제였음.. "
   ]
  },
  {
   "cell_type": "markdown",
   "id": "48620971-3845-4ca4-b140-fda39f76c851",
   "metadata": {},
   "source": [
    "`-` 체인룰을 이용하여 미분계수를 계산하여 보자."
   ]
  },
  {
   "cell_type": "code",
   "execution_count": 30,
   "id": "69dc749e-b596-4353-9d1b-4f376cd239e2",
   "metadata": {},
   "outputs": [],
   "source": [
    "ones= torch.ones(5)\n",
    "x = torch.tensor([11.0,12.0,13.0,14.0,15.0])\n",
    "X = torch.vstack([ones,x]).T\n",
    "y = torch.tensor([17.7,18.5,21.2,23.6,24.2])"
   ]
  },
  {
   "cell_type": "code",
   "execution_count": 31,
   "id": "73fda8da-e858-47a7-9c19-68ab7e2f0cd8",
   "metadata": {},
   "outputs": [],
   "source": [
    "W = torch.tensor([3.0,3.0]) "
   ]
  },
  {
   "cell_type": "code",
   "execution_count": 32,
   "id": "97bd4b74-a730-4ec1-a76b-751fe19cd568",
   "metadata": {},
   "outputs": [],
   "source": [
    "u = X@W \n",
    "v = y-u \n",
    "loss = v.T @ v "
   ]
  },
  {
   "cell_type": "code",
   "execution_count": 33,
   "id": "97ff1f54-5059-414e-ac49-68618f3284cd",
   "metadata": {},
   "outputs": [
    {
     "data": {
      "text/plain": [
       "tensor(2212.1799)"
      ]
     },
     "execution_count": 33,
     "metadata": {},
     "output_type": "execute_result"
    }
   ],
   "source": [
    "loss"
   ]
  },
  {
   "cell_type": "markdown",
   "id": "357230e7-3c00-44eb-a0b3-a89b7b3af781",
   "metadata": {},
   "source": [
    "`-` $\\frac{\\partial}{\\partial\\bf W}loss $ 의 계산 "
   ]
  },
  {
   "cell_type": "code",
   "execution_count": 22,
   "id": "b1700538-b4b0-41f4-909e-e010c4c42fd5",
   "metadata": {},
   "outputs": [
    {
     "data": {
      "text/plain": [
       "tensor([ 209.6000, 2748.6001])"
      ]
     },
     "execution_count": 22,
     "metadata": {},
     "output_type": "execute_result"
    }
   ],
   "source": [
    "X.T @ -torch.eye(5) @ (2*v) "
   ]
  },
  {
   "cell_type": "markdown",
   "id": "2e22c15b-fa8e-4101-b088-e9963651d3e4",
   "metadata": {},
   "source": [
    "`-` 참고로 중간고사 답은 "
   ]
  },
  {
   "cell_type": "code",
   "execution_count": 13,
   "id": "e6016230-fa9d-49fe-ab24-52a4bbc183f8",
   "metadata": {},
   "outputs": [
    {
     "data": {
      "text/plain": [
       "tensor([ 41.9200, 549.7200])"
      ]
     },
     "execution_count": 13,
     "metadata": {},
     "output_type": "execute_result"
    }
   ],
   "source": [
    "X.T @ -torch.eye(5)@ (2*v) / 5 "
   ]
  },
  {
   "cell_type": "markdown",
   "id": "fc98fa2f-a69f-4fc1-a8b7-d78fc4605ef6",
   "metadata": {},
   "source": [
    "입니다. "
   ]
  },
  {
   "cell_type": "markdown",
   "id": "ca276697-20ed-42c9-aa79-e741810c7424",
   "metadata": {},
   "source": [
    "`-` 확인 "
   ]
  },
  {
   "cell_type": "code",
   "execution_count": 16,
   "id": "f6003451-0365-4cb4-8a6d-d05749e2f6f1",
   "metadata": {},
   "outputs": [],
   "source": [
    "_W = torch.tensor([3.0,3.0],requires_grad=True) "
   ]
  },
  {
   "cell_type": "code",
   "execution_count": 19,
   "id": "bfdcdefd-f53c-43cd-a781-3ebe386eff3b",
   "metadata": {},
   "outputs": [],
   "source": [
    "_loss = (y-X@_W).T @ (y-X@_W)"
   ]
  },
  {
   "cell_type": "code",
   "execution_count": 20,
   "id": "579ab062-5062-4d4c-bc69-3e65be0c3034",
   "metadata": {},
   "outputs": [],
   "source": [
    "_loss.backward()"
   ]
  },
  {
   "cell_type": "code",
   "execution_count": 21,
   "id": "3124d0ed-9b38-4521-a286-19e474404013",
   "metadata": {},
   "outputs": [
    {
     "data": {
      "text/plain": [
       "tensor([ 209.6000, 2748.6001])"
      ]
     },
     "execution_count": 21,
     "metadata": {},
     "output_type": "execute_result"
    }
   ],
   "source": [
    "_W.grad.data"
   ]
  },
  {
   "cell_type": "markdown",
   "id": "43454101-c3dd-47cd-b8b2-61c1c7653f88",
   "metadata": {},
   "source": [
    "### 숙제 "
   ]
  },
  {
   "cell_type": "markdown",
   "id": "c765a9f6-d7ef-473f-b301-ae4d4f2ef343",
   "metadata": {},
   "source": [
    "`-` $\\frac{\\partial}{\\partial \\bf v} loss= 2{\\bf v}$ 임을 확인하라. "
   ]
  },
  {
   "cell_type": "code",
   "execution_count": 38,
   "id": "f0c99dfc-d8d9-4667-99d8-85f2dd049260",
   "metadata": {},
   "outputs": [
    {
     "data": {
      "text/plain": [
       "tensor([-18.3000, -20.5000, -20.8000, -21.4000, -23.8000])"
      ]
     },
     "execution_count": 38,
     "metadata": {},
     "output_type": "execute_result"
    }
   ],
   "source": [
    "v"
   ]
  },
  {
   "cell_type": "code",
   "execution_count": 39,
   "id": "36416d0c-642c-4a97-9996-bd43823aed17",
   "metadata": {},
   "outputs": [],
   "source": [
    "_v= torch.tensor([-18.3000, -20.5000, -20.8000, -21.4000, -23.8000],requires_grad=True)"
   ]
  },
  {
   "cell_type": "code",
   "execution_count": 40,
   "id": "7463c3b3-6156-40ea-8668-7d57923d084f",
   "metadata": {},
   "outputs": [],
   "source": [
    "_loss = _v.T @ _v "
   ]
  },
  {
   "cell_type": "code",
   "execution_count": 41,
   "id": "f9af246f-c445-4539-8b81-1cd76f6ef6bb",
   "metadata": {},
   "outputs": [],
   "source": [
    "_loss.backward() "
   ]
  },
  {
   "cell_type": "code",
   "execution_count": null,
   "id": "a89d62dc-d4c7-4cb6-8ed7-ec72f3076446",
   "metadata": {},
   "outputs": [],
   "source": [
    "_v.grad.data, v "
   ]
  }
 ],
 "metadata": {
  "kernelspec": {
   "display_name": "Python 3",
   "language": "python",
   "name": "python3"
  },
  "language_info": {
   "codemirror_mode": {
    "name": "ipython",
    "version": 3
   },
   "file_extension": ".py",
   "mimetype": "text/x-python",
   "name": "python",
   "nbconvert_exporter": "python",
   "pygments_lexer": "ipython3",
   "version": "3.8.8"
  }
 },
 "nbformat": 4,
 "nbformat_minor": 5
}
