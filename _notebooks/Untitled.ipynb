{
 "cells": [
  {
   "cell_type": "markdown",
   "id": "e4c8ea41-5636-47af-b5fd-62a5dc180184",
   "metadata": {
    "tags": []
   },
   "source": [
    "# (5주차) 10월12일 (2) \n",
    "> 손실함수의 비교, Adam, universal approximation theorem, MNIST with MLP\n",
    "\n",
    "- toc:true\n",
    "- branch: master\n",
    "- badges: true\n",
    "- comments: true\n",
    "- author: 최규빈"
   ]
  },
  {
   "cell_type": "markdown",
   "id": "2701e238-8067-4597-a4db-4399255a2659",
   "metadata": {
    "tags": []
   },
   "source": [
    "## 강의영상 "
   ]
  },
  {
   "cell_type": "markdown",
   "id": "f573ea86-82dd-46c5-9056-a7fb6122446d",
   "metadata": {},
   "source": [
    "> youtube: https://youtube.com/playlist?list=PLQqh36zP38-wKaUL2DcoyMXkPihnG-iOP"
   ]
  },
  {
   "cell_type": "markdown",
   "id": "3d9f194a-d83f-45b4-85a7-91bc33ec1bf8",
   "metadata": {},
   "source": [
    "`-` (1/8) 손실함수 (1) \n",
    "\n",
    "`-` (2/8) 손실함수 (2) \n",
    "\n",
    "`-` (3/8) 손실함수차이를 애니메이션으로 \n",
    "\n",
    "`-` (4/8) Adam\n",
    "\n",
    "`-` (5/8) Adam animation \n",
    "\n",
    "`-` (6/8) 신경망은 왜 깊어졌는가?,universal approximation theorem\n",
    "\n",
    "`-` (7/8) MNIST with MLP 풀이1 \n",
    "\n",
    "`-` (8/8) MNIST with MLP 풀이2,3"
   ]
  },
  {
   "cell_type": "markdown",
   "id": "22ae7a45-7f3d-4363-acab-adcf8c2ad2a7",
   "metadata": {
    "tags": []
   },
   "source": [
    "## 모형의 표현력: 왜 신경망은 깊어졌는가? "
   ]
  },
  {
   "cell_type": "markdown",
   "id": "d0d4dc88-95ba-4578-97cc-aa0655346f65",
   "metadata": {},
   "source": [
    "### 넓은 신경망 (하나의 은닉층 + 충분히 큰 노드를 가진 신경망) "
   ]
  },
  {
   "cell_type": "markdown",
   "id": "5c7a4c57-c78e-4c1b-a179-3e57685b3c22",
   "metadata": {},
   "source": [
    "`-` (universal approximation theorem) 하나의 은닉층과 충분히 큰 노드를 가진 신경망은 거의 모든 함수를 근사할 수 있다. "
   ]
  },
  {
   "cell_type": "markdown",
   "id": "c823bf4c-8137-4b16-bfc9-f334f2c2afee",
   "metadata": {},
   "source": [
    "`-` 핵심아이디어: (node1=선형+비선형) + (node2=선형+비선형) $\\to$ locally compact basis $\\to$ 구불구불하게 다 맞출수가 있다. \n",
    "- 선형변환을 무한번 선형변환해도 결과는 그냥 선형변환이다 $\\to$ 모든 range에 값이 있는 basis $\\to$ 표현력이 약하다. (한쪽을 맞추면 다른쪽을 맞추기 힘듬)\n",
    "- 하지만 아주 단순한 비선형변환을 섞기만 해도 표현력이 비약적으로 상승한다. "
   ]
  },
  {
   "cell_type": "markdown",
   "id": "492aefd0-26f6-42b9-91fa-b48af975466b",
   "metadata": {},
   "source": [
    "`-` 트릭은 비선형변환 "
   ]
  },
  {
   "cell_type": "markdown",
   "id": "a604e88b-2bf4-45da-ac9e-2177a68c05d2",
   "metadata": {},
   "source": [
    "### 그렇다면 왜 넓은 신경망을 쓰지 않는가? "
   ]
  },
  {
   "cell_type": "markdown",
   "id": "41105389-def1-4194-8a29-76f7ec5f4e41",
   "metadata": {},
   "source": [
    "`-` 안전한 대답 (그리고 쓸모없는 대답): 실험적으로 깊은 신경망이 더 효과적임이 입증되었다. "
   ]
  },
  {
   "cell_type": "markdown",
   "id": "9cb17995-5097-4009-833d-400e0cf59230",
   "metadata": {},
   "source": [
    "`-` 좀 더 고민을 해본 대답 \n",
    "- 넓은신경망보다 깊은신경망이 파라메터수 대비 복잡도를 더 쉽게 올릴수 있다. \n",
    "- 넓은신경망보다 깊은신경망이 오퍼피팅 이슈를 피하기 쉽다. "
   ]
  },
  {
   "cell_type": "markdown",
   "id": "e9c02736-6bad-4bac-a8a1-9f4dcca8c964",
   "metadata": {},
   "source": [
    "`-` 내 생각 \n",
    "- 깊은 신경망은 계층적인 모형이다. \n",
    "- 즉 깊은 신경망은 여러스케일로 자료를 관찰한다. "
   ]
  },
  {
   "cell_type": "markdown",
   "id": "affdaabc-879a-4454-b484-ec27bacf4f20",
   "metadata": {},
   "source": [
    "## Pytoch MLP (MNIST 3,7)"
   ]
  },
  {
   "cell_type": "code",
   "execution_count": 59,
   "id": "2686dba8-0a1b-44c1-8413-da07e9b156c8",
   "metadata": {},
   "outputs": [],
   "source": [
    "import torch \n",
    "from fastai.vision.all import * "
   ]
  },
  {
   "cell_type": "code",
   "execution_count": 60,
   "id": "6d6e35b5-231a-4183-9d30-7f54ad0ae21e",
   "metadata": {},
   "outputs": [],
   "source": [
    "import graphviz"
   ]
  },
  {
   "cell_type": "code",
   "execution_count": 61,
   "id": "9b7bbed8-91a6-42be-98bc-f4e8628eb1c4",
   "metadata": {},
   "outputs": [],
   "source": [
    "def gv(s): return graphviz.Source('digraph G{ rankdir=\"LR\"'+ s + ';}')"
   ]
  },
  {
   "cell_type": "markdown",
   "id": "58f7e51a-63de-4abc-821b-f425f6a78033",
   "metadata": {},
   "source": [
    "### data "
   ]
  },
  {
   "cell_type": "markdown",
   "id": "fc24a0cc-4dc2-40da-81b0-89943a01057f",
   "metadata": {},
   "source": [
    "`-` download data "
   ]
  },
  {
   "cell_type": "code",
   "execution_count": 62,
   "id": "ccd655ea-b8d1-4dac-8df0-f9c52b564504",
   "metadata": {},
   "outputs": [],
   "source": [
    "path = untar_data(URLs.MNIST_SAMPLE)"
   ]
  },
  {
   "cell_type": "code",
   "execution_count": 63,
   "id": "427d1582-74de-41e4-a071-2d9b7a68ca94",
   "metadata": {},
   "outputs": [
    {
     "data": {
      "text/plain": [
       "(#3) [Path('/home/cgb2/.fastai/data/mnist_sample/labels.csv'),Path('/home/cgb2/.fastai/data/mnist_sample/valid'),Path('/home/cgb2/.fastai/data/mnist_sample/train')]"
      ]
     },
     "execution_count": 63,
     "metadata": {},
     "output_type": "execute_result"
    }
   ],
   "source": [
    "path.ls()"
   ]
  },
  {
   "cell_type": "markdown",
   "id": "44dbe4d0-9991-4aac-a880-7ae6b5b7140c",
   "metadata": {},
   "source": [
    "`-` list "
   ]
  },
  {
   "cell_type": "code",
   "execution_count": 64,
   "id": "84a57a12-503d-4739-b8a0-35e45c06cd37",
   "metadata": {},
   "outputs": [],
   "source": [
    "threes=(path/'train'/'3').ls()\n",
    "sevens=(path/'train'/'7').ls()"
   ]
  },
  {
   "cell_type": "markdown",
   "id": "a9bd5383-1df2-4bb4-93da-521568ec36cb",
   "metadata": {},
   "source": [
    "`-` list $\\to$ image "
   ]
  },
  {
   "cell_type": "code",
   "execution_count": 65,
   "id": "4cb7889c-1e87-44f1-8eed-cee489e878ed",
   "metadata": {},
   "outputs": [
    {
     "data": {
      "image/png": "[encoded data removed]",
      "text/plain": [
       "<PIL.PngImagePlugin.PngImageFile image mode=L size=28x28 at 0x7F17D52CD340>"
      ]
     },
     "execution_count": 65,
     "metadata": {},
     "output_type": "execute_result"
    }
   ],
   "source": [
    "Image.open(threes[4])"
   ]
  },
  {
   "cell_type": "markdown",
   "id": "d89e3f48-71b8-4dec-9962-57df1a21ade6",
   "metadata": {},
   "source": [
    "`-` image $\\to$ tensor "
   ]
  },
  {
   "cell_type": "code",
   "execution_count": 66,
   "id": "7f897861-95de-4836-a0f7-775e0da6b6f5",
   "metadata": {},
   "outputs": [
    {
     "data": {
      "text/plain": [
       "tensor([[  0,   0,   0,   0,   0,   0,   0,   0,   0,   0,   0,   0,   0,   0,\n",
       "           0,   0,   0,   0,   0,   0,   0,   0,   0,   0,   0,   0,   0,   0],\n",
       "        [  0,   0,   0,   0,   0,   0,   0,   0,   0,   0,   0,   0,   0,   0,\n",
       "           0,   0,   0,   0,   0,   0,   0,   0,   0,   0,   0,   0,   0,   0],\n",
       "        [  0,   0,   0,   0,   0,   0,   0,   0,   0,   0,   0,   0,   0,   0,\n",
       "           0,   0,   0,   0,   0,   0,   0,   0,   0,   0,   0,   0,   0,   0],\n",
       "        [  0,   0,   0,   0,   0,   0,   0,   0,   0,   0,   0,   0,   0,   0,\n",
       "           0,   0,   0,   0,   0,   0,   0,   0,   0,   0,   0,   0,   0,   0],\n",
       "        [  0,   0,   0,   0,   0,   0,   0,   0,   0,   0,   0,   0,   0,   0,\n",
       "           0,   0,   0,   0,   0,   0,   0,   0,   0,   0,   0,   0,   0,   0],\n",
       "        [  0,   0,   0,   0,   0,   0,   0, 114, 255, 228,  44,   0,   0,   0,\n",
       "           0,   0,   0,   0,   0,   0,   0,   0,   0,   0,   0,   0,   0,   0],\n",
       "        [  0,   0,   0,   0,   0,   0,   0,  38, 203, 252, 224, 169, 169, 169,\n",
       "         131,  57,  51,   0,   0,   0,   0,   0,   0,   0,   0,   0,   0,   0],\n",
       "        [  0,   0,   0,   0,   0,   0,   0,   0,   7,  81, 168, 168, 216, 252,\n",
       "         252, 252, 247, 197, 159,  47,   0,   0,   0,   0,   0,   0,   0,   0],\n",
       "        [  0,   0,   0,   0,   0,   0,   0,   0,   0,   0,   0,   0,  16,  28,\n",
       "          28, 178, 253, 252, 252, 240, 101,   0,   0,   0,   0,   0,   0,   0],\n",
       "        [  0,   0,   0,   0,   0,   0,   0,   0,   0,   0,   0,   0,   0,   0,\n",
       "           0,   0,   0,  76, 200, 250, 226,   0,   0,   0,   0,   0,   0,   0],\n",
       "        [  0,   0,   0,   0,   0,   0,   0,   0,   0,   0,   0,   0,   0,   0,\n",
       "           0,   0,   0,   0,  19, 231, 225,   0,   0,   0,   0,   0,   0,   0],\n",
       "        [  0,   0,   0,   0,   0,   0,   0,   0,   0,   0,   0,   0,   0,   0,\n",
       "           0,   0,   0,  19, 191, 252, 225,   0,   0,   0,   0,   0,   0,   0],\n",
       "        [  0,   0,   0,   0,   0,   0,   0,   0,   0,   0,   0,   0,   0,   0,\n",
       "           0,  51, 126, 231, 252, 202,  75,   0,   0,   0,   0,   0,   0,   0],\n",
       "        [  0,   0,   0,   0,   0,   0,   0,   0,   0,   0,   0,   0, 204, 253,\n",
       "         253, 253, 254, 253, 244,  75,   0,   0,   0,   0,   0,   0,   0,   0],\n",
       "        [  0,   0,   0,   0,   0,   0,   0,   0,   0,   0,   0,   0, 253, 252,\n",
       "         252, 252, 197, 121,  56,   0,   0,   0,   0,   0,   0,   0,   0,   0],\n",
       "        [  0,   0,   0,   0,   0,   0,   0,   0,   0,   0,   0,   0, 216, 252,\n",
       "         186,  56,   0,   0,   0,   0,   0,   0,   0,   0,   0,   0,   0,   0],\n",
       "        [  0,   0,   0,   0,   0,   0,   0,   0,   0,   0,   0,   0,  28, 215,\n",
       "         205,  63,   0,   0,   0,   0,   0,   0,   0,   0,   0,   0,   0,   0],\n",
       "        [  0,   0,   0,   0,   0,   0,   0,   0,   0,   0,   0,   0,   0, 101,\n",
       "         247, 253,   0,   0,   0,   0,   0,   0,   0,   0,   0,   0,   0,   0],\n",
       "        [  0,   0,   0,   0,   0,   0,   0,   0,   0,   0,   0,   0,   0,   0,\n",
       "         172, 252, 101,   0,   0,   0,   0,   0,   0,   0,   0,   0,   0,   0],\n",
       "        [  0,   0,   0,   0,   0,   0,   0,   0,   0,   0,   0,   0,   0,   0,\n",
       "          57, 243, 235,  28,   0,   0,   0,   0,   0,   0,   0,   0,   0,   0],\n",
       "        [  0,   0,   0,   0,   0,   0,   0,   0,   0,   0,   0,   0,   0,   0,\n",
       "           0, 175, 253,  84,   0,   0,   0,   0,   0,   0,   0,   0,   0,   0],\n",
       "        [  0,   0,   0,   0,   0,   0,   0,   0,   0,   0,   0,   0,   0,   0,\n",
       "          23, 179, 254,  84,   0,   0,   0,   0,   0,   0,   0,   0,   0,   0],\n",
       "        [  0,   0,   0,   0,   0,   0,   0,   0,   7,  32,  57,  57, 169, 169,\n",
       "         234, 252, 247,  65,   0,   0,   0,   0,   0,   0,   0,   0,   0,   0],\n",
       "        [  0,   0,   0,   0,   0,   0,   0, 176, 204, 228, 252, 252, 253, 252,\n",
       "         252, 177, 100,   0,   0,   0,   0,   0,   0,   0,   0,   0,   0,   0],\n",
       "        [  0,   0,   0,   0,   0,   0,   0,  75, 140, 139, 177, 151, 140,  65,\n",
       "          28,   3,   0,   0,   0,   0,   0,   0,   0,   0,   0,   0,   0,   0],\n",
       "        [  0,   0,   0,   0,   0,   0,   0,   0,   0,   0,   0,   0,   0,   0,\n",
       "           0,   0,   0,   0,   0,   0,   0,   0,   0,   0,   0,   0,   0,   0],\n",
       "        [  0,   0,   0,   0,   0,   0,   0,   0,   0,   0,   0,   0,   0,   0,\n",
       "           0,   0,   0,   0,   0,   0,   0,   0,   0,   0,   0,   0,   0,   0],\n",
       "        [  0,   0,   0,   0,   0,   0,   0,   0,   0,   0,   0,   0,   0,   0,\n",
       "           0,   0,   0,   0,   0,   0,   0,   0,   0,   0,   0,   0,   0,   0]],\n",
       "       dtype=torch.uint8)"
      ]
     },
     "execution_count": 66,
     "metadata": {},
     "output_type": "execute_result"
    }
   ],
   "source": [
    "tensor(Image.open(threes[4]))"
   ]
  },
  {
   "cell_type": "markdown",
   "id": "a2a39752-eb92-4ab9-a317-bdef24af97ee",
   "metadata": {},
   "source": [
    "- 여기에서 tensor는 파이토치가 아니라 fastai에서 구현한 함수임 "
   ]
  },
  {
   "cell_type": "markdown",
   "id": "65207b48-69c2-41f0-b8cc-bdcca176d338",
   "metadata": {},
   "source": [
    "`-` 여러개의 리스트를 모두 텐서로 바꿔보자. "
   ]
  },
  {
   "cell_type": "code",
   "execution_count": 67,
   "id": "51ea3035-f2ac-4f3f-971f-a3dab7459625",
   "metadata": {},
   "outputs": [],
   "source": [
    "seven_tensor = torch.stack([tensor(Image.open(i)) for i in sevens]).float()/255\n",
    "three_tensor = torch.stack([tensor(Image.open(i)) for i in threes]).float()/255"
   ]
  },
  {
   "cell_type": "markdown",
   "id": "38863ff8-cddb-42cd-b253-5c5b3aaedbc0",
   "metadata": {},
   "source": [
    "`-` $X$와 $y$를 만들자. "
   ]
  },
  {
   "cell_type": "code",
   "execution_count": 68,
   "id": "8c873406-b1f7-49f5-a615-8a5e4f436dc0",
   "metadata": {},
   "outputs": [
    {
     "data": {
      "text/plain": [
       "(torch.Size([6265, 28, 28]), torch.Size([6131, 28, 28]))"
      ]
     },
     "execution_count": 68,
     "metadata": {},
     "output_type": "execute_result"
    }
   ],
   "source": [
    "seven_tensor.shape, three_tensor.shape"
   ]
  },
  {
   "cell_type": "code",
   "execution_count": 69,
   "id": "051a2482-6ce2-463d-ab64-bc72596ade19",
   "metadata": {},
   "outputs": [],
   "source": [
    "y=torch.tensor([0.0]*6265+ [1.0]*6131).reshape(12396,1)"
   ]
  },
  {
   "cell_type": "code",
   "execution_count": 70,
   "id": "f6c50f1f-417b-4183-8d2c-b52b8c7a006d",
   "metadata": {},
   "outputs": [],
   "source": [
    "X=torch.vstack([seven_tensor,three_tensor]).reshape(12396,-1)"
   ]
  },
  {
   "cell_type": "code",
   "execution_count": 71,
   "id": "3a2e0f20-9d53-48ce-9754-210148d1a922",
   "metadata": {},
   "outputs": [
    {
     "data": {
      "text/plain": [
       "(torch.Size([12396, 784]), torch.Size([12396, 1]))"
      ]
     },
     "execution_count": 71,
     "metadata": {},
     "output_type": "execute_result"
    }
   ],
   "source": [
    "X.shape, y.shape"
   ]
  },
  {
   "cell_type": "markdown",
   "id": "2f960920-d8ec-49e4-978f-94f930cf2b32",
   "metadata": {},
   "source": [
    "### 모형 "
   ]
  },
  {
   "cell_type": "markdown",
   "id": "0666fed9-3048-4ef2-b868-56d8abb4300a",
   "metadata": {},
   "source": [
    "${\\bf X} \\to {\\bf WX+b} \\to f({\\bf WX+b}) \\to \\dots \\to {\\bf y}$\n",
    "- ${\\bf X}=12396 \\times 784$ matrix \n",
    "- ${\\bf y}=12396 \\times 1$ (col) vector"
   ]
  },
  {
   "cell_type": "markdown",
   "id": "05219701-ef6f-4018-a996-3bf80854e352",
   "metadata": {},
   "source": [
    "`-` 모델을 어떻게 구성할것인가? \n",
    "- 아키텍처: 적당히 깊게... + 적당히 넓게... + 표현력이 충분하면서도 + 과적합은 일어나지 않도록.. (저도 잘 몰라요) \n",
    "- 손실함수: BCEloss \n",
    "- 옵티마이저: Adam "
   ]
  },
  {
   "cell_type": "markdown",
   "id": "0e2e18bb-d4a9-47d0-a42a-2e31b8b1e636",
   "metadata": {},
   "source": [
    "`-` 교재의 모형 "
   ]
  },
  {
   "cell_type": "code",
   "execution_count": 72,
   "id": "c516f347-f06a-44ec-a76e-7d8fe28c7030",
   "metadata": {},
   "outputs": [
    {
     "data": {
      "image/svg+xml": [
       "<?xml version=\"1.0\" encoding=\"UTF-8\" standalone=\"no\"?>\n",
       "<!DOCTYPE svg PUBLIC \"-//W3C//DTD SVG 1.1//EN\"\n",
       " \"http://www.w3.org/Graphics/SVG/1.1/DTD/svg11.dtd\">\n",
       "<!-- Generated by graphviz version 2.48.0 (20210717.2242)\n",
       " -->\n",
       "<!-- Title: G Pages: 1 -->\n",
       "<svg width=\"396pt\" height=\"261pt\"\n",
       " viewBox=\"0.00 0.00 396.29 261.00\" xmlns=\"http://www.w3.org/2000/svg\" xmlns:xlink=\"http://www.w3.org/1999/xlink\">\n",
       "<g id=\"graph0\" class=\"graph\" transform=\"scale(1 1) rotate(0) translate(4 257)\">\n",
       "<title>G</title>\n",
       "<polygon fill=\"white\" stroke=\"transparent\" points=\"-4,4 -4,-257 392.29,-257 392.29,4 -4,4\"/>\n",
       "<g id=\"clust1\" class=\"cluster\">\n",
       "<title>cluster_1</title>\n",
       "<polygon fill=\"lightgrey\" stroke=\"lightgrey\" points=\"8,-8 8,-245 91.59,-245 91.59,-8 8,-8\"/>\n",
       "<text text-anchor=\"middle\" x=\"49.8\" y=\"-229.8\" font-family=\"Times,serif\" font-size=\"14.00\">Layer 0</text>\n",
       "</g>\n",
       "<g id=\"clust2\" class=\"cluster\">\n",
       "<title>cluster_2</title>\n",
       "<polygon fill=\"lightgrey\" stroke=\"lightgrey\" points=\"111.59,-8 111.59,-245 230.29,-245 230.29,-8 111.59,-8\"/>\n",
       "<text text-anchor=\"middle\" x=\"170.94\" y=\"-229.8\" font-family=\"Times,serif\" font-size=\"14.00\">Layer 1: ReLU</text>\n",
       "</g>\n",
       "<g id=\"clust3\" class=\"cluster\">\n",
       "<title>cluster_3</title>\n",
       "<polygon fill=\"lightgrey\" stroke=\"lightgrey\" points=\"250.29,-89 250.29,-164 388.29,-164 388.29,-89 250.29,-89\"/>\n",
       "<text text-anchor=\"middle\" x=\"319.29\" y=\"-148.8\" font-family=\"Times,serif\" font-size=\"14.00\">Layer 2: Sigmoid</text>\n",
       "</g>\n",
       "<!-- x1 -->\n",
       "<g id=\"node1\" class=\"node\">\n",
       "<title>x1</title>\n",
       "<ellipse fill=\"none\" stroke=\"black\" cx=\"49.8\" cy=\"-196\" rx=\"27\" ry=\"18\"/>\n",
       "<text text-anchor=\"middle\" x=\"49.8\" y=\"-192.3\" font-family=\"Times,serif\" font-size=\"14.00\">x1</text>\n",
       "</g>\n",
       "<!-- node1 -->\n",
       "<g id=\"node5\" class=\"node\">\n",
       "<title>node1</title>\n",
       "<ellipse fill=\"none\" stroke=\"black\" cx=\"170.44\" cy=\"-196\" rx=\"38.99\" ry=\"18\"/>\n",
       "<text text-anchor=\"middle\" x=\"170.44\" y=\"-192.3\" font-family=\"Times,serif\" font-size=\"14.00\">node1</text>\n",
       "</g>\n",
       "<!-- x1&#45;&gt;node1 -->\n",
       "<g id=\"edge1\" class=\"edge\">\n",
       "<title>x1&#45;&gt;node1</title>\n",
       "<path fill=\"none\" stroke=\"black\" d=\"M76.83,-196C89.8,-196 105.91,-196 121.04,-196\"/>\n",
       "<polygon fill=\"black\" stroke=\"black\" points=\"121.3,-199.5 131.3,-196 121.3,-192.5 121.3,-199.5\"/>\n",
       "</g>\n",
       "<!-- node2 -->\n",
       "<g id=\"node6\" class=\"node\">\n",
       "<title>node2</title>\n",
       "<ellipse fill=\"none\" stroke=\"black\" cx=\"170.44\" cy=\"-142\" rx=\"38.99\" ry=\"18\"/>\n",
       "<text text-anchor=\"middle\" x=\"170.44\" y=\"-138.3\" font-family=\"Times,serif\" font-size=\"14.00\">node2</text>\n",
       "</g>\n",
       "<!-- x1&#45;&gt;node2 -->\n",
       "<g id=\"edge5\" class=\"edge\">\n",
       "<title>x1&#45;&gt;node2</title>\n",
       "<path fill=\"none\" stroke=\"black\" d=\"M72.56,-186.1C89.34,-178.46 112.95,-167.71 132.66,-158.74\"/>\n",
       "<polygon fill=\"black\" stroke=\"black\" points=\"134.32,-161.83 141.97,-154.5 131.42,-155.46 134.32,-161.83\"/>\n",
       "</g>\n",
       "<!-- ... -->\n",
       "<g id=\"node7\" class=\"node\">\n",
       "<title>...</title>\n",
       "<ellipse fill=\"none\" stroke=\"black\" cx=\"170.44\" cy=\"-88\" rx=\"27\" ry=\"18\"/>\n",
       "<text text-anchor=\"middle\" x=\"170.44\" y=\"-84.3\" font-family=\"Times,serif\" font-size=\"14.00\">...</text>\n",
       "</g>\n",
       "<!-- x1&#45;&gt;... -->\n",
       "<g id=\"edge9\" class=\"edge\">\n",
       "<title>x1&#45;&gt;...</title>\n",
       "<path fill=\"none\" stroke=\"black\" d=\"M66.8,-181.43C87.26,-162.81 122.83,-130.43 146.25,-109.11\"/>\n",
       "<polygon fill=\"black\" stroke=\"black\" points=\"148.65,-111.65 153.69,-102.33 143.94,-106.48 148.65,-111.65\"/>\n",
       "</g>\n",
       "<!-- node30 -->\n",
       "<g id=\"node8\" class=\"node\">\n",
       "<title>node30</title>\n",
       "<ellipse fill=\"none\" stroke=\"black\" cx=\"170.44\" cy=\"-34\" rx=\"44.69\" ry=\"18\"/>\n",
       "<text text-anchor=\"middle\" x=\"170.44\" y=\"-30.3\" font-family=\"Times,serif\" font-size=\"14.00\">node30</text>\n",
       "</g>\n",
       "<!-- x1&#45;&gt;node30 -->\n",
       "<g id=\"edge13\" class=\"edge\">\n",
       "<title>x1&#45;&gt;node30</title>\n",
       "<path fill=\"none\" stroke=\"black\" d=\"M62.61,-179.87C83.16,-151.81 125.67,-93.76 150.42,-59.97\"/>\n",
       "<polygon fill=\"black\" stroke=\"black\" points=\"153.52,-61.66 156.61,-51.52 147.87,-57.52 153.52,-61.66\"/>\n",
       "</g>\n",
       "<!-- x2 -->\n",
       "<g id=\"node2\" class=\"node\">\n",
       "<title>x2</title>\n",
       "<ellipse fill=\"none\" stroke=\"black\" cx=\"49.8\" cy=\"-142\" rx=\"27\" ry=\"18\"/>\n",
       "<text text-anchor=\"middle\" x=\"49.8\" y=\"-138.3\" font-family=\"Times,serif\" font-size=\"14.00\">x2</text>\n",
       "</g>\n",
       "<!-- x2&#45;&gt;node1 -->\n",
       "<g id=\"edge2\" class=\"edge\">\n",
       "<title>x2&#45;&gt;node1</title>\n",
       "<path fill=\"none\" stroke=\"black\" d=\"M72.56,-151.9C89.34,-159.54 112.95,-170.29 132.66,-179.26\"/>\n",
       "<polygon fill=\"black\" stroke=\"black\" points=\"131.42,-182.54 141.97,-183.5 134.32,-176.17 131.42,-182.54\"/>\n",
       "</g>\n",
       "<!-- x2&#45;&gt;node2 -->\n",
       "<g id=\"edge6\" class=\"edge\">\n",
       "<title>x2&#45;&gt;node2</title>\n",
       "<path fill=\"none\" stroke=\"black\" d=\"M76.83,-142C89.8,-142 105.91,-142 121.04,-142\"/>\n",
       "<polygon fill=\"black\" stroke=\"black\" points=\"121.3,-145.5 131.3,-142 121.3,-138.5 121.3,-145.5\"/>\n",
       "</g>\n",
       "<!-- x2&#45;&gt;... -->\n",
       "<g id=\"edge10\" class=\"edge\">\n",
       "<title>x2&#45;&gt;...</title>\n",
       "<path fill=\"none\" stroke=\"black\" d=\"M72.56,-132.1C91.04,-123.68 117.78,-111.51 138.49,-102.09\"/>\n",
       "<polygon fill=\"black\" stroke=\"black\" points=\"140.17,-105.17 147.82,-97.84 137.27,-98.8 140.17,-105.17\"/>\n",
       "</g>\n",
       "<!-- x2&#45;&gt;node30 -->\n",
       "<g id=\"edge14\" class=\"edge\">\n",
       "<title>x2&#45;&gt;node30</title>\n",
       "<path fill=\"none\" stroke=\"black\" d=\"M66.8,-127.43C86.57,-109.43 120.47,-78.57 143.87,-57.28\"/>\n",
       "<polygon fill=\"black\" stroke=\"black\" points=\"146.33,-59.77 151.37,-50.45 141.62,-54.59 146.33,-59.77\"/>\n",
       "</g>\n",
       "<!-- .. -->\n",
       "<g id=\"node3\" class=\"node\">\n",
       "<title>..</title>\n",
       "<ellipse fill=\"none\" stroke=\"black\" cx=\"49.8\" cy=\"-88\" rx=\"27\" ry=\"18\"/>\n",
       "<text text-anchor=\"middle\" x=\"49.8\" y=\"-84.3\" font-family=\"Times,serif\" font-size=\"14.00\">..</text>\n",
       "</g>\n",
       "<!-- ..&#45;&gt;node1 -->\n",
       "<g id=\"edge3\" class=\"edge\">\n",
       "<title>..&#45;&gt;node1</title>\n",
       "<path fill=\"none\" stroke=\"black\" d=\"M66.8,-102.57C86.69,-120.67 120.86,-151.78 144.27,-173.09\"/>\n",
       "<polygon fill=\"black\" stroke=\"black\" points=\"142.01,-175.77 151.76,-179.91 146.73,-170.59 142.01,-175.77\"/>\n",
       "</g>\n",
       "<!-- ..&#45;&gt;node2 -->\n",
       "<g id=\"edge7\" class=\"edge\">\n",
       "<title>..&#45;&gt;node2</title>\n",
       "<path fill=\"none\" stroke=\"black\" d=\"M72.56,-97.9C89.34,-105.54 112.95,-116.29 132.66,-125.26\"/>\n",
       "<polygon fill=\"black\" stroke=\"black\" points=\"131.42,-128.54 141.97,-129.5 134.32,-122.17 131.42,-128.54\"/>\n",
       "</g>\n",
       "<!-- ..&#45;&gt;... -->\n",
       "<g id=\"edge11\" class=\"edge\">\n",
       "<title>..&#45;&gt;...</title>\n",
       "<path fill=\"none\" stroke=\"black\" d=\"M76.83,-88C93.26,-88 114.71,-88 132.83,-88\"/>\n",
       "<polygon fill=\"black\" stroke=\"black\" points=\"133.05,-91.5 143.05,-88 133.05,-84.5 133.05,-91.5\"/>\n",
       "</g>\n",
       "<!-- ..&#45;&gt;node30 -->\n",
       "<g id=\"edge15\" class=\"edge\">\n",
       "<title>..&#45;&gt;node30</title>\n",
       "<path fill=\"none\" stroke=\"black\" d=\"M72.56,-78.1C88.88,-70.66 111.66,-60.3 131.03,-51.48\"/>\n",
       "<polygon fill=\"black\" stroke=\"black\" points=\"132.57,-54.63 140.22,-47.3 129.67,-48.26 132.57,-54.63\"/>\n",
       "</g>\n",
       "<!-- x784 -->\n",
       "<g id=\"node4\" class=\"node\">\n",
       "<title>x784</title>\n",
       "<ellipse fill=\"none\" stroke=\"black\" cx=\"49.8\" cy=\"-34\" rx=\"33.6\" ry=\"18\"/>\n",
       "<text text-anchor=\"middle\" x=\"49.8\" y=\"-30.3\" font-family=\"Times,serif\" font-size=\"14.00\">x784</text>\n",
       "</g>\n",
       "<!-- x784&#45;&gt;node1 -->\n",
       "<g id=\"edge4\" class=\"edge\">\n",
       "<title>x784&#45;&gt;node1</title>\n",
       "<path fill=\"none\" stroke=\"black\" d=\"M63.05,-50.73C83.81,-79.07 126.04,-136.74 150.59,-170.26\"/>\n",
       "<polygon fill=\"black\" stroke=\"black\" points=\"147.99,-172.63 156.72,-178.63 153.64,-168.5 147.99,-172.63\"/>\n",
       "</g>\n",
       "<!-- x784&#45;&gt;node2 -->\n",
       "<g id=\"edge8\" class=\"edge\">\n",
       "<title>x784&#45;&gt;node2</title>\n",
       "<path fill=\"none\" stroke=\"black\" d=\"M67.8,-49.47C87.74,-67.63 121.01,-97.91 144.02,-118.86\"/>\n",
       "<polygon fill=\"black\" stroke=\"black\" points=\"141.95,-121.71 151.7,-125.85 146.66,-116.53 141.95,-121.71\"/>\n",
       "</g>\n",
       "<!-- x784&#45;&gt;... -->\n",
       "<g id=\"edge12\" class=\"edge\">\n",
       "<title>x784&#45;&gt;...</title>\n",
       "<path fill=\"none\" stroke=\"black\" d=\"M75.96,-45.45C94.11,-53.72 118.74,-64.93 138.17,-73.77\"/>\n",
       "<polygon fill=\"black\" stroke=\"black\" points=\"136.95,-77.06 147.51,-78.02 139.85,-70.69 136.95,-77.06\"/>\n",
       "</g>\n",
       "<!-- x784&#45;&gt;node30 -->\n",
       "<g id=\"edge16\" class=\"edge\">\n",
       "<title>x784&#45;&gt;node30</title>\n",
       "<path fill=\"none\" stroke=\"black\" d=\"M83.85,-34C93.61,-34 104.57,-34 115.31,-34\"/>\n",
       "<polygon fill=\"black\" stroke=\"black\" points=\"115.48,-37.5 125.48,-34 115.48,-30.5 115.48,-37.5\"/>\n",
       "</g>\n",
       "<!-- y -->\n",
       "<g id=\"node9\" class=\"node\">\n",
       "<title>y</title>\n",
       "<ellipse fill=\"none\" stroke=\"black\" cx=\"319.29\" cy=\"-115\" rx=\"27\" ry=\"18\"/>\n",
       "<text text-anchor=\"middle\" x=\"319.29\" y=\"-111.3\" font-family=\"Times,serif\" font-size=\"14.00\">y</text>\n",
       "</g>\n",
       "<!-- node1&#45;&gt;y -->\n",
       "<g id=\"edge17\" class=\"edge\">\n",
       "<title>node1&#45;&gt;y</title>\n",
       "<path fill=\"none\" stroke=\"black\" d=\"M196.35,-182.26C221.97,-168.13 261.85,-146.13 288.97,-131.17\"/>\n",
       "<polygon fill=\"black\" stroke=\"black\" points=\"290.92,-134.09 297.99,-126.19 287.54,-127.96 290.92,-134.09\"/>\n",
       "</g>\n",
       "<!-- node2&#45;&gt;y -->\n",
       "<g id=\"edge18\" class=\"edge\">\n",
       "<title>node2&#45;&gt;y</title>\n",
       "<path fill=\"none\" stroke=\"black\" d=\"M206.99,-135.46C230.1,-131.21 260.11,-125.7 283.14,-121.46\"/>\n",
       "<polygon fill=\"black\" stroke=\"black\" points=\"283.98,-124.87 293.18,-119.62 282.72,-117.98 283.98,-124.87\"/>\n",
       "</g>\n",
       "<!-- ...&#45;&gt;y -->\n",
       "<g id=\"edge19\" class=\"edge\">\n",
       "<title>...&#45;&gt;y</title>\n",
       "<path fill=\"none\" stroke=\"black\" d=\"M196.68,-92.64C220.43,-97.01 256.21,-103.59 282.82,-108.48\"/>\n",
       "<polygon fill=\"black\" stroke=\"black\" points=\"282.41,-111.96 292.88,-110.33 283.68,-105.08 282.41,-111.96\"/>\n",
       "</g>\n",
       "<!-- node30&#45;&gt;y -->\n",
       "<g id=\"edge20\" class=\"edge\">\n",
       "<title>node30&#45;&gt;y</title>\n",
       "<path fill=\"none\" stroke=\"black\" d=\"M197.69,-48.48C223.37,-62.65 262.41,-84.18 289.06,-98.88\"/>\n",
       "<polygon fill=\"black\" stroke=\"black\" points=\"287.48,-102.01 297.93,-103.77 290.86,-95.88 287.48,-102.01\"/>\n",
       "</g>\n",
       "</g>\n",
       "</svg>\n"
      ],
      "text/plain": [
       "<graphviz.files.Source at 0x7f17d52cdfd0>"
      ]
     },
     "execution_count": 72,
     "metadata": {},
     "output_type": "execute_result"
    }
   ],
   "source": [
    "#collapse\n",
    "gv('''\n",
    "splines=line\n",
    "subgraph cluster_1{\n",
    "    style=filled;\n",
    "    color=lightgrey;\n",
    "    \"x1\"\n",
    "    \"x2\"\n",
    "    \"..\"\n",
    "    \"x784\"\n",
    "    label = \"Layer 0\"\n",
    "}\n",
    "subgraph cluster_2{\n",
    "    style=filled;\n",
    "    color=lightgrey;\n",
    "    \"x1\" -> \"node1\"\n",
    "    \"x2\" -> \"node1\"\n",
    "    \"..\" -> \"node1\"\n",
    "    \n",
    "    \"x784\" -> \"node1\"\n",
    "    \"x1\" -> \"node2\"\n",
    "    \"x2\" -> \"node2\"\n",
    "    \"..\" -> \"node2\"\n",
    "    \"x784\" -> \"node2\"\n",
    "    \n",
    "    \"x1\" -> \"...\"\n",
    "    \"x2\" -> \"...\"\n",
    "    \"..\" -> \"...\"\n",
    "    \"x784\" -> \"...\"\n",
    "\n",
    "    \"x1\" -> \"node30\"\n",
    "    \"x2\" -> \"node30\"\n",
    "    \"..\" -> \"node30\"\n",
    "    \"x784\" -> \"node30\"\n",
    "\n",
    "\n",
    "    label = \"Layer 1: ReLU\"\n",
    "}\n",
    "subgraph cluster_3{\n",
    "    style=filled;\n",
    "    color=lightgrey;\n",
    "    \"node1\" -> \"y\"\n",
    "    \"node2\" -> \"y\"\n",
    "    \"...\" -> \"y\"\n",
    "    \"node30\" -> \"y\"\n",
    "    label = \"Layer 2: Sigmoid\"\n",
    "}\n",
    "''')"
   ]
  },
  {
   "cell_type": "markdown",
   "id": "9d8df85d-a107-4c2e-b12c-601236144fe9",
   "metadata": {},
   "source": [
    "### 풀이1"
   ]
  },
  {
   "cell_type": "markdown",
   "id": "c6bf3317-c0cf-416b-9e9c-a833cdd011d8",
   "metadata": {},
   "source": [
    "`-` 그럼 이제 풀어보자. (아키텍처만 만들어주면 금방구현한다.) "
   ]
  },
  {
   "cell_type": "code",
   "execution_count": 73,
   "id": "3e2226c4-d79e-452b-bd94-1b1135545ff5",
   "metadata": {},
   "outputs": [],
   "source": [
    "torch.manual_seed(1)\n",
    "net = torch.nn.Sequential(\n",
    "    torch.nn.Linear(in_features=28*28, out_features=30),\n",
    "    torch.nn.ReLU(),\n",
    "    torch.nn.Linear(in_features=30, out_features=1),\n",
    "    torch.nn.Sigmoid()    \n",
    ")\n",
    "optimizer=torch.optim.Adam(net.parameters())"
   ]
  },
  {
   "cell_type": "code",
   "execution_count": 74,
   "id": "ade2a918-df20-4af6-86b8-9db8669cbfb7",
   "metadata": {},
   "outputs": [],
   "source": [
    "for epoc in range(200): \n",
    "    ## 1 \n",
    "    yhat=net(X)\n",
    "    ## 2 \n",
    "    loss= -torch.mean(y*torch.log(yhat)+(1-y)*torch.log(1-yhat)) ## BCEloss\n",
    "    ## 3 \n",
    "    loss.backward()\n",
    "    ## 4 \n",
    "    optimizer.step()\n",
    "    net.zero_grad()"
   ]
  },
  {
   "cell_type": "code",
   "execution_count": 75,
   "id": "542ffc31-0022-439f-ba0e-3018a38918f8",
   "metadata": {},
   "outputs": [
    {
     "data": {
      "text/plain": [
       "[Parameter containing:\n",
       " tensor([[ 0.0184, -0.0158, -0.0069,  ...,  0.0068, -0.0041,  0.0025],\n",
       "         [-0.0274, -0.0224, -0.0309,  ..., -0.0029,  0.0013, -0.0167],\n",
       "         [ 0.0282, -0.0095, -0.0340,  ..., -0.0141,  0.0056, -0.0335],\n",
       "         ...,\n",
       "         [ 0.0267,  0.0186, -0.0326,  ...,  0.0047, -0.0072, -0.0301],\n",
       "         [-0.0190,  0.0291,  0.0221,  ...,  0.0067,  0.0206,  0.0151],\n",
       "         [ 0.0226,  0.0331,  0.0182,  ...,  0.0150,  0.0278, -0.0073]],\n",
       "        requires_grad=True),\n",
       " Parameter containing:\n",
       " tensor([-0.0098,  0.0315,  0.0363, -0.0093,  0.1433,  0.0175,  0.0139, -0.0237,\n",
       "          0.0323,  0.0351, -0.0125,  0.0443,  0.0176,  0.0745,  0.0098,  0.0042,\n",
       "          0.0361,  0.0394,  0.0534,  0.0175,  0.0567,  0.0148,  0.0459,  0.0648,\n",
       "          0.0009, -0.0279,  0.0972,  0.0478,  0.0612,  0.0504],\n",
       "        requires_grad=True),\n",
       " Parameter containing:\n",
       " tensor([[ 0.2154,  0.1926,  0.2019,  0.1671, -0.1840, -0.0726, -0.1608,  0.1046,\n",
       "          -0.2522, -0.2444,  0.1257, -0.1815,  0.1002, -0.0963, -0.3047,  0.1256,\n",
       "           0.1862,  0.2499, -0.1381,  0.2051, -0.2633,  0.1915, -0.1853, -0.1719,\n",
       "           0.1156,  0.1573, -0.1129,  0.1308, -0.1625, -0.1472]],\n",
       "        requires_grad=True),\n",
       " Parameter containing:\n",
       " tensor([-0.1153], requires_grad=True)]"
      ]
     },
     "execution_count": 75,
     "metadata": {},
     "output_type": "execute_result"
    }
   ],
   "source": [
    "list(net.parameters())"
   ]
  },
  {
   "cell_type": "code",
   "execution_count": 76,
   "id": "6414c40e-b36e-41a3-9f10-2087801b3402",
   "metadata": {},
   "outputs": [
    {
     "data": {
      "text/plain": [
       "[<matplotlib.lines.Line2D at 0x7f1809b322b0>]"
      ]
     },
     "execution_count": 76,
     "metadata": {},
     "output_type": "execute_result"
    },
    {
     "data": {
      "image/png": "[encoded data removed]",
      "text/plain": [
       "<Figure size 432x288 with 1 Axes>"
      ]
     },
     "metadata": {
      "needs_background": "light"
     },
     "output_type": "display_data"
    }
   ],
   "source": [
    "plt.plot(y)\n",
    "plt.plot(yhat.data,'.')"
   ]
  },
  {
   "cell_type": "code",
   "execution_count": 77,
   "id": "5b4f7a1e-3529-4ac6-9b6c-232289cb418b",
   "metadata": {},
   "outputs": [],
   "source": [
    "ypred=yhat>0.5 "
   ]
  },
  {
   "cell_type": "code",
   "execution_count": 78,
   "id": "a597cd22-a502-412b-b940-eb5650ea38d5",
   "metadata": {},
   "outputs": [
    {
     "data": {
      "text/plain": [
       "tensor([0.9893])"
      ]
     },
     "execution_count": 78,
     "metadata": {},
     "output_type": "execute_result"
    }
   ],
   "source": [
    "sum(ypred==y)/12396"
   ]
  },
  {
   "cell_type": "markdown",
   "id": "25b0561f-8e30-47c3-9ba3-43e0848bebcf",
   "metadata": {
    "tags": []
   },
   "source": [
    "### 풀이2: torch에 내장된 손실함수 이용 "
   ]
  },
  {
   "cell_type": "code",
   "execution_count": 79,
   "id": "7aab8508-6f6d-43e7-a048-83224d56ab21",
   "metadata": {},
   "outputs": [],
   "source": [
    "torch.manual_seed(1)\n",
    "net = torch.nn.Sequential(\n",
    "    torch.nn.Linear(in_features=28*28, out_features=30),\n",
    "    torch.nn.ReLU(),\n",
    "    torch.nn.Linear(in_features=30, out_features=1),\n",
    "    #torch.nn.Sigmoid()    \n",
    ")\n",
    "loss_fn=torch.nn.BCEWithLogitsLoss()\n",
    "optimizer=torch.optim.Adam(net.parameters())"
   ]
  },
  {
   "cell_type": "code",
   "execution_count": 80,
   "id": "63b267fb-41f3-4d6c-bf63-fe2db8fa15a2",
   "metadata": {},
   "outputs": [],
   "source": [
    "for epoc in range(200): \n",
    "    ## 1 \n",
    "    yhat=net(X)\n",
    "    ## 2 \n",
    "    loss= loss_fn(yhat,y) ## BCEloss\n",
    "    ## 3 \n",
    "    loss.backward()\n",
    "    ## 4 \n",
    "    optimizer.step()\n",
    "    net.zero_grad()"
   ]
  },
  {
   "cell_type": "code",
   "execution_count": 81,
   "id": "226bebe2-3f8d-4556-8272-48d7b03cac1b",
   "metadata": {},
   "outputs": [
    {
     "data": {
      "text/plain": [
       "[Parameter containing:\n",
       " tensor([[ 0.0184, -0.0158, -0.0069,  ...,  0.0068, -0.0041,  0.0025],\n",
       "         [-0.0274, -0.0224, -0.0309,  ..., -0.0029,  0.0013, -0.0167],\n",
       "         [ 0.0282, -0.0095, -0.0340,  ..., -0.0141,  0.0056, -0.0335],\n",
       "         ...,\n",
       "         [ 0.0267,  0.0186, -0.0326,  ...,  0.0047, -0.0072, -0.0301],\n",
       "         [-0.0190,  0.0291,  0.0221,  ...,  0.0067,  0.0206,  0.0151],\n",
       "         [ 0.0226,  0.0331,  0.0182,  ...,  0.0150,  0.0278, -0.0073]],\n",
       "        requires_grad=True),\n",
       " Parameter containing:\n",
       " tensor([-0.0098,  0.0315,  0.0363, -0.0093,  0.1433,  0.0175,  0.0139, -0.0237,\n",
       "          0.0323,  0.0351, -0.0125,  0.0443,  0.0176,  0.0745,  0.0098,  0.0042,\n",
       "          0.0361,  0.0394,  0.0534,  0.0175,  0.0567,  0.0148,  0.0459,  0.0648,\n",
       "          0.0009, -0.0279,  0.0972,  0.0478,  0.0612,  0.0504],\n",
       "        requires_grad=True),\n",
       " Parameter containing:\n",
       " tensor([[ 0.2154,  0.1926,  0.2019,  0.1671, -0.1840, -0.0726, -0.1608,  0.1046,\n",
       "          -0.2522, -0.2444,  0.1257, -0.1815,  0.1002, -0.0963, -0.3047,  0.1256,\n",
       "           0.1862,  0.2499, -0.1381,  0.2051, -0.2633,  0.1915, -0.1853, -0.1719,\n",
       "           0.1156,  0.1573, -0.1129,  0.1308, -0.1625, -0.1472]],\n",
       "        requires_grad=True),\n",
       " Parameter containing:\n",
       " tensor([-0.1153], requires_grad=True)]"
      ]
     },
     "execution_count": 81,
     "metadata": {},
     "output_type": "execute_result"
    }
   ],
   "source": [
    "list(net.parameters())"
   ]
  },
  {
   "cell_type": "code",
   "execution_count": 82,
   "id": "bc07dbaf-bca4-4d28-a78a-dd19c5a61d0f",
   "metadata": {},
   "outputs": [
    {
     "data": {
      "text/plain": [
       "[<matplotlib.lines.Line2D at 0x7f180998d100>]"
      ]
     },
     "execution_count": 82,
     "metadata": {},
     "output_type": "execute_result"
    },
    {
     "data": {
      "image/png": "[encoded data removed]",
      "text/plain": [
       "<Figure size 432x288 with 1 Axes>"
      ]
     },
     "metadata": {
      "needs_background": "light"
     },
     "output_type": "display_data"
    }
   ],
   "source": [
    "plt.plot(y)\n",
    "plt.plot(yhat.data,'.')"
   ]
  },
  {
   "cell_type": "code",
   "execution_count": 83,
   "id": "e02823d8-fbb9-477a-942c-70918c897359",
   "metadata": {},
   "outputs": [
    {
     "data": {
      "text/plain": [
       "[<matplotlib.lines.Line2D at 0x7f1809969460>]"
      ]
     },
     "execution_count": 83,
     "metadata": {},
     "output_type": "execute_result"
    },
    {
     "data": {
      "image/png": "[encoded data removed]",
      "text/plain": [
       "<Figure size 432x288 with 1 Axes>"
      ]
     },
     "metadata": {
      "needs_background": "light"
     },
     "output_type": "display_data"
    }
   ],
   "source": [
    "f=torch.nn.Sigmoid()\n",
    "plt.plot(y)\n",
    "plt.plot(f(yhat.data),'.')"
   ]
  },
  {
   "cell_type": "markdown",
   "id": "deca4d97-cd8b-45f9-99d1-8efb80850f21",
   "metadata": {
    "tags": []
   },
   "source": [
    "### 풀이3: torch에 내장된 손실함수 이용 + GPU"
   ]
  },
  {
   "cell_type": "code",
   "execution_count": 84,
   "id": "b1ac0b11-813c-4608-833f-746089487b73",
   "metadata": {},
   "outputs": [],
   "source": [
    "torch.manual_seed(1)\n",
    "net = torch.nn.Sequential(\n",
    "    torch.nn.Linear(in_features=28*28, out_features=30),\n",
    "    torch.nn.ReLU(),\n",
    "    torch.nn.Linear(in_features=30, out_features=1),\n",
    "    #torch.nn.Sigmoid()    \n",
    ")"
   ]
  },
  {
   "cell_type": "code",
   "execution_count": 85,
   "id": "de0c9c77-1124-4e66-9ae5-63da43a2171a",
   "metadata": {},
   "outputs": [
    {
     "data": {
      "text/plain": [
       "Sequential(\n",
       "  (0): Linear(in_features=784, out_features=30, bias=True)\n",
       "  (1): ReLU()\n",
       "  (2): Linear(in_features=30, out_features=1, bias=True)\n",
       ")"
      ]
     },
     "execution_count": 85,
     "metadata": {},
     "output_type": "execute_result"
    }
   ],
   "source": [
    "net.to(\"cuda:0\")"
   ]
  },
  {
   "cell_type": "code",
   "execution_count": 86,
   "id": "349e6eb9-ac25-4b91-8321-93de721b55a4",
   "metadata": {},
   "outputs": [],
   "source": [
    "X_gpu=X.to(\"cuda:0\")\n",
    "y_gpu=y.to(\"cuda:0\")"
   ]
  },
  {
   "cell_type": "code",
   "execution_count": 87,
   "id": "8e267bef-7a94-4ac3-8aa8-f9fecda598d6",
   "metadata": {},
   "outputs": [],
   "source": [
    "loss_fn=torch.nn.BCEWithLogitsLoss()\n",
    "optimizer=torch.optim.Adam(net.parameters())"
   ]
  },
  {
   "cell_type": "code",
   "execution_count": 88,
   "id": "63931a01-b6cf-453d-a270-a0216cdb89df",
   "metadata": {},
   "outputs": [],
   "source": [
    "for epoc in range(200): \n",
    "    ## 1 \n",
    "    yhat_gpu=net(X_gpu)\n",
    "    ## 2 \n",
    "    loss= loss_fn(yhat_gpu,y_gpu) ## BCEloss\n",
    "    ## 3 \n",
    "    loss.backward()\n",
    "    ## 4 \n",
    "    optimizer.step()\n",
    "    net.zero_grad()"
   ]
  },
  {
   "cell_type": "code",
   "execution_count": 89,
   "id": "e3ba1653-40c8-4132-a368-b922ce496dcf",
   "metadata": {},
   "outputs": [
    {
     "data": {
      "text/plain": [
       "[Parameter containing:\n",
       " tensor([[ 0.0184, -0.0158, -0.0069,  ...,  0.0068, -0.0041,  0.0025],\n",
       "         [-0.0274, -0.0224, -0.0309,  ..., -0.0029,  0.0013, -0.0167],\n",
       "         [ 0.0282, -0.0095, -0.0340,  ..., -0.0141,  0.0056, -0.0335],\n",
       "         ...,\n",
       "         [ 0.0267,  0.0186, -0.0326,  ...,  0.0047, -0.0072, -0.0301],\n",
       "         [-0.0190,  0.0291,  0.0221,  ...,  0.0067,  0.0206,  0.0151],\n",
       "         [ 0.0226,  0.0331,  0.0182,  ...,  0.0150,  0.0278, -0.0073]],\n",
       "        device='cuda:0', requires_grad=True),\n",
       " Parameter containing:\n",
       " tensor([-0.0098,  0.0315,  0.0363, -0.0093,  0.1433,  0.0175,  0.0139, -0.0237,\n",
       "          0.0323,  0.0351, -0.0125,  0.0443,  0.0176,  0.0745,  0.0098,  0.0042,\n",
       "          0.0361,  0.0394,  0.0534,  0.0175,  0.0567,  0.0148,  0.0459,  0.0648,\n",
       "          0.0009, -0.0279,  0.0972,  0.0478,  0.0612,  0.0504], device='cuda:0',\n",
       "        requires_grad=True),\n",
       " Parameter containing:\n",
       " tensor([[ 0.2154,  0.1926,  0.2019,  0.1671, -0.1840, -0.0726, -0.1608,  0.1046,\n",
       "          -0.2522, -0.2444,  0.1257, -0.1815,  0.1002, -0.0963, -0.3047,  0.1256,\n",
       "           0.1862,  0.2499, -0.1381,  0.2051, -0.2633,  0.1915, -0.1853, -0.1719,\n",
       "           0.1156,  0.1573, -0.1129,  0.1308, -0.1625, -0.1472]],\n",
       "        device='cuda:0', requires_grad=True),\n",
       " Parameter containing:\n",
       " tensor([-0.1153], device='cuda:0', requires_grad=True)]"
      ]
     },
     "execution_count": 89,
     "metadata": {},
     "output_type": "execute_result"
    }
   ],
   "source": [
    "list(net.parameters())"
   ]
  }
 ],
 "metadata": {
  "kernelspec": {
   "display_name": "Python 3",
   "language": "python",
   "name": "python3"
  },
  "language_info": {
   "codemirror_mode": {
    "name": "ipython",
    "version": 3
   },
   "file_extension": ".py",
   "mimetype": "text/x-python",
   "name": "python",
   "nbconvert_exporter": "python",
   "pygments_lexer": "ipython3",
   "version": "3.8.8"
  }
 },
 "nbformat": 4,
 "nbformat_minor": 5
}
