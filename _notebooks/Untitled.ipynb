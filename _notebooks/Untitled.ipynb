{
 "cells": [
  {
   "cell_type": "markdown",
   "id": "ec8142a2-7f85-4030-9a27-80a5c8956040",
   "metadata": {},
   "source": [
    "# (2주차) 9월9일 \n",
    "> Path, 이미지 크롤링을 통한 CNN모델 \n",
    "\n",
    "- toc:true\n",
    "- branch: master\n",
    "- badges: true\n",
    "- comments: true\n",
    "- author: 최규빈"
   ]
  },
  {
   "cell_type": "markdown",
   "id": "ebeedc28-e7b9-4e72-8979-41455b45e583",
   "metadata": {},
   "source": [
    "### import "
   ]
  },
  {
   "cell_type": "code",
   "execution_count": 1,
   "id": "c7ba8e8b-2b0e-45c3-9542-73de8cbc6d73",
   "metadata": {},
   "outputs": [],
   "source": [
    "from fastai.data.all import *\n",
    "from fastai.vision.all import * "
   ]
  },
  {
   "cell_type": "markdown",
   "id": "973f0cfb-7f6c-4452-88d5-f7f037383ccb",
   "metadata": {
    "tags": []
   },
   "source": [
    "### Path"
   ]
  },
  {
   "cell_type": "markdown",
   "id": "243abc3e-3d3f-402f-80b5-193b71026bc4",
   "metadata": {},
   "source": [
    "`-` 기능: 현재폴더, 혹은 그 하위폴더들에 속한 파일의 목록을 볼 수 있다. "
   ]
  },
  {
   "cell_type": "code",
   "execution_count": 2,
   "id": "ba8015fd-b5b5-45e0-8285-a7a3ee6ffc52",
   "metadata": {},
   "outputs": [],
   "source": [
    "path=Path() # Path클래스에서 인스턴스생성 "
   ]
  },
  {
   "cell_type": "code",
   "execution_count": 3,
   "id": "53e0dafe-9d18-4e03-af14-ea51bc57dbef",
   "metadata": {},
   "outputs": [
    {
     "data": {
      "text/plain": [
       "(#2) [Path('ghtop_images/token.png'),Path('ghtop_images/sparknb.gif')]"
      ]
     },
     "execution_count": 3,
     "metadata": {},
     "output_type": "execute_result"
    }
   ],
   "source": [
    "(path/'ghtop_images').ls()"
   ]
  },
  {
   "cell_type": "markdown",
   "id": "ce877bd4-ada3-438d-af9b-3fae51b70002",
   "metadata": {},
   "source": [
    "`-` Path(...)에서 ...에 무엇을 넣느냐에 따라 원하는 경로를 설정할 수 있다. "
   ]
  },
  {
   "cell_type": "code",
   "execution_count": 4,
   "id": "48f9bcc4-0c36-4a6d-9de1-95456a722b04",
   "metadata": {},
   "outputs": [],
   "source": [
    "path=Path('/home')"
   ]
  },
  {
   "cell_type": "code",
   "execution_count": 5,
   "id": "2c365bf6-9b40-4ca2-bb55-88848aa9fadb",
   "metadata": {},
   "outputs": [
    {
     "data": {
      "text/plain": [
       "(#1) [Path('/home/cgb4')]"
      ]
     },
     "execution_count": 5,
     "metadata": {},
     "output_type": "execute_result"
    }
   ],
   "source": [
    "path.ls()"
   ]
  },
  {
   "cell_type": "markdown",
   "id": "7f9ad477-4bdc-481b-918a-6d466e84f949",
   "metadata": {},
   "source": [
    "`-` 폴더를 만들수 있다. "
   ]
  },
  {
   "cell_type": "code",
   "execution_count": 6,
   "id": "2b4b48a3-9ad7-4773-9e06-a6b40ca66f2b",
   "metadata": {},
   "outputs": [],
   "source": [
    "path=Path() "
   ]
  },
  {
   "cell_type": "code",
   "execution_count": 7,
   "id": "9e08e81e-88ae-4d82-87e5-066e4eb4d999",
   "metadata": {},
   "outputs": [],
   "source": [
    "(path/'asdf').mkdir()"
   ]
  },
  {
   "cell_type": "code",
   "execution_count": 8,
   "id": "6cb1c39c-ebec-465c-a154-84ac852afaa4",
   "metadata": {},
   "outputs": [
    {
     "data": {
      "text/plain": [
       "(#0) []"
      ]
     },
     "execution_count": 8,
     "metadata": {},
     "output_type": "execute_result"
    }
   ],
   "source": [
    "(path/'asdf').ls()"
   ]
  },
  {
   "cell_type": "markdown",
   "id": "042fce0d-378c-4da3-b74b-58ef7e86d8eb",
   "metadata": {},
   "source": [
    "`-` 이미 폴더가 존재할 때는 아래와 같이 에러가 발생"
   ]
  },
  {
   "cell_type": "code",
   "execution_count": 9,
   "id": "de660e2f-3cf9-48ff-addb-1da90873cce3",
   "metadata": {},
   "outputs": [
    {
     "ename": "FileExistsError",
     "evalue": "[Errno 17] File exists: 'asdf'",
     "output_type": "error",
     "traceback": [
      "\u001b[0;31m---------------------------------------------------------------------------\u001b[0m",
      "\u001b[0;31mFileExistsError\u001b[0m                           Traceback (most recent call last)",
      "\u001b[0;32m/tmp/ipykernel_214002/283275367.py\u001b[0m in \u001b[0;36m<module>\u001b[0;34m\u001b[0m\n\u001b[0;32m----> 1\u001b[0;31m \u001b[0;34m(\u001b[0m\u001b[0mpath\u001b[0m\u001b[0;34m/\u001b[0m\u001b[0;34m'asdf'\u001b[0m\u001b[0;34m)\u001b[0m\u001b[0;34m.\u001b[0m\u001b[0mmkdir\u001b[0m\u001b[0;34m(\u001b[0m\u001b[0;34m)\u001b[0m\u001b[0;34m\u001b[0m\u001b[0;34m\u001b[0m\u001b[0m\n\u001b[0m",
      "\u001b[0;32m~/anaconda3/envs/bda2021/lib/python3.8/pathlib.py\u001b[0m in \u001b[0;36mmkdir\u001b[0;34m(self, mode, parents, exist_ok)\u001b[0m\n\u001b[1;32m   1286\u001b[0m             \u001b[0mself\u001b[0m\u001b[0;34m.\u001b[0m\u001b[0m_raise_closed\u001b[0m\u001b[0;34m(\u001b[0m\u001b[0;34m)\u001b[0m\u001b[0;34m\u001b[0m\u001b[0;34m\u001b[0m\u001b[0m\n\u001b[1;32m   1287\u001b[0m         \u001b[0;32mtry\u001b[0m\u001b[0;34m:\u001b[0m\u001b[0;34m\u001b[0m\u001b[0;34m\u001b[0m\u001b[0m\n\u001b[0;32m-> 1288\u001b[0;31m             \u001b[0mself\u001b[0m\u001b[0;34m.\u001b[0m\u001b[0m_accessor\u001b[0m\u001b[0;34m.\u001b[0m\u001b[0mmkdir\u001b[0m\u001b[0;34m(\u001b[0m\u001b[0mself\u001b[0m\u001b[0;34m,\u001b[0m \u001b[0mmode\u001b[0m\u001b[0;34m)\u001b[0m\u001b[0;34m\u001b[0m\u001b[0;34m\u001b[0m\u001b[0m\n\u001b[0m\u001b[1;32m   1289\u001b[0m         \u001b[0;32mexcept\u001b[0m \u001b[0mFileNotFoundError\u001b[0m\u001b[0;34m:\u001b[0m\u001b[0;34m\u001b[0m\u001b[0;34m\u001b[0m\u001b[0m\n\u001b[1;32m   1290\u001b[0m             \u001b[0;32mif\u001b[0m \u001b[0;32mnot\u001b[0m \u001b[0mparents\u001b[0m \u001b[0;32mor\u001b[0m \u001b[0mself\u001b[0m\u001b[0;34m.\u001b[0m\u001b[0mparent\u001b[0m \u001b[0;34m==\u001b[0m \u001b[0mself\u001b[0m\u001b[0;34m:\u001b[0m\u001b[0;34m\u001b[0m\u001b[0;34m\u001b[0m\u001b[0m\n",
      "\u001b[0;31mFileExistsError\u001b[0m: [Errno 17] File exists: 'asdf'"
     ]
    }
   ],
   "source": [
    "(path/'asdf').mkdir()"
   ]
  },
  {
   "cell_type": "code",
   "execution_count": 10,
   "id": "0f0dea8c-1f57-4f1c-bba0-2257c1f87bd3",
   "metadata": {},
   "outputs": [],
   "source": [
    "(path/'asdf').mkdir(exist_ok=True)"
   ]
  },
  {
   "cell_type": "markdown",
   "id": "2aacaadf-6108-4088-9e25-c3815413d1e0",
   "metadata": {},
   "source": [
    "`-` 생성한 폴더를 지우는 방법 "
   ]
  },
  {
   "cell_type": "code",
   "execution_count": 11,
   "id": "f9a451ce-49fb-427a-b939-bda29e82130d",
   "metadata": {},
   "outputs": [],
   "source": [
    "(path/'asdf').rmdir()"
   ]
  },
  {
   "cell_type": "markdown",
   "id": "82387806-0e99-4e6b-918e-4d875e8dc851",
   "metadata": {},
   "source": [
    "### import some functions "
   ]
  },
  {
   "cell_type": "markdown",
   "id": "81e946f5-b23a-40a6-81d8-50dec7f5789c",
   "metadata": {},
   "source": [
    "`-` ref: https://github.com/fastai/fastbook/blob/master/utils.py"
   ]
  },
  {
   "cell_type": "code",
   "execution_count": 12,
   "id": "925adf43-1dbd-432e-99af-5a9fcf7b0a1e",
   "metadata": {},
   "outputs": [],
   "source": [
    "def search_images_ddg(key,max_n=200):\n",
    "    \"\"\"Search for 'key' with DuckDuckGo and return a unique urls of 'max_n' images\n",
    "       (Adopted from https://github.com/deepanprabhu/duckduckgo-images-api)\n",
    "    \"\"\"\n",
    "    url        = 'https://duckduckgo.com/'\n",
    "    params     = {'q':key}\n",
    "    res        = requests.post(url,data=params)\n",
    "    searchObj  = re.search(r'vqd=([\\d-]+)\\&',res.text)\n",
    "    if not searchObj: print('Token Parsing Failed !'); return\n",
    "    requestUrl = url + 'i.js'\n",
    "    headers    = {'User-Agent': 'Mozilla/5.0 (X11; Ubuntu; Linux x86_64; rv:71.0) Gecko/20100101 Firefox/71.0'}\n",
    "    params     = (('l','us-en'),('o','json'),('q',key),('vqd',searchObj.group(1)),('f',',,,'),('p','1'),('v7exp','a'))\n",
    "    urls       = []\n",
    "    while True:\n",
    "        try:\n",
    "            res  = requests.get(requestUrl,headers=headers,params=params)\n",
    "            data = json.loads(res.text)\n",
    "            for obj in data['results']:\n",
    "                urls.append(obj['image'])\n",
    "                max_n = max_n - 1\n",
    "                if max_n < 1: return L(set(urls))     # dedupe\n",
    "            if 'next' not in data: return L(set(urls))\n",
    "            requestUrl = url + data['next']\n",
    "        except:\n",
    "            pass"
   ]
  },
  {
   "cell_type": "markdown",
   "id": "eefbb788-5d4c-4267-afb8-ea31231712a4",
   "metadata": {},
   "source": [
    "- 검색어를 입력하면 url을 반환해주는 함수 "
   ]
  },
  {
   "cell_type": "markdown",
   "id": "ec2c1a6c-67f7-4cb1-8f93-e09d27681292",
   "metadata": {},
   "source": [
    "### 이미지 크롤링 "
   ]
  },
  {
   "cell_type": "markdown",
   "id": "e3e25771-2bcd-4f9a-8284-f9fae5ea19d8",
   "metadata": {},
   "source": [
    "`-` 크롤링은 (1) 검색 (2) 이미지주소를 찾음 (3) 해당주소로 이동하여 저장하는 과정을 반복하면 된다. "
   ]
  },
  {
   "cell_type": "markdown",
   "id": "67d79f89-f947-4578-8155-af8c1ccf17b0",
   "metadata": {},
   "source": [
    "`-` 주소들의 리스트는 search_images_ddg() 함수를 사용하여 얻을 수 있다. "
   ]
  },
  {
   "cell_type": "code",
   "execution_count": 13,
   "id": "50575589-fe63-40ea-92d2-c6cd353e9ccb",
   "metadata": {},
   "outputs": [
    {
     "data": {
      "text/plain": [
       "(#1) ['https://upload.wikimedia.org/wikipedia/commons/3/33/IU_at_%22Midnight_Runners%22_VIP_premiere%2C_7_August_2017_03.jpg']"
      ]
     },
     "execution_count": 13,
     "metadata": {},
     "output_type": "execute_result"
    }
   ],
   "source": [
    "search_images_ddg('iu',max_n=10)"
   ]
  },
  {
   "cell_type": "markdown",
   "id": "9310550a-7511-4d67-8199-c30c14325847",
   "metadata": {},
   "source": [
    "`-` url을 이용하여 이미지를 저장하자. "
   ]
  },
  {
   "cell_type": "code",
   "execution_count": 16,
   "id": "d7083207-df7e-4ba1-a2fb-1dea872c2bb7",
   "metadata": {},
   "outputs": [],
   "source": [
    "download_images(dest=Path(),urls=search_images_ddg('iu',max_n=1))"
   ]
  },
  {
   "cell_type": "code",
   "execution_count": 14,
   "id": "d7cf971f-8041-425d-8953-b178975f5171",
   "metadata": {},
   "outputs": [
    {
     "data": {
      "text/plain": [
       "\u001b[0;31mSignature:\u001b[0m\n",
       "\u001b[0mdownload_images\u001b[0m\u001b[0;34m(\u001b[0m\u001b[0;34m\u001b[0m\n",
       "\u001b[0;34m\u001b[0m    \u001b[0mdest\u001b[0m\u001b[0;34m,\u001b[0m\u001b[0;34m\u001b[0m\n",
       "\u001b[0;34m\u001b[0m    \u001b[0murl_file\u001b[0m\u001b[0;34m=\u001b[0m\u001b[0;32mNone\u001b[0m\u001b[0;34m,\u001b[0m\u001b[0;34m\u001b[0m\n",
       "\u001b[0;34m\u001b[0m    \u001b[0murls\u001b[0m\u001b[0;34m=\u001b[0m\u001b[0;32mNone\u001b[0m\u001b[0;34m,\u001b[0m\u001b[0;34m\u001b[0m\n",
       "\u001b[0;34m\u001b[0m    \u001b[0mmax_pics\u001b[0m\u001b[0;34m=\u001b[0m\u001b[0;36m1000\u001b[0m\u001b[0;34m,\u001b[0m\u001b[0;34m\u001b[0m\n",
       "\u001b[0;34m\u001b[0m    \u001b[0mn_workers\u001b[0m\u001b[0;34m=\u001b[0m\u001b[0;36m8\u001b[0m\u001b[0;34m,\u001b[0m\u001b[0;34m\u001b[0m\n",
       "\u001b[0;34m\u001b[0m    \u001b[0mtimeout\u001b[0m\u001b[0;34m=\u001b[0m\u001b[0;36m4\u001b[0m\u001b[0;34m,\u001b[0m\u001b[0;34m\u001b[0m\n",
       "\u001b[0;34m\u001b[0m    \u001b[0mpreserve_filename\u001b[0m\u001b[0;34m=\u001b[0m\u001b[0;32mFalse\u001b[0m\u001b[0;34m,\u001b[0m\u001b[0;34m\u001b[0m\n",
       "\u001b[0;34m\u001b[0m\u001b[0;34m)\u001b[0m\u001b[0;34m\u001b[0m\u001b[0;34m\u001b[0m\u001b[0m\n",
       "\u001b[0;31mDocstring:\u001b[0m Download images listed in text file `url_file` to path `dest`, at most `max_pics`\n",
       "\u001b[0;31mFile:\u001b[0m      ~/anaconda3/envs/bda2021/lib/python3.8/site-packages/fastai/vision/utils.py\n",
       "\u001b[0;31mType:\u001b[0m      function\n"
      ]
     },
     "metadata": {},
     "output_type": "display_data"
    }
   ],
   "source": [
    "download_images?"
   ]
  },
  {
   "cell_type": "code",
   "execution_count": null,
   "id": "f5c5ed3e-f37b-4187-8591-9a4b99ac5705",
   "metadata": {},
   "outputs": [],
   "source": []
  }
 ],
 "metadata": {
  "kernelspec": {
   "display_name": "Python 3 (ipykernel)",
   "language": "python",
   "name": "python3"
  },
  "language_info": {
   "codemirror_mode": {
    "name": "ipython",
    "version": 3
   },
   "file_extension": ".py",
   "mimetype": "text/x-python",
   "name": "python",
   "nbconvert_exporter": "python",
   "pygments_lexer": "ipython3",
   "version": "3.8.11"
  }
 },
 "nbformat": 4,
 "nbformat_minor": 5
}
