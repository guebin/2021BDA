{
 "cells": [
  {
   "cell_type": "code",
   "execution_count": null,
   "id": "fb47fa7b-1a41-4d52-b472-5f6344f243b1",
   "metadata": {},
   "outputs": [],
   "source": [
    "a=[]\n",
    "x1=[1,2,3]\n",
    "x2=[2,3,4]\n",
    "for in i in [1,2]:\n",
    "    a=a+[x1]"
   ]
  },
  {
   "cell_type": "code",
   "execution_count": 3,
   "id": "d1f6b5b3-1bf3-44e2-a375-16794453c92a",
   "metadata": {},
   "outputs": [
    {
     "data": {
      "text/plain": [
       "[[1, 2, 3], [2, 3, 4]]"
      ]
     },
     "execution_count": 3,
     "metadata": {},
     "output_type": "execute_result"
    }
   ],
   "source": [
    "a"
   ]
  },
  {
   "cell_type": "code",
   "execution_count": 6,
   "id": "12a3bb6f-4ff0-4725-895a-7312194d17c0",
   "metadata": {},
   "outputs": [
    {
     "data": {
      "text/plain": [
       "25.0"
      ]
     },
     "execution_count": 6,
     "metadata": {},
     "output_type": "execute_result"
    }
   ],
   "source": [
    "eval(\"(5 * 10) / 2\")"
   ]
  },
  {
   "cell_type": "code",
   "execution_count": 7,
   "id": "accdf60a-a47f-49da-b82a-b839a9a9aaa3",
   "metadata": {},
   "outputs": [
    {
     "data": {
      "text/plain": [
       "[1, 2, 3, 2, 3, 4]"
      ]
     },
     "execution_count": 7,
     "metadata": {},
     "output_type": "execute_result"
    }
   ],
   "source": [
    "eval('x1+x2')"
   ]
  },
  {
   "cell_type": "code",
   "execution_count": null,
   "id": "3a4230f8-7aae-439f-b267-4f59211f7d01",
   "metadata": {},
   "outputs": [],
   "source": []
  }
 ],
 "metadata": {
  "kernelspec": {
   "display_name": "Python 3 (ipykernel)",
   "language": "python",
   "name": "python3"
  },
  "language_info": {
   "codemirror_mode": {
    "name": "ipython",
    "version": 3
   },
   "file_extension": ".py",
   "mimetype": "text/x-python",
   "name": "python",
   "nbconvert_exporter": "python",
   "pygments_lexer": "ipython3",
   "version": "3.8.11"
  }
 },
 "nbformat": 4,
 "nbformat_minor": 5
}
