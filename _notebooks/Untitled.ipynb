{
 "cells": [
  {
   "cell_type": "markdown",
   "id": "f3553b32-b994-44a7-baea-e85d57f2ce34",
   "metadata": {
    "tags": []
   },
   "source": [
    "# (7주차) 10월26일\n",
    "> Pytorch CNN (MNIST 3,7)\n",
    "\n",
    "- toc:true\n",
    "- branch: master\n",
    "- badges: true\n",
    "- comments: true\n",
    "- author: 최규빈"
   ]
  },
  {
   "cell_type": "markdown",
   "id": "1dfc24ec-54df-423e-afcc-d2f66b52531b",
   "metadata": {},
   "source": [
    "### 강의영상 "
   ]
  },
  {
   "cell_type": "markdown",
   "id": "0a754c63-4fd5-42eb-a483-4dc7dd7c008c",
   "metadata": {},
   "source": [
    "> youtube: https://youtube.com/playlist?list=PLQqh36zP38-z7YonYSeq4PyhLt-ab37OJ"
   ]
  },
  {
   "cell_type": "markdown",
   "id": "bf5f2719-640e-4366-9fe5-9d71a2240b74",
   "metadata": {},
   "source": [
    "`-` (1/2) CNN 모형구축  (MNIST 3,7)"
   ]
  },
  {
   "cell_type": "markdown",
   "id": "3b5196df-6542-4b82-a03f-ee66bfcd3609",
   "metadata": {},
   "source": [
    "`-` (2/2) 과제설명 "
   ]
  },
  {
   "cell_type": "markdown",
   "id": "84609931-b98d-40d2-9ca9-912e3f98f3ca",
   "metadata": {},
   "source": [
    "### import "
   ]
  },
  {
   "cell_type": "code",
   "execution_count": 86,
   "id": "94447313-55da-4ba4-ae45-96e96a7e8da1",
   "metadata": {},
   "outputs": [],
   "source": [
    "import torch \n",
    "from fastai.vision.all import * "
   ]
  },
  {
   "cell_type": "code",
   "execution_count": 87,
   "id": "0bedb3e2-9017-4089-83b3-9af34bba047a",
   "metadata": {},
   "outputs": [],
   "source": [
    "import graphviz"
   ]
  },
  {
   "cell_type": "code",
   "execution_count": 88,
   "id": "7b2e79da-4995-4036-b098-57da5da84da1",
   "metadata": {},
   "outputs": [],
   "source": [
    "def gv(s): return graphviz.Source('digraph G{ rankdir=\"LR\"'+ s + ';}')"
   ]
  },
  {
   "cell_type": "markdown",
   "id": "a259f5e0-92b3-4afc-a15d-55128ddf019f",
   "metadata": {},
   "source": [
    "### data "
   ]
  },
  {
   "cell_type": "markdown",
   "id": "dc8f2f0b-d2b0-4183-8dba-79e3365c0b17",
   "metadata": {},
   "source": [
    "`-` download data "
   ]
  },
  {
   "cell_type": "code",
   "execution_count": 89,
   "id": "eefa10af-44a1-4dc1-b8e7-99782aa35838",
   "metadata": {},
   "outputs": [],
   "source": [
    "path = untar_data(URLs.MNIST_SAMPLE)"
   ]
  },
  {
   "cell_type": "code",
   "execution_count": 90,
   "id": "a3c3efc0-189f-4643-8ec7-e22bb07c5ed7",
   "metadata": {},
   "outputs": [
    {
     "data": {
      "text/plain": [
       "(#3) [Path('/home/cgb4/.fastai/data/mnist_sample/labels.csv'),Path('/home/cgb4/.fastai/data/mnist_sample/train'),Path('/home/cgb4/.fastai/data/mnist_sample/valid')]"
      ]
     },
     "execution_count": 90,
     "metadata": {},
     "output_type": "execute_result"
    }
   ],
   "source": [
    "path.ls()"
   ]
  },
  {
   "cell_type": "markdown",
   "id": "bc644873-334d-436b-9e1f-88a239b37836",
   "metadata": {},
   "source": [
    "`-` list "
   ]
  },
  {
   "cell_type": "code",
   "execution_count": 91,
   "id": "585a1726-58e6-41b4-8909-e823aa6cd06c",
   "metadata": {},
   "outputs": [],
   "source": [
    "threes=(path/'train'/'3').ls()\n",
    "sevens=(path/'train'/'7').ls()"
   ]
  },
  {
   "cell_type": "markdown",
   "id": "8d531782-2666-499c-9131-de641f256275",
   "metadata": {},
   "source": [
    "`-` list $\\to$ image "
   ]
  },
  {
   "cell_type": "code",
   "execution_count": 92,
   "id": "ef6bdd32-14ac-4024-a0e3-3347813bd0c6",
   "metadata": {},
   "outputs": [
    {
     "data": {
      "image/png": "[encoded data removed]",
      "text/plain": [
       "<PIL.PngImagePlugin.PngImageFile image mode=L size=28x28 at 0x7F41B80C0A00>"
      ]
     },
     "execution_count": 92,
     "metadata": {},
     "output_type": "execute_result"
    }
   ],
   "source": [
    "Image.open(threes[4])"
   ]
  },
  {
   "cell_type": "markdown",
   "id": "390c7430-3e09-4749-80e5-da59fbbe274c",
   "metadata": {},
   "source": [
    "`-` image $\\to$ tensor "
   ]
  },
  {
   "cell_type": "code",
   "execution_count": 93,
   "id": "57e47fe6-7218-43fb-9559-74e6245945f0",
   "metadata": {},
   "outputs": [
    {
     "data": {
      "text/plain": [
       "tensor([[  0,   0,   0,   0,   0,   0,   0,   0,   0,   0,   0,   0,   0,   0,\n",
       "           0,   0,   0,   0,   0,   0,   0,   0,   0,   0,   0,   0,   0,   0],\n",
       "        [  0,   0,   0,   0,   0,   0,   0,   0,   0,   0,   0,   0,   0,   0,\n",
       "           0,   0,   0,   0,   0,   0,   0,   0,   0,   0,   0,   0,   0,   0],\n",
       "        [  0,   0,   0,   0,   0,   0,   0,   0,   0,   0,   0,   0,   0,   0,\n",
       "           0,   0,   0,   0,   0,   0,   0,   0,   0,   0,   0,   0,   0,   0],\n",
       "        [  0,   0,   0,   0,   0,   0,   0,   0,   0,   0,   0,   0,   0,   0,\n",
       "           0,   0,   0,   0,   0,   0,   0,   0,   0,   0,   0,   0,   0,   0],\n",
       "        [  0,   0,   0,   0,   0,   0,   0,   0,   0,   0,   0,   0,   0,   0,\n",
       "           0,   0,   0,   0,   0,   0,   0,   0,   0,   0,   0,   0,   0,   0],\n",
       "        [  0,   0,   0,   0,   0,   0,   0,   0,   0,   0,   0,   1,  72, 156,\n",
       "         241, 254, 255, 188,   9,   0,   0,   0,   0,   0,   0,   0,   0,   0],\n",
       "        [  0,   0,   0,   0,   0,   0,   0,   0,   0,   0,  17, 168, 250, 232,\n",
       "         147,  79, 143, 254,  25,   0,   0,   0,   0,   0,   0,   0,   0,   0],\n",
       "        [  0,   0,   0,   0,   0,   0,   0,   0,   0, 109, 231, 164,  39,   0,\n",
       "           0,   0,  86, 251,  24,   0,   0,   0,   0,   0,   0,   0,   0,   0],\n",
       "        [  0,   0,   0,   0,   0,   0,   0,   0,   0,  81,  40,   0,   0,   0,\n",
       "           0,   4, 200, 157,   0,   0,   0,   0,   0,   0,   0,   0,   0,   0],\n",
       "        [  0,   0,   0,   0,   0,   0,   0,   0,   0,   0,   0,   0,   0,   0,\n",
       "           0,  92, 249,  27,   0,   0,   0,   0,   0,   0,   0,   0,   0,   0],\n",
       "        [  0,   0,   0,   0,   0,   0,   0,   0,   0,   0,   0,   0,   0,   0,\n",
       "           5, 221, 128,   0,   0,   0,   0,   0,   0,   0,   0,   0,   0,   0],\n",
       "        [  0,   0,   0,   0,   0,   0,   0,   0,   0,   0,   0,   0,   0,   0,\n",
       "         147, 185,  19,   0,   0,   0,   0,   0,   0,   0,   0,   0,   0,   0],\n",
       "        [  0,   0,   0,   0,   0,   0,   0,   0,   0,   0,   0,   0,   0, 137,\n",
       "         224,  20,   0,   0,   0,   0,   0,   0,   0,   0,   0,   0,   0,   0],\n",
       "        [  0,   0,   0,   0,   0,   0,   0,   0,   0,   0,   0,   0, 137, 239,\n",
       "          68,   0,   0,   0,   0,   0,   0,   0,   0,   0,   0,   0,   0,   0],\n",
       "        [  0,   0,   0,   0,   0,   0,   0,   0,   0,   0,   0,  83, 239,  95,\n",
       "           0,   0,   0,   0,   0,   0,   0,   0,   0,   0,   0,   0,   0,   0],\n",
       "        [  0,   0,   0,   0,   0,   0,   0,   0,   0,   0,  83, 245, 104,   0,\n",
       "           0,   0,   0,   0,   0,   0,   0,   0,   0,   0,   0,   0,   0,   0],\n",
       "        [  0,   0,   0,   0,   0,   0,   0,   0,   0,   0, 179, 254, 224, 217,\n",
       "         147,  36,   0,   0,   0,   0,   0,   0,   0,   0,   0,   0,   0,   0],\n",
       "        [  0,   0,   0,   0,   0,   0,   0,   0,   0,   0,  15,  44, 117, 117,\n",
       "         196, 237, 104,   7,   0,   0,   0,   0,   0,   0,   0,   0,   0,   0],\n",
       "        [  0,   0,   0,   0,   0,   0,   0,   0,   0,   0,   0,   0,   0,   0,\n",
       "           6, 117, 246,  95,   0,   0,   0,   0,   0,   0,   0,   0,   0,   0],\n",
       "        [  0,   0,   0,   0,   0,   0,   0,   0,   0,   0,   0,   0,   0,   0,\n",
       "           0,   0,  85, 241,  22,   0,   0,   0,   0,   0,   0,   0,   0,   0],\n",
       "        [  0,   0,   0,   0,   0,   0,   0,   0,   0,   0,   0,   0,   0,   0,\n",
       "           0,   0,   0, 225, 102,   0,   0,   0,   0,   0,   0,   0,   0,   0],\n",
       "        [  0,   0,   0,   0,   0,   0,   0,   0,   0,   0,   0,   0,   0,   0,\n",
       "           0,   0,   0, 170, 131,   0,   0,   0,   0,   0,   0,   0,   0,   0],\n",
       "        [  0,   0,   0,   0,   0,   0,   0,   0,   0,   0,  28, 104,   0,   0,\n",
       "           0,   0,  17, 234,  87,   0,   0,   0,   0,   0,   0,   0,   0,   0],\n",
       "        [  0,   0,   0,   0,   0,   0,   0,   0,   0,   0,   1, 198, 179,  29,\n",
       "           0,  42, 199, 235,  17,   0,   0,   0,   0,   0,   0,   0,   0,   0],\n",
       "        [  0,   0,   0,   0,   0,   0,   0,   0,   0,   0,   0,  14, 154, 236,\n",
       "         250, 252, 163,  12,   0,   0,   0,   0,   0,   0,   0,   0,   0,   0],\n",
       "        [  0,   0,   0,   0,   0,   0,   0,   0,   0,   0,   0,   0,   0,   0,\n",
       "           0,   0,   0,   0,   0,   0,   0,   0,   0,   0,   0,   0,   0,   0],\n",
       "        [  0,   0,   0,   0,   0,   0,   0,   0,   0,   0,   0,   0,   0,   0,\n",
       "           0,   0,   0,   0,   0,   0,   0,   0,   0,   0,   0,   0,   0,   0],\n",
       "        [  0,   0,   0,   0,   0,   0,   0,   0,   0,   0,   0,   0,   0,   0,\n",
       "           0,   0,   0,   0,   0,   0,   0,   0,   0,   0,   0,   0,   0,   0]],\n",
       "       dtype=torch.uint8)"
      ]
     },
     "execution_count": 93,
     "metadata": {},
     "output_type": "execute_result"
    }
   ],
   "source": [
    "tensor(Image.open(threes[4]))"
   ]
  },
  {
   "cell_type": "markdown",
   "id": "36e2a40a-0ea7-4b73-bdcc-41cb9c13fcb3",
   "metadata": {},
   "source": [
    "- 여기에서 tensor는 파이토치가 아니라 fastai에서 구현한 함수임 "
   ]
  },
  {
   "cell_type": "markdown",
   "id": "a2b975bf-fd5f-4915-9905-75dc7b5c1e11",
   "metadata": {},
   "source": [
    "`-` 여러개의 리스트를 모두 텐서로 바꿔보자. "
   ]
  },
  {
   "cell_type": "code",
   "execution_count": 94,
   "id": "c021d0cb-caf2-46a4-b101-e9a4581dfbb9",
   "metadata": {},
   "outputs": [],
   "source": [
    "seven_tensor = torch.stack([tensor(Image.open(i)) for i in sevens]).float()/255\n",
    "three_tensor = torch.stack([tensor(Image.open(i)) for i in threes]).float()/255"
   ]
  },
  {
   "cell_type": "markdown",
   "id": "52adf4f6-1538-429c-9e97-ade1629ed98c",
   "metadata": {},
   "source": [
    "`-` $X$와 $y$를 만들자. "
   ]
  },
  {
   "cell_type": "code",
   "execution_count": 95,
   "id": "8530952e-db11-4258-a61f-82484da3d01f",
   "metadata": {},
   "outputs": [
    {
     "data": {
      "text/plain": [
       "(torch.Size([6265, 28, 28]), torch.Size([6131, 28, 28]))"
      ]
     },
     "execution_count": 95,
     "metadata": {},
     "output_type": "execute_result"
    }
   ],
   "source": [
    "seven_tensor.shape, three_tensor.shape"
   ]
  },
  {
   "cell_type": "code",
   "execution_count": 96,
   "id": "b1c18dea-07df-4d1a-af03-52320a039375",
   "metadata": {},
   "outputs": [],
   "source": [
    "y=torch.tensor([0.0]*6265+ [1.0]*6131).reshape(12396,1)"
   ]
  },
  {
   "cell_type": "code",
   "execution_count": 97,
   "id": "f6f19f64-4527-4f54-b7f1-3bfada66138c",
   "metadata": {},
   "outputs": [],
   "source": [
    "X=torch.vstack([seven_tensor,three_tensor]).reshape(12396,-1)"
   ]
  },
  {
   "cell_type": "code",
   "execution_count": 98,
   "id": "525188e3-e476-4a67-aeaa-b72f21f81d7b",
   "metadata": {},
   "outputs": [
    {
     "data": {
      "text/plain": [
       "(torch.Size([12396, 784]), torch.Size([12396, 1]))"
      ]
     },
     "execution_count": 98,
     "metadata": {},
     "output_type": "execute_result"
    }
   ],
   "source": [
    "X.shape, y.shape"
   ]
  },
  {
   "cell_type": "code",
   "execution_count": 99,
   "id": "eed2e9c8-0968-411b-b001-a1f0f57e437f",
   "metadata": {},
   "outputs": [],
   "source": [
    "X=X.reshape(12396,1,28,28)"
   ]
  },
  {
   "cell_type": "code",
   "execution_count": 100,
   "id": "4e4aad3d-d379-426b-8b23-3738ab7ab002",
   "metadata": {},
   "outputs": [
    {
     "data": {
      "text/plain": [
       "torch.Size([12396, 1, 28, 28])"
      ]
     },
     "execution_count": 100,
     "metadata": {},
     "output_type": "execute_result"
    }
   ],
   "source": [
    "X.shape"
   ]
  },
  {
   "cell_type": "markdown",
   "id": "737bdbcc-6477-4d73-9caf-a5c592026ceb",
   "metadata": {
    "tags": []
   },
   "source": [
    "### 1. 지난시간까지의 모형 (직접네트워크설계, pytorch)"
   ]
  },
  {
   "cell_type": "markdown",
   "id": "4aa846b1-7d79-400f-986d-573e5285740d",
   "metadata": {
    "tags": []
   },
   "source": [
    "#### 2d convolution with windowsize=5"
   ]
  },
  {
   "cell_type": "code",
   "execution_count": 101,
   "id": "250227c1-3fba-4648-b569-1fd32e21aa41",
   "metadata": {},
   "outputs": [],
   "source": [
    "c1=torch.nn.Conv2d(1,16,5) # 입력채널=1 (흑백이므로), 출력채널=16, 윈도우크기5 "
   ]
  },
  {
   "cell_type": "code",
   "execution_count": 102,
   "id": "fb240922-7c77-438c-b341-d301ec8e62c6",
   "metadata": {},
   "outputs": [
    {
     "data": {
      "text/plain": [
       "(torch.Size([12396, 1, 28, 28]), torch.Size([12396, 16, 24, 24]))"
      ]
     },
     "execution_count": 102,
     "metadata": {},
     "output_type": "execute_result"
    }
   ],
   "source": [
    "X.shape, c1(X).shape"
   ]
  },
  {
   "cell_type": "markdown",
   "id": "adf353ab-ee1d-4612-8b19-fc954669fe0a",
   "metadata": {},
   "source": [
    "#### MaxPool2d"
   ]
  },
  {
   "cell_type": "code",
   "execution_count": 103,
   "id": "f59c84b5-bf3c-49f0-9515-b2f623afef7c",
   "metadata": {},
   "outputs": [],
   "source": [
    "m1=torch.nn.MaxPool2d(2)"
   ]
  },
  {
   "cell_type": "code",
   "execution_count": 104,
   "id": "f39a6b91-8a83-45d7-9a2b-ad7eb462a125",
   "metadata": {},
   "outputs": [
    {
     "data": {
      "text/plain": [
       "(torch.Size([12396, 1, 28, 28]),\n",
       " torch.Size([12396, 16, 24, 24]),\n",
       " torch.Size([12396, 16, 12, 12]))"
      ]
     },
     "execution_count": 104,
     "metadata": {},
     "output_type": "execute_result"
    }
   ],
   "source": [
    "X.shape,c1(X).shape,m1(c1(X)).shape"
   ]
  },
  {
   "cell_type": "markdown",
   "id": "67cb3097-0de6-4215-b1e2-98510a3cfb56",
   "metadata": {},
   "source": [
    "#### ReLU "
   ]
  },
  {
   "cell_type": "code",
   "execution_count": 105,
   "id": "2b3d0b4b-9f78-4559-8833-a31025e67e48",
   "metadata": {},
   "outputs": [],
   "source": [
    "a1=torch.nn.ReLU()"
   ]
  },
  {
   "cell_type": "code",
   "execution_count": 106,
   "id": "f8ed9b29-9a9c-4f33-8fc2-aaf812fe29ba",
   "metadata": {},
   "outputs": [
    {
     "data": {
      "text/plain": [
       "(torch.Size([12396, 1, 28, 28]),\n",
       " torch.Size([12396, 16, 24, 24]),\n",
       " torch.Size([12396, 16, 12, 12]),\n",
       " torch.Size([12396, 16, 12, 12]))"
      ]
     },
     "execution_count": 106,
     "metadata": {},
     "output_type": "execute_result"
    }
   ],
   "source": [
    "X.shape,c1(X).shape, m1(c1(X)).shape, a1(m1(c1(X))).shape"
   ]
  },
  {
   "cell_type": "markdown",
   "id": "9d7bb0d2-7a61-4ac1-919d-271fe931633c",
   "metadata": {},
   "source": [
    "#### flatten "
   ]
  },
  {
   "cell_type": "code",
   "execution_count": 107,
   "id": "02600bb9-6868-4825-a827-e57a3a6880ef",
   "metadata": {},
   "outputs": [],
   "source": [
    "class Flatten(torch.nn.Module):\n",
    "    def forward(self,x): \n",
    "        return x.reshape(12396,-1)"
   ]
  },
  {
   "cell_type": "code",
   "execution_count": 108,
   "id": "66b7fde4-ab89-43d4-9144-19ced26b97a4",
   "metadata": {},
   "outputs": [],
   "source": [
    "flatten=Flatten()"
   ]
  },
  {
   "cell_type": "code",
   "execution_count": 109,
   "id": "d5f4a324-7d81-4a0a-97d2-487cb7d379d9",
   "metadata": {},
   "outputs": [
    {
     "data": {
      "text/plain": [
       "(torch.Size([12396, 1, 28, 28]),\n",
       " torch.Size([12396, 16, 24, 24]),\n",
       " torch.Size([12396, 16, 12, 12]),\n",
       " torch.Size([12396, 16, 12, 12]),\n",
       " torch.Size([12396, 2304]))"
      ]
     },
     "execution_count": 109,
     "metadata": {},
     "output_type": "execute_result"
    }
   ],
   "source": [
    "X.shape,c1(X).shape, m1(c1(X)).shape, a1(m1(c1(X))).shape, flatten(a1(m1(c1(X)))).shape"
   ]
  },
  {
   "cell_type": "markdown",
   "id": "c5177d85-1ead-43bf-a7c3-16d8bb63f7e0",
   "metadata": {},
   "source": [
    "#### linear "
   ]
  },
  {
   "cell_type": "code",
   "execution_count": 110,
   "id": "4fb124b8-c5f0-48f4-b305-7c57ae58787d",
   "metadata": {},
   "outputs": [],
   "source": [
    "l1=torch.nn.Linear(in_features=2304,out_features=1) "
   ]
  },
  {
   "cell_type": "code",
   "execution_count": 111,
   "id": "ed0b5d54-2e02-4cd0-afbd-ee450088e08e",
   "metadata": {},
   "outputs": [
    {
     "data": {
      "text/plain": [
       "(torch.Size([12396, 1, 28, 28]),\n",
       " torch.Size([12396, 16, 24, 24]),\n",
       " torch.Size([12396, 16, 12, 12]),\n",
       " torch.Size([12396, 16, 12, 12]),\n",
       " torch.Size([12396, 2304]),\n",
       " torch.Size([12396, 1]))"
      ]
     },
     "execution_count": 111,
     "metadata": {},
     "output_type": "execute_result"
    }
   ],
   "source": [
    "X.shape,\\\n",
    "c1(X).shape, \\\n",
    "m1(c1(X)).shape, \\\n",
    "a1(m1(c1(X))).shape, \\\n",
    "flatten(a1(m1(c1(X)))).shape, \\\n",
    "l1(flatten(a1(m1(c1(X))))).shape"
   ]
  },
  {
   "cell_type": "code",
   "execution_count": 112,
   "id": "998c90bb-d3a6-4ae4-b626-06a0a716fae2",
   "metadata": {},
   "outputs": [
    {
     "data": {
      "text/plain": [
       "[<matplotlib.lines.Line2D at 0x7f3f9b27b310>]"
      ]
     },
     "execution_count": 112,
     "metadata": {},
     "output_type": "execute_result"
    },
    {
     "data": {
      "image/png": "[encoded data removed]",
      "text/plain": [
       "<Figure size 432x288 with 1 Axes>"
      ]
     },
     "metadata": {
      "needs_background": "light"
     },
     "output_type": "display_data"
    }
   ],
   "source": [
    "plt.plot(l1(flatten(a1(m1(c1(X))))).data)"
   ]
  },
  {
   "cell_type": "markdown",
   "id": "f3bcef3d-31d0-43b6-be21-f8e630307aa8",
   "metadata": {},
   "source": [
    "#### networks 설계 "
   ]
  },
  {
   "cell_type": "code",
   "execution_count": 113,
   "id": "d0ff02c4-9be8-4514-8b15-104383952a56",
   "metadata": {},
   "outputs": [],
   "source": [
    "net = nn.Sequential(c1,m1,a1,flatten,l1)\n",
    "## 마지막의 sigmoid는 생략한다. torch.nn..BCEWithLogitsLoss()에 내장되어 있을것이므로 "
   ]
  },
  {
   "cell_type": "markdown",
   "id": "589470aa-77f1-4b07-ae3c-862a9e6ef217",
   "metadata": {},
   "source": [
    "`-` 손실함수와 옵티마이저 정의 "
   ]
  },
  {
   "cell_type": "code",
   "execution_count": 114,
   "id": "5557f21d-e49f-4c59-82df-5a3def4c7373",
   "metadata": {},
   "outputs": [],
   "source": [
    "loss_fn=torch.nn.BCEWithLogitsLoss()\n",
    "optimizer= torch.optim.Adam(net.parameters())"
   ]
  },
  {
   "cell_type": "markdown",
   "id": "ad4acb60-c25e-4456-bef9-02494f690251",
   "metadata": {},
   "source": [
    "`-` step1~4"
   ]
  },
  {
   "cell_type": "code",
   "execution_count": 115,
   "id": "428e4b35-c9b0-40e9-b437-e02382626977",
   "metadata": {},
   "outputs": [],
   "source": [
    "for epoc in range(200): \n",
    "    ## 1 \n",
    "    yhat=net(X)\n",
    "    ## 2 \n",
    "    loss=loss_fn(yhat,y) \n",
    "    ## 3 \n",
    "    loss.backward()\n",
    "    ## 4 \n",
    "    optimizer.step()\n",
    "    net.zero_grad()"
   ]
  },
  {
   "cell_type": "code",
   "execution_count": 116,
   "id": "eb62dcb0-e013-4cf7-88cd-c8c21dbd472c",
   "metadata": {},
   "outputs": [],
   "source": [
    "a2= torch.nn.Sigmoid()"
   ]
  },
  {
   "cell_type": "code",
   "execution_count": 117,
   "id": "c02ffd43-ab88-423f-9970-5b211bbba28e",
   "metadata": {},
   "outputs": [
    {
     "data": {
      "text/plain": [
       "[<matplotlib.lines.Line2D at 0x7f3f9b25f7c0>]"
      ]
     },
     "execution_count": 117,
     "metadata": {},
     "output_type": "execute_result"
    },
    {
     "data": {
      "image/png": "[encoded data removed]",
      "text/plain": [
       "<Figure size 432x288 with 1 Axes>"
      ]
     },
     "metadata": {
      "needs_background": "light"
     },
     "output_type": "display_data"
    }
   ],
   "source": [
    "plt.plot(y)\n",
    "plt.plot(a2(yhat.data),'.')"
   ]
  },
  {
   "cell_type": "code",
   "execution_count": 118,
   "id": "c18f3ae9-5a83-4443-bfa3-e632636d62d5",
   "metadata": {},
   "outputs": [],
   "source": [
    "ypred=a2(yhat.data)>0.5 "
   ]
  },
  {
   "cell_type": "code",
   "execution_count": 119,
   "id": "702b1e57-0fa9-434d-a0c6-e368faefdf5f",
   "metadata": {},
   "outputs": [
    {
     "data": {
      "text/plain": [
       "tensor([0.9938])"
      ]
     },
     "execution_count": 119,
     "metadata": {},
     "output_type": "execute_result"
    }
   ],
   "source": [
    "sum(ypred==y)/12396"
   ]
  },
  {
   "cell_type": "markdown",
   "id": "a7488c30-2e54-4dc5-b42c-b1190dc4054b",
   "metadata": {},
   "source": [
    "### 2. 드랍이웃, 배치추가 (직접네트워크설계, pytorch+fastai) "
   ]
  },
  {
   "cell_type": "markdown",
   "id": "84b80298-3c82-4205-9fc9-e98e7b38e3df",
   "metadata": {},
   "source": [
    "#### step1: dls를 만들자. "
   ]
  },
  {
   "cell_type": "code",
   "execution_count": 120,
   "id": "0a7f283e-ec07-42e7-92bb-f0e04a6ab986",
   "metadata": {},
   "outputs": [],
   "source": [
    "ds=torch.utils.data.TensorDataset(X,y)"
   ]
  },
  {
   "cell_type": "code",
   "execution_count": 121,
   "id": "148eac13-3bf0-407b-bac6-37926cecc9ba",
   "metadata": {},
   "outputs": [
    {
     "data": {
      "text/plain": [
       "torch.Size([12396, 1, 28, 28])"
      ]
     },
     "execution_count": 121,
     "metadata": {},
     "output_type": "execute_result"
    }
   ],
   "source": [
    "ds.tensors[0].shape"
   ]
  },
  {
   "cell_type": "code",
   "execution_count": 122,
   "id": "0f96d874-1f22-4b9e-8963-acf72bdb2b87",
   "metadata": {},
   "outputs": [],
   "source": [
    "ds1,ds2 = torch.utils.data.random_split(ds,[10000,2396]) "
   ]
  },
  {
   "cell_type": "code",
   "execution_count": 123,
   "id": "2d9c79bd-314f-47f3-b6ba-d1c1db60ba49",
   "metadata": {},
   "outputs": [],
   "source": [
    "dl1 = torch.utils.data.DataLoader(ds1,batch_size=500) \n",
    "dl2 = torch.utils.data.DataLoader(ds2,batch_size=2396) "
   ]
  },
  {
   "cell_type": "code",
   "execution_count": 124,
   "id": "4dc92741-6de2-457b-ac60-cdc2d0582c0a",
   "metadata": {},
   "outputs": [],
   "source": [
    "dls=DataLoaders(dl1,dl2) "
   ]
  },
  {
   "cell_type": "markdown",
   "id": "4a1bd941-8a57-4dfa-acca-577690e69b93",
   "metadata": {},
   "source": [
    "#### step2: 아키텍처, 손실함수, 옵티마이저 "
   ]
  },
  {
   "cell_type": "code",
   "execution_count": 125,
   "id": "92942806-88bb-4cf6-932c-51a35a4ea07e",
   "metadata": {},
   "outputs": [],
   "source": [
    "class Flatten(torch.nn.Module):\n",
    "    def forward(self,x): \n",
    "        return x.reshape(x.shape[0],-1)"
   ]
  },
  {
   "cell_type": "code",
   "execution_count": 126,
   "id": "3d96af86-5962-4e43-9545-e8ac179843e0",
   "metadata": {},
   "outputs": [],
   "source": [
    "net=torch.nn.Sequential(\n",
    "    torch.nn.Conv2d(1,16,5), \n",
    "    torch.nn.MaxPool2d(2), \n",
    "    torch.nn.ReLU(),\n",
    "    torch.nn.Dropout2d(), \n",
    "    Flatten(),\n",
    "    torch.nn.Linear(2304,1))"
   ]
  },
  {
   "cell_type": "code",
   "execution_count": 127,
   "id": "0da0d260-bc5c-4130-89fb-2928cf72adac",
   "metadata": {},
   "outputs": [],
   "source": [
    "loss_fn=torch.nn.BCEWithLogitsLoss()\n",
    "#optimizer= torch.optim.Adam(net.parameters())"
   ]
  },
  {
   "cell_type": "markdown",
   "id": "3c8c6d20-d294-49cd-89cc-3c9407435237",
   "metadata": {},
   "source": [
    "#### step3: lrnr 생성 후 적합"
   ]
  },
  {
   "cell_type": "code",
   "execution_count": 128,
   "id": "c95b38c7-7a09-4c30-b90a-439709109a2f",
   "metadata": {},
   "outputs": [],
   "source": [
    "lrnr1 = Learner(dls,net,opt_func=Adam,loss_func=loss_fn) "
   ]
  },
  {
   "cell_type": "code",
   "execution_count": 129,
   "id": "29acdef5-1b67-4628-b4b4-607bbc2ab616",
   "metadata": {},
   "outputs": [
    {
     "data": {
      "text/html": [
       "<table border=\"1\" class=\"dataframe\">\n",
       "  <thead>\n",
       "    <tr style=\"text-align: left;\">\n",
       "      <th>epoch</th>\n",
       "      <th>train_loss</th>\n",
       "      <th>valid_loss</th>\n",
       "      <th>time</th>\n",
       "    </tr>\n",
       "  </thead>\n",
       "  <tbody>\n",
       "    <tr>\n",
       "      <td>0</td>\n",
       "      <td>0.430748</td>\n",
       "      <td>0.218082</td>\n",
       "      <td>00:00</td>\n",
       "    </tr>\n",
       "    <tr>\n",
       "      <td>1</td>\n",
       "      <td>0.262507</td>\n",
       "      <td>0.093608</td>\n",
       "      <td>00:00</td>\n",
       "    </tr>\n",
       "    <tr>\n",
       "      <td>2</td>\n",
       "      <td>0.178563</td>\n",
       "      <td>0.070512</td>\n",
       "      <td>00:00</td>\n",
       "    </tr>\n",
       "    <tr>\n",
       "      <td>3</td>\n",
       "      <td>0.132288</td>\n",
       "      <td>0.061353</td>\n",
       "      <td>00:00</td>\n",
       "    </tr>\n",
       "    <tr>\n",
       "      <td>4</td>\n",
       "      <td>0.104299</td>\n",
       "      <td>0.055355</td>\n",
       "      <td>00:00</td>\n",
       "    </tr>\n",
       "    <tr>\n",
       "      <td>5</td>\n",
       "      <td>0.086001</td>\n",
       "      <td>0.050486</td>\n",
       "      <td>00:00</td>\n",
       "    </tr>\n",
       "    <tr>\n",
       "      <td>6</td>\n",
       "      <td>0.073517</td>\n",
       "      <td>0.047254</td>\n",
       "      <td>00:00</td>\n",
       "    </tr>\n",
       "    <tr>\n",
       "      <td>7</td>\n",
       "      <td>0.064433</td>\n",
       "      <td>0.044630</td>\n",
       "      <td>00:00</td>\n",
       "    </tr>\n",
       "    <tr>\n",
       "      <td>8</td>\n",
       "      <td>0.057706</td>\n",
       "      <td>0.042601</td>\n",
       "      <td>00:00</td>\n",
       "    </tr>\n",
       "    <tr>\n",
       "      <td>9</td>\n",
       "      <td>0.053289</td>\n",
       "      <td>0.040278</td>\n",
       "      <td>00:00</td>\n",
       "    </tr>\n",
       "  </tbody>\n",
       "</table>"
      ],
      "text/plain": [
       "<IPython.core.display.HTML object>"
      ]
     },
     "metadata": {},
     "output_type": "display_data"
    }
   ],
   "source": [
    "lrnr1.fit(10)"
   ]
  },
  {
   "cell_type": "markdown",
   "id": "15f944de-b4f2-4818-adbb-8543ec39382f",
   "metadata": {},
   "source": [
    "`-` 결과를 시각화하면 아래와 같다. "
   ]
  },
  {
   "cell_type": "code",
   "execution_count": 135,
   "id": "ba08639f-8784-4586-b81d-c724d2e187db",
   "metadata": {},
   "outputs": [
    {
     "data": {
      "text/plain": [
       "[<matplotlib.lines.Line2D at 0x7f3f9b66d9d0>]"
      ]
     },
     "execution_count": 135,
     "metadata": {},
     "output_type": "execute_result"
    },
    {
     "data": {
      "image/png": "[encoded data removed]",
      "text/plain": [
       "<Figure size 432x288 with 1 Axes>"
      ]
     },
     "metadata": {
      "needs_background": "light"
     },
     "output_type": "display_data"
    }
   ],
   "source": [
    "plt.plot(a2(net(X.to(\"cuda:0\")).to(\"cpu\").data),'.')"
   ]
  },
  {
   "cell_type": "markdown",
   "id": "e2ad3912-7ff2-4280-8634-70de5360bb9a",
   "metadata": {},
   "source": [
    "`-` 빠르고 적합결과도 좋음 "
   ]
  },
  {
   "cell_type": "markdown",
   "id": "9143603a-3460-4ed9-ab59-e4162d172809",
   "metadata": {
    "tags": []
   },
   "source": [
    "### 3. resnet34 (기존의 네트워크 사용, 순수 fastai)"
   ]
  },
  {
   "cell_type": "markdown",
   "id": "a84b63cb-349a-404d-ab96-8e375b4dbefc",
   "metadata": {},
   "source": [
    "`-` 데이터로부터 새로운 데이터로더스를 만들고 이를 dls2라고 하자."
   ]
  },
  {
   "cell_type": "code",
   "execution_count": 137,
   "id": "370e4e59-b3ac-4ef2-badc-2a60a5c00a8d",
   "metadata": {},
   "outputs": [
    {
     "data": {
      "text/plain": [
       "Path('/home/cgb4/.fastai/data/mnist_sample')"
      ]
     },
     "execution_count": 137,
     "metadata": {},
     "output_type": "execute_result"
    }
   ],
   "source": [
    "path=untar_data(URLs.MNIST_SAMPLE) \n",
    "path"
   ]
  },
  {
   "cell_type": "code",
   "execution_count": 140,
   "id": "8c4cb9ed-d17b-476d-a1cd-d587fcb116cd",
   "metadata": {},
   "outputs": [],
   "source": [
    "dls2=ImageDataLoaders.from_folder(\n",
    "    path,\n",
    "    train='train',\n",
    "    valid_pct=0.2)     "
   ]
  },
  {
   "cell_type": "markdown",
   "id": "7c6b7f57-06ab-419b-9309-a8e2084b3784",
   "metadata": {},
   "source": [
    "`-` 러너오브젝트를 생성하고 학습하자. "
   ]
  },
  {
   "cell_type": "code",
   "execution_count": 145,
   "id": "88239f97-ea8a-45ea-a811-16ac9befb566",
   "metadata": {},
   "outputs": [
    {
     "data": {
      "text/html": [
       "<table border=\"1\" class=\"dataframe\">\n",
       "  <thead>\n",
       "    <tr style=\"text-align: left;\">\n",
       "      <th>epoch</th>\n",
       "      <th>train_loss</th>\n",
       "      <th>valid_loss</th>\n",
       "      <th>error_rate</th>\n",
       "      <th>time</th>\n",
       "    </tr>\n",
       "  </thead>\n",
       "  <tbody>\n",
       "    <tr>\n",
       "      <td>0</td>\n",
       "      <td>0.284949</td>\n",
       "      <td>0.159780</td>\n",
       "      <td>0.055787</td>\n",
       "      <td>00:08</td>\n",
       "    </tr>\n",
       "  </tbody>\n",
       "</table>"
      ],
      "text/plain": [
       "<IPython.core.display.HTML object>"
      ]
     },
     "metadata": {},
     "output_type": "display_data"
    },
    {
     "data": {
      "text/html": [
       "<table border=\"1\" class=\"dataframe\">\n",
       "  <thead>\n",
       "    <tr style=\"text-align: left;\">\n",
       "      <th>epoch</th>\n",
       "      <th>train_loss</th>\n",
       "      <th>valid_loss</th>\n",
       "      <th>error_rate</th>\n",
       "      <th>time</th>\n",
       "    </tr>\n",
       "  </thead>\n",
       "  <tbody>\n",
       "    <tr>\n",
       "      <td>0</td>\n",
       "      <td>0.042842</td>\n",
       "      <td>0.016358</td>\n",
       "      <td>0.006584</td>\n",
       "      <td>00:09</td>\n",
       "    </tr>\n",
       "  </tbody>\n",
       "</table>"
      ],
      "text/plain": [
       "<IPython.core.display.HTML object>"
      ]
     },
     "metadata": {},
     "output_type": "display_data"
    }
   ],
   "source": [
    "lrnr2=cnn_learner(dls2,resnet34,metrics=error_rate)\n",
    "lrnr2.fine_tune(1)"
   ]
  },
  {
   "cell_type": "markdown",
   "id": "05806159-6d88-4b56-9704-781114c7a98e",
   "metadata": {},
   "source": [
    "`-` 결과관찰"
   ]
  },
  {
   "cell_type": "code",
   "execution_count": 143,
   "id": "1e095c86-7c2a-4e0a-b1a4-63f7f529f91e",
   "metadata": {},
   "outputs": [
    {
     "data": {
      "text/html": [],
      "text/plain": [
       "<IPython.core.display.HTML object>"
      ]
     },
     "metadata": {},
     "output_type": "display_data"
    },
    {
     "data": {
      "image/png": "[encoded data removed]",
      "text/plain": [
       "<Figure size 648x648 with 9 Axes>"
      ]
     },
     "metadata": {
      "needs_background": "light"
     },
     "output_type": "display_data"
    }
   ],
   "source": [
    "lrnr2.show_results()"
   ]
  },
  {
   "cell_type": "markdown",
   "id": "b1e04b49-4f99-499b-b52f-7ed0bf712ad1",
   "metadata": {},
   "source": [
    "### 모형을 뜯어보는 방법 (lrnr1.model)"
   ]
  },
  {
   "cell_type": "markdown",
   "id": "7c3af94c-249b-478d-8a45-72f641dab27b",
   "metadata": {},
   "source": [
    "`-` 우선 방법2로 돌아가자."
   ]
  },
  {
   "cell_type": "code",
   "execution_count": 219,
   "id": "7c4e3cec-05c9-4980-9247-125e4eb3f56a",
   "metadata": {},
   "outputs": [
    {
     "data": {
      "text/plain": [
       "tensor([[-8.1382],\n",
       "        [-6.9877],\n",
       "        [ 0.7937],\n",
       "        ...,\n",
       "        [12.1038],\n",
       "        [15.0634],\n",
       "        [ 7.9055]], device='cuda:0', grad_fn=<AddmmBackward>)"
      ]
     },
     "execution_count": 219,
     "metadata": {},
     "output_type": "execute_result"
    }
   ],
   "source": [
    "net(X.to(\"cuda:0\"))"
   ]
  },
  {
   "cell_type": "markdown",
   "id": "229cbb84-f947-4925-bc36-d413c426434b",
   "metadata": {},
   "source": [
    "`-` 네트워크 구조"
   ]
  },
  {
   "cell_type": "code",
   "execution_count": 182,
   "id": "3e95b9ab-75d9-4943-a692-f8bc8b7a5dc4",
   "metadata": {},
   "outputs": [
    {
     "data": {
      "text/plain": [
       "Sequential(\n",
       "  (0): Conv2d(1, 16, kernel_size=(5, 5), stride=(1, 1))\n",
       "  (1): MaxPool2d(kernel_size=2, stride=2, padding=0, dilation=1, ceil_mode=False)\n",
       "  (2): ReLU()\n",
       "  (3): Dropout2d(p=0.5, inplace=False)\n",
       "  (4): Flatten()\n",
       "  (5): Linear(in_features=2304, out_features=1, bias=True)\n",
       ")"
      ]
     },
     "execution_count": 182,
     "metadata": {},
     "output_type": "execute_result"
    }
   ],
   "source": [
    "net"
   ]
  },
  {
   "cell_type": "markdown",
   "id": "6e56fdc2-21d2-48bb-8be3-ce4d171156cc",
   "metadata": {},
   "source": [
    "`-` 층별변환과정"
   ]
  },
  {
   "cell_type": "code",
   "execution_count": 196,
   "id": "cd476c5c-dd0d-44fa-b4ca-bce37f7b9489",
   "metadata": {},
   "outputs": [
    {
     "name": "stdout",
     "output_type": "stream",
     "text": [
      "torch.Size([12396, 1, 28, 28]) --> input image\n",
      "torch.Size([12396, 16, 24, 24]) --> 2dConv\n",
      "torch.Size([12396, 16, 12, 12]) --> MaxPool2d\n",
      "torch.Size([12396, 16, 12, 12]) --> ReLU\n",
      "torch.Size([12396, 16, 12, 12]) --> Dropout2d\n",
      "torch.Size([12396, 2304]) --> Flatten\n",
      "torch.Size([12396, 1]) --> Linear\n"
     ]
    }
   ],
   "source": [
    "print(X.shape, '--> input image')\n",
    "print(net[0](X.to(\"cuda:0\")).shape, '--> 2dConv')\n",
    "print(net[1](net[0](X.to(\"cuda:0\"))).shape, '--> MaxPool2d')\n",
    "print(net[2](net[1](net[0](X.to(\"cuda:0\")))).shape, '--> ReLU')\n",
    "print(net[3](net[2](net[1](net[0](X.to(\"cuda:0\"))))).shape, '--> Dropout2d')\n",
    "print(net[4](net[3](net[2](net[1](net[0](X.to(\"cuda:0\")))))).shape, '--> Flatten')\n",
    "print(net[5](net[4](net[3](net[2](net[1](net[0](X.to(\"cuda:0\"))))))).shape, '--> Linear')"
   ]
  },
  {
   "cell_type": "markdown",
   "id": "d1d26543-b405-48e7-a724-4d7ad81abe2d",
   "metadata": {},
   "source": [
    "`-` 최종결과"
   ]
  },
  {
   "cell_type": "code",
   "execution_count": 198,
   "id": "7f566088-8853-4dab-a3f5-bd884aa772c6",
   "metadata": {},
   "outputs": [
    {
     "data": {
      "text/plain": [
       "tensor([[-8.1382],\n",
       "        [-6.9877],\n",
       "        [ 0.7937],\n",
       "        ...,\n",
       "        [12.1038],\n",
       "        [15.0634],\n",
       "        [ 7.9055]], device='cuda:0', grad_fn=<AddmmBackward>)"
      ]
     },
     "execution_count": 198,
     "metadata": {},
     "output_type": "execute_result"
    }
   ],
   "source": [
    "net[5](net[4](net[3](net[2](net[1](net[0](X.to(\"cuda:0\")))))))"
   ]
  },
  {
   "cell_type": "code",
   "execution_count": 199,
   "id": "57401f49-d35a-443e-9b21-304c507374b7",
   "metadata": {},
   "outputs": [
    {
     "data": {
      "text/plain": [
       "tensor([[-8.1382],\n",
       "        [-6.9877],\n",
       "        [ 0.7937],\n",
       "        ...,\n",
       "        [12.1038],\n",
       "        [15.0634],\n",
       "        [ 7.9055]], device='cuda:0', grad_fn=<AddmmBackward>)"
      ]
     },
     "execution_count": 199,
     "metadata": {},
     "output_type": "execute_result"
    }
   ],
   "source": [
    "net(X.to(\"cuda:0\"))"
   ]
  },
  {
   "cell_type": "markdown",
   "id": "e3e4c524-be50-43ed-9928-1ce53c44a22f",
   "metadata": {},
   "source": [
    "`-` lrnr1자체를 활용해도 층별변환과정을 추적할수 있음. (lrnr1.model = net 임을 이용) "
   ]
  },
  {
   "cell_type": "code",
   "execution_count": 204,
   "id": "9de46a7a-a711-45f9-a106-afddf39493c1",
   "metadata": {},
   "outputs": [
    {
     "data": {
      "text/plain": [
       "Sequential(\n",
       "  (0): Conv2d(1, 16, kernel_size=(5, 5), stride=(1, 1))\n",
       "  (1): MaxPool2d(kernel_size=2, stride=2, padding=0, dilation=1, ceil_mode=False)\n",
       "  (2): ReLU()\n",
       "  (3): Dropout2d(p=0.5, inplace=False)\n",
       "  (4): Flatten()\n",
       "  (5): Linear(in_features=2304, out_features=1, bias=True)\n",
       ")"
      ]
     },
     "execution_count": 204,
     "metadata": {},
     "output_type": "execute_result"
    }
   ],
   "source": [
    "lrnr1.model"
   ]
  },
  {
   "cell_type": "code",
   "execution_count": 205,
   "id": "9226fd7e-10eb-4e85-aa32-9cae22e13a92",
   "metadata": {},
   "outputs": [
    {
     "data": {
      "text/plain": [
       "Conv2d(1, 16, kernel_size=(5, 5), stride=(1, 1))"
      ]
     },
     "execution_count": 205,
     "metadata": {},
     "output_type": "execute_result"
    }
   ],
   "source": [
    "lrnr1.model[0]"
   ]
  },
  {
   "cell_type": "code",
   "execution_count": 202,
   "id": "ff947b2f-7a93-4005-b11a-13cdd0b93a65",
   "metadata": {},
   "outputs": [
    {
     "data": {
      "text/plain": [
       "tensor([[-8.1382],\n",
       "        [-6.9877],\n",
       "        [ 0.7937],\n",
       "        ...,\n",
       "        [12.1038],\n",
       "        [15.0634],\n",
       "        [ 7.9055]], device='cuda:0', grad_fn=<AddmmBackward>)"
      ]
     },
     "execution_count": 202,
     "metadata": {},
     "output_type": "execute_result"
    }
   ],
   "source": [
    "lrnr1.model(X.to(\"cuda:0\"))"
   ]
  },
  {
   "cell_type": "code",
   "execution_count": 206,
   "id": "6801578d-905c-4ece-8e7a-471cd5f7bdc4",
   "metadata": {},
   "outputs": [
    {
     "name": "stdout",
     "output_type": "stream",
     "text": [
      "torch.Size([12396, 1, 28, 28]) --> input image\n",
      "torch.Size([12396, 16, 24, 24]) --> 2dConv\n",
      "torch.Size([12396, 16, 12, 12]) --> MaxPool2d\n",
      "torch.Size([12396, 16, 12, 12]) --> ReLU\n",
      "torch.Size([12396, 16, 12, 12]) --> Dropout2d\n",
      "torch.Size([12396, 2304]) --> Flatten\n",
      "torch.Size([12396, 1]) --> Linear\n"
     ]
    }
   ],
   "source": [
    "print(X.shape, '--> input image')\n",
    "print(lrnr1.model[0](X.to(\"cuda:0\")).shape, '--> 2dConv')\n",
    "print(lrnr1.model[1](lrnr1.model[0](X.to(\"cuda:0\"))).shape, '--> MaxPool2d')\n",
    "print(lrnr1.model[2](lrnr1.model[1](lrnr1.model[0](X.to(\"cuda:0\")))).shape, '--> ReLU')\n",
    "print(lrnr1.model[3](lrnr1.model[2](lrnr1.model[1](lrnr1.model[0](X.to(\"cuda:0\"))))).shape, '--> Dropout2d')\n",
    "print(lrnr1.model[4](lrnr1.model[3](lrnr1.model[2](lrnr1.model[1](lrnr1.model[0](X.to(\"cuda:0\")))))).shape, '--> Flatten')\n",
    "print(lrnr1.model[5](lrnr1.model[4](lrnr1.model[3](lrnr1.model[2](lrnr1.model[1](lrnr1.model[0](X.to(\"cuda:0\"))))))).shape, '--> Linear')"
   ]
  },
  {
   "cell_type": "markdown",
   "id": "cca012f1-8930-4867-a2f9-cd1ef822efeb",
   "metadata": {},
   "source": [
    "`-` 정리: 모형은 항상 아래와 같이 2d-part 와 1d-part로 나누어진다. \n",
    "```\n",
    "torch.Size([12396, 1, 28, 28]) --> input image\n",
    "torch.Size([12396, 16, 24, 24]) --> 2dConv\n",
    "torch.Size([12396, 16, 12, 12]) --> MaxPool2d\n",
    "torch.Size([12396, 16, 12, 12]) --> ReLU\n",
    "torch.Size([12396, 16, 12, 12]) --> Dropout2d\n",
    "===============================================================\n",
    "torch.Size([12396, 2304]) --> Flatten\n",
    "torch.Size([12396, 1]) --> Linear\n",
    "```"
   ]
  },
  {
   "cell_type": "markdown",
   "id": "c477a40c-064b-4575-8cc4-6286aff09bcd",
   "metadata": {},
   "source": [
    "`-` 2d-part: \n",
    "- 2d선형변환: nn.torch.nn.Conv2d()\n",
    "- 2d비선형변환: torch.nn.MaxPool2d(), torch.nn.ReLU()"
   ]
  },
  {
   "cell_type": "markdown",
   "id": "93b456c5-7fa3-4aae-8d65-4d196ec9aec7",
   "metadata": {},
   "source": [
    "`-` 1d-part:\n",
    "- 1d선형변환: torch.nn.Linear() \n",
    "- 1d비선형변환: torch.nn.ReLU()"
   ]
  },
  {
   "cell_type": "code",
   "execution_count": 211,
   "id": "2c51ce27-ea5d-4bce-9a18-c8a0dc780452",
   "metadata": {},
   "outputs": [],
   "source": [
    "_net1=torch.nn.Sequential(\n",
    "    net[0],\n",
    "    net[1],\n",
    "    net[2],\n",
    "    net[3])\n",
    "_net2=torch.nn.Sequential(\n",
    "    net[4],\n",
    "    net[5])"
   ]
  },
  {
   "cell_type": "code",
   "execution_count": 212,
   "id": "42bf22a3-81e4-4371-8d44-883793198aa1",
   "metadata": {},
   "outputs": [
    {
     "data": {
      "text/plain": [
       "Sequential(\n",
       "  (0): Conv2d(1, 16, kernel_size=(5, 5), stride=(1, 1))\n",
       "  (1): MaxPool2d(kernel_size=2, stride=2, padding=0, dilation=1, ceil_mode=False)\n",
       "  (2): ReLU()\n",
       "  (3): Dropout2d(p=0.5, inplace=False)\n",
       ")"
      ]
     },
     "execution_count": 212,
     "metadata": {},
     "output_type": "execute_result"
    }
   ],
   "source": [
    "_net1"
   ]
  },
  {
   "cell_type": "code",
   "execution_count": 213,
   "id": "4cf4ea93-4dbb-4132-905f-4ea6e48cd410",
   "metadata": {},
   "outputs": [
    {
     "data": {
      "text/plain": [
       "Sequential(\n",
       "  (0): Flatten()\n",
       "  (1): Linear(in_features=2304, out_features=1, bias=True)\n",
       ")"
      ]
     },
     "execution_count": 213,
     "metadata": {},
     "output_type": "execute_result"
    }
   ],
   "source": [
    "_net2"
   ]
  },
  {
   "cell_type": "code",
   "execution_count": 214,
   "id": "4f3905e3-8cc5-4081-861f-1735cb2e271b",
   "metadata": {},
   "outputs": [],
   "source": [
    "_net=torch.nn.Sequential(_net1,_net2)"
   ]
  },
  {
   "cell_type": "code",
   "execution_count": 218,
   "id": "30784703-0d11-4cd7-866c-d8290f1b56b8",
   "metadata": {},
   "outputs": [
    {
     "data": {
      "text/plain": [
       "tensor([[-8.1382],\n",
       "        [-6.9877],\n",
       "        [ 0.7937],\n",
       "        ...,\n",
       "        [12.1038],\n",
       "        [15.0634],\n",
       "        [ 7.9055]], device='cuda:0', grad_fn=<AddmmBackward>)"
      ]
     },
     "execution_count": 218,
     "metadata": {},
     "output_type": "execute_result"
    }
   ],
   "source": [
    "_net[1](_net[0](X.to('cuda:0')))"
   ]
  },
  {
   "cell_type": "markdown",
   "id": "369852b2-7abb-4338-acaf-7a23b46745a4",
   "metadata": {
    "tags": []
   },
   "source": [
    "### lrnr2.model 분석 "
   ]
  },
  {
   "cell_type": "markdown",
   "id": "d6a39953-d313-4c9c-a6ef-7ed29d2963fd",
   "metadata": {},
   "source": [
    "`-` 아래의 모형은 현재 가장 성능이 좋은 모형(state of the art)중 하나인 resnet이다. "
   ]
  },
  {
   "cell_type": "code",
   "execution_count": 226,
   "id": "d4ab1e42-93ac-43e1-838b-2b908e52195c",
   "metadata": {},
   "outputs": [
    {
     "data": {
      "text/plain": [
       "Sequential(\n",
       "  (0): Sequential(\n",
       "    (0): Conv2d(3, 64, kernel_size=(7, 7), stride=(2, 2), padding=(3, 3), bias=False)\n",
       "    (1): BatchNorm2d(64, eps=1e-05, momentum=0.1, affine=True, track_running_stats=True)\n",
       "    (2): ReLU(inplace=True)\n",
       "    (3): MaxPool2d(kernel_size=3, stride=2, padding=1, dilation=1, ceil_mode=False)\n",
       "    (4): Sequential(\n",
       "      (0): BasicBlock(\n",
       "        (conv1): Conv2d(64, 64, kernel_size=(3, 3), stride=(1, 1), padding=(1, 1), bias=False)\n",
       "        (bn1): BatchNorm2d(64, eps=1e-05, momentum=0.1, affine=True, track_running_stats=True)\n",
       "        (relu): ReLU(inplace=True)\n",
       "        (conv2): Conv2d(64, 64, kernel_size=(3, 3), stride=(1, 1), padding=(1, 1), bias=False)\n",
       "        (bn2): BatchNorm2d(64, eps=1e-05, momentum=0.1, affine=True, track_running_stats=True)\n",
       "      )\n",
       "      (1): BasicBlock(\n",
       "        (conv1): Conv2d(64, 64, kernel_size=(3, 3), stride=(1, 1), padding=(1, 1), bias=False)\n",
       "        (bn1): BatchNorm2d(64, eps=1e-05, momentum=0.1, affine=True, track_running_stats=True)\n",
       "        (relu): ReLU(inplace=True)\n",
       "        (conv2): Conv2d(64, 64, kernel_size=(3, 3), stride=(1, 1), padding=(1, 1), bias=False)\n",
       "        (bn2): BatchNorm2d(64, eps=1e-05, momentum=0.1, affine=True, track_running_stats=True)\n",
       "      )\n",
       "      (2): BasicBlock(\n",
       "        (conv1): Conv2d(64, 64, kernel_size=(3, 3), stride=(1, 1), padding=(1, 1), bias=False)\n",
       "        (bn1): BatchNorm2d(64, eps=1e-05, momentum=0.1, affine=True, track_running_stats=True)\n",
       "        (relu): ReLU(inplace=True)\n",
       "        (conv2): Conv2d(64, 64, kernel_size=(3, 3), stride=(1, 1), padding=(1, 1), bias=False)\n",
       "        (bn2): BatchNorm2d(64, eps=1e-05, momentum=0.1, affine=True, track_running_stats=True)\n",
       "      )\n",
       "    )\n",
       "    (5): Sequential(\n",
       "      (0): BasicBlock(\n",
       "        (conv1): Conv2d(64, 128, kernel_size=(3, 3), stride=(2, 2), padding=(1, 1), bias=False)\n",
       "        (bn1): BatchNorm2d(128, eps=1e-05, momentum=0.1, affine=True, track_running_stats=True)\n",
       "        (relu): ReLU(inplace=True)\n",
       "        (conv2): Conv2d(128, 128, kernel_size=(3, 3), stride=(1, 1), padding=(1, 1), bias=False)\n",
       "        (bn2): BatchNorm2d(128, eps=1e-05, momentum=0.1, affine=True, track_running_stats=True)\n",
       "        (downsample): Sequential(\n",
       "          (0): Conv2d(64, 128, kernel_size=(1, 1), stride=(2, 2), bias=False)\n",
       "          (1): BatchNorm2d(128, eps=1e-05, momentum=0.1, affine=True, track_running_stats=True)\n",
       "        )\n",
       "      )\n",
       "      (1): BasicBlock(\n",
       "        (conv1): Conv2d(128, 128, kernel_size=(3, 3), stride=(1, 1), padding=(1, 1), bias=False)\n",
       "        (bn1): BatchNorm2d(128, eps=1e-05, momentum=0.1, affine=True, track_running_stats=True)\n",
       "        (relu): ReLU(inplace=True)\n",
       "        (conv2): Conv2d(128, 128, kernel_size=(3, 3), stride=(1, 1), padding=(1, 1), bias=False)\n",
       "        (bn2): BatchNorm2d(128, eps=1e-05, momentum=0.1, affine=True, track_running_stats=True)\n",
       "      )\n",
       "      (2): BasicBlock(\n",
       "        (conv1): Conv2d(128, 128, kernel_size=(3, 3), stride=(1, 1), padding=(1, 1), bias=False)\n",
       "        (bn1): BatchNorm2d(128, eps=1e-05, momentum=0.1, affine=True, track_running_stats=True)\n",
       "        (relu): ReLU(inplace=True)\n",
       "        (conv2): Conv2d(128, 128, kernel_size=(3, 3), stride=(1, 1), padding=(1, 1), bias=False)\n",
       "        (bn2): BatchNorm2d(128, eps=1e-05, momentum=0.1, affine=True, track_running_stats=True)\n",
       "      )\n",
       "      (3): BasicBlock(\n",
       "        (conv1): Conv2d(128, 128, kernel_size=(3, 3), stride=(1, 1), padding=(1, 1), bias=False)\n",
       "        (bn1): BatchNorm2d(128, eps=1e-05, momentum=0.1, affine=True, track_running_stats=True)\n",
       "        (relu): ReLU(inplace=True)\n",
       "        (conv2): Conv2d(128, 128, kernel_size=(3, 3), stride=(1, 1), padding=(1, 1), bias=False)\n",
       "        (bn2): BatchNorm2d(128, eps=1e-05, momentum=0.1, affine=True, track_running_stats=True)\n",
       "      )\n",
       "    )\n",
       "    (6): Sequential(\n",
       "      (0): BasicBlock(\n",
       "        (conv1): Conv2d(128, 256, kernel_size=(3, 3), stride=(2, 2), padding=(1, 1), bias=False)\n",
       "        (bn1): BatchNorm2d(256, eps=1e-05, momentum=0.1, affine=True, track_running_stats=True)\n",
       "        (relu): ReLU(inplace=True)\n",
       "        (conv2): Conv2d(256, 256, kernel_size=(3, 3), stride=(1, 1), padding=(1, 1), bias=False)\n",
       "        (bn2): BatchNorm2d(256, eps=1e-05, momentum=0.1, affine=True, track_running_stats=True)\n",
       "        (downsample): Sequential(\n",
       "          (0): Conv2d(128, 256, kernel_size=(1, 1), stride=(2, 2), bias=False)\n",
       "          (1): BatchNorm2d(256, eps=1e-05, momentum=0.1, affine=True, track_running_stats=True)\n",
       "        )\n",
       "      )\n",
       "      (1): BasicBlock(\n",
       "        (conv1): Conv2d(256, 256, kernel_size=(3, 3), stride=(1, 1), padding=(1, 1), bias=False)\n",
       "        (bn1): BatchNorm2d(256, eps=1e-05, momentum=0.1, affine=True, track_running_stats=True)\n",
       "        (relu): ReLU(inplace=True)\n",
       "        (conv2): Conv2d(256, 256, kernel_size=(3, 3), stride=(1, 1), padding=(1, 1), bias=False)\n",
       "        (bn2): BatchNorm2d(256, eps=1e-05, momentum=0.1, affine=True, track_running_stats=True)\n",
       "      )\n",
       "      (2): BasicBlock(\n",
       "        (conv1): Conv2d(256, 256, kernel_size=(3, 3), stride=(1, 1), padding=(1, 1), bias=False)\n",
       "        (bn1): BatchNorm2d(256, eps=1e-05, momentum=0.1, affine=True, track_running_stats=True)\n",
       "        (relu): ReLU(inplace=True)\n",
       "        (conv2): Conv2d(256, 256, kernel_size=(3, 3), stride=(1, 1), padding=(1, 1), bias=False)\n",
       "        (bn2): BatchNorm2d(256, eps=1e-05, momentum=0.1, affine=True, track_running_stats=True)\n",
       "      )\n",
       "      (3): BasicBlock(\n",
       "        (conv1): Conv2d(256, 256, kernel_size=(3, 3), stride=(1, 1), padding=(1, 1), bias=False)\n",
       "        (bn1): BatchNorm2d(256, eps=1e-05, momentum=0.1, affine=True, track_running_stats=True)\n",
       "        (relu): ReLU(inplace=True)\n",
       "        (conv2): Conv2d(256, 256, kernel_size=(3, 3), stride=(1, 1), padding=(1, 1), bias=False)\n",
       "        (bn2): BatchNorm2d(256, eps=1e-05, momentum=0.1, affine=True, track_running_stats=True)\n",
       "      )\n",
       "      (4): BasicBlock(\n",
       "        (conv1): Conv2d(256, 256, kernel_size=(3, 3), stride=(1, 1), padding=(1, 1), bias=False)\n",
       "        (bn1): BatchNorm2d(256, eps=1e-05, momentum=0.1, affine=True, track_running_stats=True)\n",
       "        (relu): ReLU(inplace=True)\n",
       "        (conv2): Conv2d(256, 256, kernel_size=(3, 3), stride=(1, 1), padding=(1, 1), bias=False)\n",
       "        (bn2): BatchNorm2d(256, eps=1e-05, momentum=0.1, affine=True, track_running_stats=True)\n",
       "      )\n",
       "      (5): BasicBlock(\n",
       "        (conv1): Conv2d(256, 256, kernel_size=(3, 3), stride=(1, 1), padding=(1, 1), bias=False)\n",
       "        (bn1): BatchNorm2d(256, eps=1e-05, momentum=0.1, affine=True, track_running_stats=True)\n",
       "        (relu): ReLU(inplace=True)\n",
       "        (conv2): Conv2d(256, 256, kernel_size=(3, 3), stride=(1, 1), padding=(1, 1), bias=False)\n",
       "        (bn2): BatchNorm2d(256, eps=1e-05, momentum=0.1, affine=True, track_running_stats=True)\n",
       "      )\n",
       "    )\n",
       "    (7): Sequential(\n",
       "      (0): BasicBlock(\n",
       "        (conv1): Conv2d(256, 512, kernel_size=(3, 3), stride=(2, 2), padding=(1, 1), bias=False)\n",
       "        (bn1): BatchNorm2d(512, eps=1e-05, momentum=0.1, affine=True, track_running_stats=True)\n",
       "        (relu): ReLU(inplace=True)\n",
       "        (conv2): Conv2d(512, 512, kernel_size=(3, 3), stride=(1, 1), padding=(1, 1), bias=False)\n",
       "        (bn2): BatchNorm2d(512, eps=1e-05, momentum=0.1, affine=True, track_running_stats=True)\n",
       "        (downsample): Sequential(\n",
       "          (0): Conv2d(256, 512, kernel_size=(1, 1), stride=(2, 2), bias=False)\n",
       "          (1): BatchNorm2d(512, eps=1e-05, momentum=0.1, affine=True, track_running_stats=True)\n",
       "        )\n",
       "      )\n",
       "      (1): BasicBlock(\n",
       "        (conv1): Conv2d(512, 512, kernel_size=(3, 3), stride=(1, 1), padding=(1, 1), bias=False)\n",
       "        (bn1): BatchNorm2d(512, eps=1e-05, momentum=0.1, affine=True, track_running_stats=True)\n",
       "        (relu): ReLU(inplace=True)\n",
       "        (conv2): Conv2d(512, 512, kernel_size=(3, 3), stride=(1, 1), padding=(1, 1), bias=False)\n",
       "        (bn2): BatchNorm2d(512, eps=1e-05, momentum=0.1, affine=True, track_running_stats=True)\n",
       "      )\n",
       "      (2): BasicBlock(\n",
       "        (conv1): Conv2d(512, 512, kernel_size=(3, 3), stride=(1, 1), padding=(1, 1), bias=False)\n",
       "        (bn1): BatchNorm2d(512, eps=1e-05, momentum=0.1, affine=True, track_running_stats=True)\n",
       "        (relu): ReLU(inplace=True)\n",
       "        (conv2): Conv2d(512, 512, kernel_size=(3, 3), stride=(1, 1), padding=(1, 1), bias=False)\n",
       "        (bn2): BatchNorm2d(512, eps=1e-05, momentum=0.1, affine=True, track_running_stats=True)\n",
       "      )\n",
       "    )\n",
       "  )\n",
       "  (1): Sequential(\n",
       "    (0): AdaptiveConcatPool2d(\n",
       "      (ap): AdaptiveAvgPool2d(output_size=1)\n",
       "      (mp): AdaptiveMaxPool2d(output_size=1)\n",
       "    )\n",
       "    (1): Flatten(full=False)\n",
       "    (2): BatchNorm1d(1024, eps=1e-05, momentum=0.1, affine=True, track_running_stats=True)\n",
       "    (3): Dropout(p=0.25, inplace=False)\n",
       "    (4): Linear(in_features=1024, out_features=512, bias=False)\n",
       "    (5): ReLU(inplace=True)\n",
       "    (6): BatchNorm1d(512, eps=1e-05, momentum=0.1, affine=True, track_running_stats=True)\n",
       "    (7): Dropout(p=0.5, inplace=False)\n",
       "    (8): Linear(in_features=512, out_features=2, bias=False)\n",
       "  )\n",
       ")"
      ]
     },
     "execution_count": 226,
     "metadata": {},
     "output_type": "execute_result"
    }
   ],
   "source": [
    "lrnr2.model"
   ]
  },
  {
   "cell_type": "markdown",
   "id": "90f29638-5204-43c0-8e97-13cddcf1c2cd",
   "metadata": {},
   "source": [
    "`-` 특징 \n",
    "- 2d-part: 입력채널이3이다, Conv2d에 padding/stride의 옵션이 있다, 드랍아웃이 없다, 배치정규화가 있다. \n",
    "- 1d-part: 배치정규화가 있다, 출력의 차원이 2이다."
   ]
  },
  {
   "cell_type": "markdown",
   "id": "1e76fbf6-c7aa-4f17-a3c3-f50f43681b5a",
   "metadata": {},
   "source": [
    "***DLS, Networks***\n",
    "- 네트워크의 형태에 따라서 dls의 형태도 다르게 만들어야 한다. \n",
    "- MLP모형: 입력이 $784$, 첫 네트워크의 형태가 $784 \\to 30$ 인 torch.nn.Linear()\n",
    "- CNN모형: 입력이 $1\\times 28 \\times 28$, 첫 네트워크의 형태가 $1\\times 28 \\times 28 \\to 16 \\times 24 \\times 24$ 인 torch.nn.Conv2d()\n",
    "- Resnet34: 입력이 $3\\times 28 \\times 28$, 첫 네트워크의 형태가 $3\\times 28 \\times 28 \\to ??$ "
   ]
  },
  {
   "cell_type": "markdown",
   "id": "c2eec0e6-bc56-49ba-8d40-4ba1fb4cc815",
   "metadata": {},
   "source": [
    "***참고***\n",
    "\n",
    "|$y$|분포가정|마지막층의 활성화함수|손실함수(파이토치)|\n",
    "|:--:|:--:|:--:|:--:|\n",
    "|3.45, 4.43, ... (연속형) |정규분포|Linear|MSEloss|\n",
    "|0 or 1|이항분포(베르누이)|Sigmoid| BCEloss|\n",
    "|[0,0,1], [0,1,0], [1,0,0]| 다항분포|Softmax| CrossEntropyLoss|"
   ]
  },
  {
   "cell_type": "markdown",
   "id": "9de933d2-396c-428a-b662-6350ac18c940",
   "metadata": {},
   "source": [
    "`-` 딥러닝 연구의 네가지 축 "
   ]
  },
  {
   "cell_type": "markdown",
   "id": "3f4e5350-ccd9-408d-b006-28fae18be029",
   "metadata": {},
   "source": [
    "(1) 아키텍처 $(\\star)$\n",
    "- 한 영역의 전문적인 지식이 필요한 것이 아닌것 같다. \n",
    "- 끈기, 약간의 운, 직관, 좋은컴퓨터.. \n",
    "\n",
    "(2) 손실함수 \n",
    "- 통계적지식필요 // 기존의 손실함수를 변형하는 형태 (패널티텀활용)\n",
    "\n",
    "(3) 미분계산 \n",
    "- 병렬처리등에 대한 지식 필요 \n",
    "\n",
    "(4) 옵티마이저 \n",
    "- 최적화에 대한 이론적 토대 필요 \n"
   ]
  },
  {
   "cell_type": "markdown",
   "id": "ffd2f396-1a12-46d6-b03b-698c79993d5c",
   "metadata": {},
   "source": [
    "`-` 딥러닝 이전까지의 아키텍처에 대한 연구 \n",
    "- 파라메트릭 모형: 전문가 \n",
    "- 넌파라메트릭 모형: 전문가\n",
    "- 딥러닝: 상대적으로 비전문가"
   ]
  },
  {
   "cell_type": "markdown",
   "id": "a67a10c2-26d6-4732-88fa-e02ed2861d2d",
   "metadata": {},
   "source": [
    "`-` 특징: 비전문가도 만들수 있다 + 블랙박스 (내부연산을 뜯어볼 수는 있지만 우리가 해석하기 어려움) "
   ]
  },
  {
   "cell_type": "markdown",
   "id": "9a9dd78c-ca7c-42ef-a69d-a49e2b6d0220",
   "metadata": {},
   "source": [
    "`-` 설명가능한 딥러닝에 대한 요구 (XAI)"
   ]
  },
  {
   "cell_type": "code",
   "execution_count": null,
   "id": "cd13cae5-dae9-4cf1-884b-a03fb48e6b93",
   "metadata": {},
   "outputs": [],
   "source": []
  }
 ],
 "metadata": {
  "kernelspec": {
   "display_name": "Python 3 (ipykernel)",
   "language": "python",
   "name": "python3"
  },
  "language_info": {
   "codemirror_mode": {
    "name": "ipython",
    "version": 3
   },
   "file_extension": ".py",
   "mimetype": "text/x-python",
   "name": "python",
   "nbconvert_exporter": "python",
   "pygments_lexer": "ipython3",
   "version": "3.8.12"
  }
 },
 "nbformat": 4,
 "nbformat_minor": 5
}
