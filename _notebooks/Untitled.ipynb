{
 "cells": [
  {
   "cell_type": "markdown",
   "id": "e130b9a3-8b4a-4918-8d47-f893f5c6c458",
   "metadata": {},
   "source": [
    "## 기울기소멸 "
   ]
  },
  {
   "cell_type": "markdown",
   "id": "06a5798e-2995-430c-9983-2ee1e5d749a7",
   "metadata": {},
   "source": [
    "### 고요속의 외침 "
   ]
  },
  {
   "cell_type": "markdown",
   "id": "fe060454-cbe2-4498-9da2-b1317b19efa2",
   "metadata": {},
   "source": [
    "`-` https://www.youtube.com/watch?v=ouitOnaDtFY"
   ]
  },
  {
   "cell_type": "markdown",
   "id": "0257e061-6cdb-4b0c-ab4e-e4f7deb05f85",
   "metadata": {},
   "source": [
    "`-` 중간에 한명이라도 잘못 말한다면.. "
   ]
  },
  {
   "cell_type": "markdown",
   "id": "abccd4de-7ad2-4853-a3f5-c87ee4c1d2f4",
   "metadata": {},
   "source": [
    "### 정의 "
   ]
  },
  {
   "cell_type": "markdown",
   "id": "777a8d37-2436-4de0-9f75-1d6a3e8acf64",
   "metadata": {},
   "source": [
    "`-` In machine learning, the vanishing gradient problem is encountered when training artificial neural networks with gradient-based learning methods and backpropagation. "
   ]
  },
  {
   "cell_type": "markdown",
   "id": "1aa7c707-89ee-4896-b33b-e8ad559aa08e",
   "metadata": {},
   "source": [
    "### 이해"
   ]
  },
  {
   "cell_type": "markdown",
   "id": "e8c7875c-6bc9-4e22-8de8-652b766420b5",
   "metadata": {},
   "source": [
    "`-` 당연한것 아닌가? \n",
    "- 그레디언트 기반의 학습 (그레디언트 기반의 옵티마이저): 손실함수의 기울기를 통하여 업데이트 하는 방식 \n",
    "- 역전파: 손실함수의 기울기를 구하는 테크닉 (체인룰 + $\\alpha$). 구체적으로는 (1) 손실함수를 여러단계로 쪼개고 (2) 각 단계의 미분값을 각각 구하고 (3) 그것들을 모두 곱하여 기울기를 계산한다. \n",
    "- 0 근처의 숫자를 계속 곱하면 터지거나 0으로 간다. (사실 안정적인 기울기가 나올 것이라고 생각하는것 자체가 사실 이상함) "
   ]
  },
  {
   "cell_type": "code",
   "execution_count": 1,
   "id": "aca0ab8b-beaa-4b5b-a3fd-d2b989bdc29f",
   "metadata": {},
   "outputs": [],
   "source": [
    "import numpy as np "
   ]
  },
  {
   "cell_type": "code",
   "execution_count": 11,
   "id": "2fd0a9cc-a76b-4d67-915d-8cf4b93d05cb",
   "metadata": {},
   "outputs": [
    {
     "data": {
      "text/plain": [
       "array([-1.2167476 , -1.12064134,  1.00393117,  1.40056194,  1.92882907,\n",
       "       -0.09171322,  0.30572762,  1.56992117,  1.32243833, -0.92432003,\n",
       "       -0.50248891,  1.66943431, -1.60460124,  0.35229854,  1.2274395 ,\n",
       "        1.37389022,  0.29056595,  0.98707261, -1.2251744 ,  1.80257753,\n",
       "        0.71537336, -1.15877464, -0.83494789,  1.64240574, -1.32446422,\n",
       "       -0.89313588, -1.51753367, -0.98460436, -1.56692271, -1.46442158,\n",
       "        0.68353486,  1.72871458, -0.2368262 , -1.63323852,  0.2627509 ,\n",
       "        0.5877175 , -0.00262332,  0.11535328, -1.50135131,  1.66543865,\n",
       "       -1.89538258, -1.28429374,  1.02493065, -0.32715551,  1.30725127,\n",
       "       -0.33500648, -1.71877426,  1.88252857,  0.06692171, -1.63322342,\n",
       "       -1.74570482,  1.62121875,  1.97338714, -0.81678251, -0.85935999,\n",
       "       -0.09854208,  0.49107484, -0.73930724, -0.90959205, -1.94458844,\n",
       "       -0.29952569,  0.88053565, -0.02598754,  0.58950273, -0.74198508,\n",
       "        1.79651259, -0.19150611,  0.05414303, -0.69770824,  1.80695205,\n",
       "        1.70329315, -1.92801617, -0.08804641, -0.14812397, -0.34009265,\n",
       "        0.82033119, -0.50359616, -1.9665786 ,  1.94747694, -0.00885402,\n",
       "       -0.79864724, -0.6043695 , -0.41644225,  0.73273884,  0.6724115 ,\n",
       "       -1.52320254, -1.27154839,  0.25046107,  1.02911645, -1.67979034,\n",
       "       -0.38374368,  1.32331248,  0.63000883,  1.46149912,  0.98874506,\n",
       "       -1.97213467, -0.28766756,  0.11726286,  1.61055069,  1.06425548])"
      ]
     },
     "execution_count": 11,
     "metadata": {},
     "output_type": "execute_result"
    }
   ],
   "source": [
    "grads = np.random.uniform(low=-2,high=2,size=100) \n",
    "grads"
   ]
  },
  {
   "cell_type": "code",
   "execution_count": 12,
   "id": "187f22f5-c652-4219-bf71-0ca4e1810081",
   "metadata": {},
   "outputs": [
    {
     "data": {
      "text/plain": [
       "-4.8946716297614096e-17"
      ]
     },
     "execution_count": 12,
     "metadata": {},
     "output_type": "execute_result"
    }
   ],
   "source": [
    "grads.prod()"
   ]
  },
  {
   "cell_type": "markdown",
   "id": "8f84eb43-7e74-4f39-b003-b07ca3f52047",
   "metadata": {},
   "source": [
    "- 기울기가 소멸함 "
   ]
  },
  {
   "cell_type": "code",
   "execution_count": 31,
   "id": "94a288e9-083f-4252-a844-3be6cd25e98b",
   "metadata": {},
   "outputs": [
    {
     "data": {
      "text/plain": [
       "-2.0889172052036512e+33"
      ]
     },
     "execution_count": 31,
     "metadata": {},
     "output_type": "execute_result"
    }
   ],
   "source": [
    "grads = np.random.uniform(low=-5,high=5,size=100) \n",
    "grads.prod()"
   ]
  },
  {
   "cell_type": "markdown",
   "id": "8ee8f48b-d076-4213-84f3-0de0cca1cf56",
   "metadata": {},
   "source": [
    "- 기울기가 폭발함. "
   ]
  },
  {
   "cell_type": "code",
   "execution_count": 49,
   "id": "b58e5e25-ddc6-4f5c-b8d5-84e0f93147fa",
   "metadata": {},
   "outputs": [
    {
     "data": {
      "text/plain": [
       "16364179.47497398"
      ]
     },
     "execution_count": 49,
     "metadata": {},
     "output_type": "execute_result"
    }
   ],
   "source": [
    "grads = np.random.uniform(low=-1,high=3.5,size=100) \n",
    "grads.prod()"
   ]
  },
  {
   "cell_type": "markdown",
   "id": "b7618478-dd4f-470d-8a92-cfd029ba34be",
   "metadata": {},
   "source": [
    "`-` 도깨비: 기울기가 소멸하기도 하고 터지기도 한다. "
   ]
  },
  {
   "cell_type": "markdown",
   "id": "ccc2d976-5d03-4687-aefd-744d59a2dc33",
   "metadata": {
    "tags": []
   },
   "source": [
    "### 해결책 (기울기 소멸에 대한 해결책) "
   ]
  },
  {
   "cell_type": "markdown",
   "id": "fe3a695c-de35-417a-97dc-b9ebbd525b00",
   "metadata": {},
   "source": [
    "> Note: 잘 정리되어있는것이 없어서 제 머리속에서 정리했습니다. 부정확할수도 있어요 "
   ]
  },
  {
   "cell_type": "markdown",
   "id": "7f98b084-964e-4f31-b0d3-d9b4f2e987f2",
   "metadata": {},
   "source": [
    "`-` 개념 \n",
    "- 데이터 $\\to$ (아키텍처,손실함수,역전파,업데이트) "
   ]
  },
  {
   "cell_type": "markdown",
   "id": "29d117ed-ff7a-49ca-82f2-914342e4fa0d",
   "metadata": {},
   "source": [
    "`-` Multi-level hierarchy\n",
    "- 여러층을 쪼개서 학습하자 $\\to$ 어떻게? 사전학습, 층벼학습 \n",
    "- 기울기소실문제를 해결하여 딥러닝을 유행시킨 태초의(?) 방법임. \n",
    "- 결국 입력자료를 바꾼뒤에 학습하는 형태 "
   ]
  },
  {
   "cell_type": "markdown",
   "id": "46a2deed-92dc-4a19-bff9-8533e4090dc7",
   "metadata": {},
   "source": [
    "`-` Faster hardware\n",
    "- GPU를 중심으로 한 테크닉 \n",
    "- 근본적인 문제해결책은 아니라는 힌튼의 비판 \n",
    "- CPU를 쓸때보다 GPU를 쓰면 약간 더 깊은 모형을 학습할 수 있다 정도? "
   ]
  },
  {
   "cell_type": "markdown",
   "id": "20afee82-0627-44ac-afab-641477a82a96",
   "metadata": {},
   "source": [
    "`-` Residual networks\n",
    "- 훌륭한 접근법중 하나임 \n",
    "- 아키텍처를 변경하는 방법이지만, 사실상 손실함수를 부드럽게 만드는 기법으로 이해해도 된다. \n",
    "- 솟컷이라는 아키텍처를 추가하여 이리저리 실험해보니까 손실함수가 부드러워졌다.  <--- 이런게 아니고 \n",
    "- 손실함수를 부드럽게 하기 위해서는 층별의차이(residual)를 학습하는게 유리할 것 같다. 그런데 이것을 위한 효과를 주기 위해서는 단지 아키텍처에 숏만만 추가하면 되겠다. <--- 이런 모티브였을 것이다. "
   ]
  },
  {
   "cell_type": "markdown",
   "id": "d634c4d4-77cd-4cd7-a8b3-f056b8f97ab3",
   "metadata": {},
   "source": [
    "`-` Other activation functions\n",
    "- 렐루의 개발"
   ]
  },
  {
   "cell_type": "markdown",
   "id": "7e8db6b9-d7d8-45ff-be4f-718ebf05d5de",
   "metadata": {},
   "source": [
    "`-` 배치정규화 \n",
    "- 어쩌다보니 되는것. \n",
    "- 배치정규화는 원래 공변량 쉬프트를 잡기 위한 방법임. 그런데 기울기 소멸에도 효과가 있음. 현재는 기울기소멸문제에 대한 해결책으로 빠짐없이 언급되고 있음. 2015년의 원래 논문에는 기울기소멸에 대한 언급은 없었음. (https://arxiv.org/pdf/1502.03167.pdf)\n",
    "- 심지어 배치정규화는 오버피팅을 잡는효과도 있음 (이것은 논문에 언급했음) "
   ]
  },
  {
   "cell_type": "markdown",
   "id": "ce4e5146-3cf5-4fc1-9dbb-af76172703f7",
   "metadata": {},
   "source": [
    "`-` **기울기를 안구하면 안되나?**`\n",
    "- 베이지안 최적화기법: (https://arxiv.org/pdf/1807.02811.pdf) $\\to$ GPU를 어떻게 쓰지? $\\to$ 느리다 "
   ]
  },
  {
   "cell_type": "markdown",
   "id": "76a91217-ff81-4e42-b913-bdbd27be6c87",
   "metadata": {},
   "source": [
    "## 추천시스템 "
   ]
  },
  {
   "cell_type": "markdown",
   "id": "a29bbdd8-3315-40c7-a4b3-e078641b8fea",
   "metadata": {},
   "source": [
    "### import "
   ]
  },
  {
   "cell_type": "code",
   "execution_count": null,
   "id": "e992c826-c8a8-4b4f-8c71-52d64331c031",
   "metadata": {},
   "outputs": [],
   "source": []
  },
  {
   "cell_type": "code",
   "execution_count": 56,
   "id": "5b4c99c8-57c8-4639-aa0d-34d42a6b76a5",
   "metadata": {},
   "outputs": [],
   "source": [
    "import torch \n",
    "import pandas as pd \n",
    "from fastai.collab import * \n",
    "from fastai.tabular.all import * "
   ]
  },
  {
   "cell_type": "markdown",
   "id": "9cd2f00f-8c36-4b9f-9cb4-b76cba73254e",
   "metadata": {},
   "source": [
    "### data (시뮬레이션) "
   ]
  },
  {
   "cell_type": "code",
   "execution_count": 58,
   "id": "2bd0bb11-92b3-41d2-949c-360ed6a2e117",
   "metadata": {},
   "outputs": [
    {
     "data": {
      "text/html": [
       "<div>\n",
       "<style scoped>\n",
       "    .dataframe tbody tr th:only-of-type {\n",
       "        vertical-align: middle;\n",
       "    }\n",
       "\n",
       "    .dataframe tbody tr th {\n",
       "        vertical-align: top;\n",
       "    }\n",
       "\n",
       "    .dataframe thead th {\n",
       "        text-align: right;\n",
       "    }\n",
       "</style>\n",
       "<table border=\"1\" class=\"dataframe\">\n",
       "  <thead>\n",
       "    <tr style=\"text-align: right;\">\n",
       "      <th></th>\n",
       "      <th>user</th>\n",
       "      <th>item</th>\n",
       "      <th>rating</th>\n",
       "      <th>item_name</th>\n",
       "    </tr>\n",
       "  </thead>\n",
       "  <tbody>\n",
       "    <tr>\n",
       "      <th>0</th>\n",
       "      <td>1</td>\n",
       "      <td>16</td>\n",
       "      <td>1.407223</td>\n",
       "      <td>홍차7</td>\n",
       "    </tr>\n",
       "    <tr>\n",
       "      <th>1</th>\n",
       "      <td>1</td>\n",
       "      <td>9</td>\n",
       "      <td>3.949605</td>\n",
       "      <td>커피10</td>\n",
       "    </tr>\n",
       "    <tr>\n",
       "      <th>2</th>\n",
       "      <td>1</td>\n",
       "      <td>4</td>\n",
       "      <td>3.925618</td>\n",
       "      <td>커피5</td>\n",
       "    </tr>\n",
       "    <tr>\n",
       "      <th>3</th>\n",
       "      <td>1</td>\n",
       "      <td>8</td>\n",
       "      <td>3.889488</td>\n",
       "      <td>커피9</td>\n",
       "    </tr>\n",
       "    <tr>\n",
       "      <th>4</th>\n",
       "      <td>1</td>\n",
       "      <td>6</td>\n",
       "      <td>4.215800</td>\n",
       "      <td>커피7</td>\n",
       "    </tr>\n",
       "    <tr>\n",
       "      <th>...</th>\n",
       "      <td>...</td>\n",
       "      <td>...</td>\n",
       "      <td>...</td>\n",
       "      <td>...</td>\n",
       "    </tr>\n",
       "    <tr>\n",
       "      <th>953</th>\n",
       "      <td>100</td>\n",
       "      <td>11</td>\n",
       "      <td>3.886853</td>\n",
       "      <td>홍차2</td>\n",
       "    </tr>\n",
       "    <tr>\n",
       "      <th>954</th>\n",
       "      <td>100</td>\n",
       "      <td>18</td>\n",
       "      <td>3.851641</td>\n",
       "      <td>홍차9</td>\n",
       "    </tr>\n",
       "    <tr>\n",
       "      <th>955</th>\n",
       "      <td>100</td>\n",
       "      <td>17</td>\n",
       "      <td>3.588314</td>\n",
       "      <td>홍차8</td>\n",
       "    </tr>\n",
       "    <tr>\n",
       "      <th>956</th>\n",
       "      <td>100</td>\n",
       "      <td>16</td>\n",
       "      <td>3.927570</td>\n",
       "      <td>홍차7</td>\n",
       "    </tr>\n",
       "    <tr>\n",
       "      <th>957</th>\n",
       "      <td>100</td>\n",
       "      <td>10</td>\n",
       "      <td>1.053802</td>\n",
       "      <td>홍차1</td>\n",
       "    </tr>\n",
       "  </tbody>\n",
       "</table>\n",
       "<p>958 rows × 4 columns</p>\n",
       "</div>"
      ],
      "text/plain": [
       "     user  item    rating item_name\n",
       "0       1    16  1.407223       홍차7\n",
       "1       1     9  3.949605      커피10\n",
       "2       1     4  3.925618       커피5\n",
       "3       1     8  3.889488       커피9\n",
       "4       1     6  4.215800       커피7\n",
       "..    ...   ...       ...       ...\n",
       "953   100    11  3.886853       홍차2\n",
       "954   100    18  3.851641       홍차9\n",
       "955   100    17  3.588314       홍차8\n",
       "956   100    16  3.927570       홍차7\n",
       "957   100    10  1.053802       홍차1\n",
       "\n",
       "[958 rows x 4 columns]"
      ]
     },
     "execution_count": 58,
     "metadata": {},
     "output_type": "execute_result"
    }
   ],
   "source": [
    "df=pd.read_csv('https://raw.githubusercontent.com/guebin/2021BDA/master/_notebooks/2021-11-30-recommend.csv')\n",
    "df"
   ]
  },
  {
   "cell_type": "code",
   "execution_count": null,
   "id": "49009a39-b308-4e9c-ad4a-5c06ed06428a",
   "metadata": {},
   "outputs": [],
   "source": []
  }
 ],
 "metadata": {
  "kernelspec": {
   "display_name": "Python 3 (ipykernel)",
   "language": "python",
   "name": "python3"
  },
  "language_info": {
   "codemirror_mode": {
    "name": "ipython",
    "version": 3
   },
   "file_extension": ".py",
   "mimetype": "text/x-python",
   "name": "python",
   "nbconvert_exporter": "python",
   "pygments_lexer": "ipython3",
   "version": "3.8.12"
  }
 },
 "nbformat": 4,
 "nbformat_minor": 5
}
