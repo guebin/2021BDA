{
 "cells": [
  {
   "cell_type": "markdown",
   "id": "1a1f58b0-face-4bfc-af71-c0640edcea06",
   "metadata": {
    "tags": []
   },
   "source": [
    "# (4주차) 10월5일\n",
    "> 신경망의 표현력 \n",
    "\n",
    "- toc:true\n",
    "- branch: master\n",
    "- badges: true\n",
    "- comments: true\n",
    "- author: 최규빈"
   ]
  },
  {
   "cell_type": "markdown",
   "id": "bb8ee6dd-dcd7-426c-9559-c729ab153a1f",
   "metadata": {},
   "source": [
    "### Import "
   ]
  },
  {
   "cell_type": "code",
   "execution_count": null,
   "id": "73a4851c-02cd-4077-a1a5-62fd6999bb19",
   "metadata": {},
   "outputs": [],
   "source": []
  }
 ],
 "metadata": {
  "kernelspec": {
   "display_name": "Python 3 (ipykernel)",
   "language": "python",
   "name": "python3"
  },
  "language_info": {
   "codemirror_mode": {
    "name": "ipython",
    "version": 3
   },
   "file_extension": ".py",
   "mimetype": "text/x-python",
   "name": "python",
   "nbconvert_exporter": "python",
   "pygments_lexer": "ipython3",
   "version": "3.8.11"
  }
 },
 "nbformat": 4,
 "nbformat_minor": 5
}
