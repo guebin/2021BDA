{
 "cells": [
  {
   "cell_type": "markdown",
   "id": "f3553b32-b994-44a7-baea-e85d57f2ce34",
   "metadata": {
    "tags": []
   },
   "source": [
    "# (7주차) 10월26일\n",
    "> Pytorch CNN (MNIST 3,7)\n",
    "\n",
    "- toc:true\n",
    "- branch: master\n",
    "- badges: true\n",
    "- comments: true\n",
    "- author: 최규빈"
   ]
  },
  {
   "cell_type": "markdown",
   "id": "1dfc24ec-54df-423e-afcc-d2f66b52531b",
   "metadata": {},
   "source": [
    "### 강의영상 "
   ]
  },
  {
   "cell_type": "markdown",
   "id": "0a754c63-4fd5-42eb-a483-4dc7dd7c008c",
   "metadata": {},
   "source": [
    "> youtube: https://youtube.com/playlist?list=PLQqh36zP38-z7YonYSeq4PyhLt-ab37OJ"
   ]
  },
  {
   "cell_type": "markdown",
   "id": "bf5f2719-640e-4366-9fe5-9d71a2240b74",
   "metadata": {},
   "source": [
    "`-` (1/2) CNN 모형구축  (MNIST 3,7)"
   ]
  },
  {
   "cell_type": "markdown",
   "id": "3b5196df-6542-4b82-a03f-ee66bfcd3609",
   "metadata": {},
   "source": [
    "`-` (2/2) 과제설명 "
   ]
  },
  {
   "cell_type": "markdown",
   "id": "84609931-b98d-40d2-9ca9-912e3f98f3ca",
   "metadata": {},
   "source": [
    "### import "
   ]
  },
  {
   "cell_type": "code",
   "execution_count": 1,
   "id": "94447313-55da-4ba4-ae45-96e96a7e8da1",
   "metadata": {},
   "outputs": [],
   "source": [
    "import torch \n",
    "from fastai.vision.all import * "
   ]
  },
  {
   "cell_type": "code",
   "execution_count": 2,
   "id": "0bedb3e2-9017-4089-83b3-9af34bba047a",
   "metadata": {},
   "outputs": [],
   "source": [
    "import graphviz"
   ]
  },
  {
   "cell_type": "code",
   "execution_count": 3,
   "id": "7b2e79da-4995-4036-b098-57da5da84da1",
   "metadata": {},
   "outputs": [],
   "source": [
    "def gv(s): return graphviz.Source('digraph G{ rankdir=\"LR\"'+ s + ';}')"
   ]
  },
  {
   "cell_type": "markdown",
   "id": "a259f5e0-92b3-4afc-a15d-55128ddf019f",
   "metadata": {},
   "source": [
    "### data "
   ]
  },
  {
   "cell_type": "markdown",
   "id": "dc8f2f0b-d2b0-4183-8dba-79e3365c0b17",
   "metadata": {},
   "source": [
    "`-` download data "
   ]
  },
  {
   "cell_type": "code",
   "execution_count": 4,
   "id": "eefa10af-44a1-4dc1-b8e7-99782aa35838",
   "metadata": {},
   "outputs": [],
   "source": [
    "path = untar_data(URLs.MNIST_SAMPLE)"
   ]
  },
  {
   "cell_type": "code",
   "execution_count": 5,
   "id": "a3c3efc0-189f-4643-8ec7-e22bb07c5ed7",
   "metadata": {},
   "outputs": [
    {
     "data": {
      "text/plain": [
       "(#3) [Path('/home/cgb4/.fastai/data/mnist_sample/labels.csv'),Path('/home/cgb4/.fastai/data/mnist_sample/train'),Path('/home/cgb4/.fastai/data/mnist_sample/valid')]"
      ]
     },
     "execution_count": 5,
     "metadata": {},
     "output_type": "execute_result"
    }
   ],
   "source": [
    "path.ls()"
   ]
  },
  {
   "cell_type": "markdown",
   "id": "bc644873-334d-436b-9e1f-88a239b37836",
   "metadata": {},
   "source": [
    "`-` list "
   ]
  },
  {
   "cell_type": "code",
   "execution_count": 6,
   "id": "585a1726-58e6-41b4-8909-e823aa6cd06c",
   "metadata": {},
   "outputs": [],
   "source": [
    "threes=(path/'train'/'3').ls()\n",
    "sevens=(path/'train'/'7').ls()"
   ]
  },
  {
   "cell_type": "markdown",
   "id": "8d531782-2666-499c-9131-de641f256275",
   "metadata": {},
   "source": [
    "`-` list $\\to$ image "
   ]
  },
  {
   "cell_type": "code",
   "execution_count": 7,
   "id": "ef6bdd32-14ac-4024-a0e3-3347813bd0c6",
   "metadata": {},
   "outputs": [
    {
     "data": {
      "image/png": "[encoded data removed]",
      "text/plain": [
       "<PIL.PngImagePlugin.PngImageFile image mode=L size=28x28 at 0x7FDECEA674C0>"
      ]
     },
     "execution_count": 7,
     "metadata": {},
     "output_type": "execute_result"
    }
   ],
   "source": [
    "Image.open(threes[4])"
   ]
  },
  {
   "cell_type": "markdown",
   "id": "390c7430-3e09-4749-80e5-da59fbbe274c",
   "metadata": {},
   "source": [
    "`-` image $\\to$ tensor "
   ]
  },
  {
   "cell_type": "code",
   "execution_count": 8,
   "id": "57e47fe6-7218-43fb-9559-74e6245945f0",
   "metadata": {},
   "outputs": [
    {
     "data": {
      "text/plain": [
       "tensor([[  0,   0,   0,   0,   0,   0,   0,   0,   0,   0,   0,   0,   0,   0,\n",
       "           0,   0,   0,   0,   0,   0,   0,   0,   0,   0,   0,   0,   0,   0],\n",
       "        [  0,   0,   0,   0,   0,   0,   0,   0,   0,   0,   0,   0,   0,   0,\n",
       "           0,   0,   0,   0,   0,   0,   0,   0,   0,   0,   0,   0,   0,   0],\n",
       "        [  0,   0,   0,   0,   0,   0,   0,   0,   0,   0,   0,   0,   0,   0,\n",
       "           0,   0,   0,   0,   0,   0,   0,   0,   0,   0,   0,   0,   0,   0],\n",
       "        [  0,   0,   0,   0,   0,   0,   0,   0,   0,   0,   0,   0,   0,   0,\n",
       "           0,   0,   0,   0,   0,   0,   0,   0,   0,   0,   0,   0,   0,   0],\n",
       "        [  0,   0,   0,   0,   0,   0,   0,   0,   0,   0,   0,   0,   0,   0,\n",
       "           0,   0,   0,   0,   0,   0,   0,   0,   0,   0,   0,   0,   0,   0],\n",
       "        [  0,   0,   0,   0,   0,   0,   0,   0,   0,   0,   0,   1,  72, 156,\n",
       "         241, 254, 255, 188,   9,   0,   0,   0,   0,   0,   0,   0,   0,   0],\n",
       "        [  0,   0,   0,   0,   0,   0,   0,   0,   0,   0,  17, 168, 250, 232,\n",
       "         147,  79, 143, 254,  25,   0,   0,   0,   0,   0,   0,   0,   0,   0],\n",
       "        [  0,   0,   0,   0,   0,   0,   0,   0,   0, 109, 231, 164,  39,   0,\n",
       "           0,   0,  86, 251,  24,   0,   0,   0,   0,   0,   0,   0,   0,   0],\n",
       "        [  0,   0,   0,   0,   0,   0,   0,   0,   0,  81,  40,   0,   0,   0,\n",
       "           0,   4, 200, 157,   0,   0,   0,   0,   0,   0,   0,   0,   0,   0],\n",
       "        [  0,   0,   0,   0,   0,   0,   0,   0,   0,   0,   0,   0,   0,   0,\n",
       "           0,  92, 249,  27,   0,   0,   0,   0,   0,   0,   0,   0,   0,   0],\n",
       "        [  0,   0,   0,   0,   0,   0,   0,   0,   0,   0,   0,   0,   0,   0,\n",
       "           5, 221, 128,   0,   0,   0,   0,   0,   0,   0,   0,   0,   0,   0],\n",
       "        [  0,   0,   0,   0,   0,   0,   0,   0,   0,   0,   0,   0,   0,   0,\n",
       "         147, 185,  19,   0,   0,   0,   0,   0,   0,   0,   0,   0,   0,   0],\n",
       "        [  0,   0,   0,   0,   0,   0,   0,   0,   0,   0,   0,   0,   0, 137,\n",
       "         224,  20,   0,   0,   0,   0,   0,   0,   0,   0,   0,   0,   0,   0],\n",
       "        [  0,   0,   0,   0,   0,   0,   0,   0,   0,   0,   0,   0, 137, 239,\n",
       "          68,   0,   0,   0,   0,   0,   0,   0,   0,   0,   0,   0,   0,   0],\n",
       "        [  0,   0,   0,   0,   0,   0,   0,   0,   0,   0,   0,  83, 239,  95,\n",
       "           0,   0,   0,   0,   0,   0,   0,   0,   0,   0,   0,   0,   0,   0],\n",
       "        [  0,   0,   0,   0,   0,   0,   0,   0,   0,   0,  83, 245, 104,   0,\n",
       "           0,   0,   0,   0,   0,   0,   0,   0,   0,   0,   0,   0,   0,   0],\n",
       "        [  0,   0,   0,   0,   0,   0,   0,   0,   0,   0, 179, 254, 224, 217,\n",
       "         147,  36,   0,   0,   0,   0,   0,   0,   0,   0,   0,   0,   0,   0],\n",
       "        [  0,   0,   0,   0,   0,   0,   0,   0,   0,   0,  15,  44, 117, 117,\n",
       "         196, 237, 104,   7,   0,   0,   0,   0,   0,   0,   0,   0,   0,   0],\n",
       "        [  0,   0,   0,   0,   0,   0,   0,   0,   0,   0,   0,   0,   0,   0,\n",
       "           6, 117, 246,  95,   0,   0,   0,   0,   0,   0,   0,   0,   0,   0],\n",
       "        [  0,   0,   0,   0,   0,   0,   0,   0,   0,   0,   0,   0,   0,   0,\n",
       "           0,   0,  85, 241,  22,   0,   0,   0,   0,   0,   0,   0,   0,   0],\n",
       "        [  0,   0,   0,   0,   0,   0,   0,   0,   0,   0,   0,   0,   0,   0,\n",
       "           0,   0,   0, 225, 102,   0,   0,   0,   0,   0,   0,   0,   0,   0],\n",
       "        [  0,   0,   0,   0,   0,   0,   0,   0,   0,   0,   0,   0,   0,   0,\n",
       "           0,   0,   0, 170, 131,   0,   0,   0,   0,   0,   0,   0,   0,   0],\n",
       "        [  0,   0,   0,   0,   0,   0,   0,   0,   0,   0,  28, 104,   0,   0,\n",
       "           0,   0,  17, 234,  87,   0,   0,   0,   0,   0,   0,   0,   0,   0],\n",
       "        [  0,   0,   0,   0,   0,   0,   0,   0,   0,   0,   1, 198, 179,  29,\n",
       "           0,  42, 199, 235,  17,   0,   0,   0,   0,   0,   0,   0,   0,   0],\n",
       "        [  0,   0,   0,   0,   0,   0,   0,   0,   0,   0,   0,  14, 154, 236,\n",
       "         250, 252, 163,  12,   0,   0,   0,   0,   0,   0,   0,   0,   0,   0],\n",
       "        [  0,   0,   0,   0,   0,   0,   0,   0,   0,   0,   0,   0,   0,   0,\n",
       "           0,   0,   0,   0,   0,   0,   0,   0,   0,   0,   0,   0,   0,   0],\n",
       "        [  0,   0,   0,   0,   0,   0,   0,   0,   0,   0,   0,   0,   0,   0,\n",
       "           0,   0,   0,   0,   0,   0,   0,   0,   0,   0,   0,   0,   0,   0],\n",
       "        [  0,   0,   0,   0,   0,   0,   0,   0,   0,   0,   0,   0,   0,   0,\n",
       "           0,   0,   0,   0,   0,   0,   0,   0,   0,   0,   0,   0,   0,   0]],\n",
       "       dtype=torch.uint8)"
      ]
     },
     "execution_count": 8,
     "metadata": {},
     "output_type": "execute_result"
    }
   ],
   "source": [
    "tensor(Image.open(threes[4]))"
   ]
  },
  {
   "cell_type": "markdown",
   "id": "36e2a40a-0ea7-4b73-bdcc-41cb9c13fcb3",
   "metadata": {},
   "source": [
    "- 여기에서 tensor는 파이토치가 아니라 fastai에서 구현한 함수임 "
   ]
  },
  {
   "cell_type": "markdown",
   "id": "a2b975bf-fd5f-4915-9905-75dc7b5c1e11",
   "metadata": {},
   "source": [
    "`-` 여러개의 리스트를 모두 텐서로 바꿔보자. "
   ]
  },
  {
   "cell_type": "code",
   "execution_count": 9,
   "id": "c021d0cb-caf2-46a4-b101-e9a4581dfbb9",
   "metadata": {},
   "outputs": [],
   "source": [
    "seven_tensor = torch.stack([tensor(Image.open(i)) for i in sevens]).float()/255\n",
    "three_tensor = torch.stack([tensor(Image.open(i)) for i in threes]).float()/255"
   ]
  },
  {
   "cell_type": "markdown",
   "id": "52adf4f6-1538-429c-9e97-ade1629ed98c",
   "metadata": {},
   "source": [
    "`-` $X$와 $y$를 만들자. "
   ]
  },
  {
   "cell_type": "code",
   "execution_count": 10,
   "id": "8530952e-db11-4258-a61f-82484da3d01f",
   "metadata": {},
   "outputs": [
    {
     "data": {
      "text/plain": [
       "(torch.Size([6265, 28, 28]), torch.Size([6131, 28, 28]))"
      ]
     },
     "execution_count": 10,
     "metadata": {},
     "output_type": "execute_result"
    }
   ],
   "source": [
    "seven_tensor.shape, three_tensor.shape"
   ]
  },
  {
   "cell_type": "code",
   "execution_count": 11,
   "id": "b1c18dea-07df-4d1a-af03-52320a039375",
   "metadata": {},
   "outputs": [],
   "source": [
    "y=torch.tensor([0.0]*6265+ [1.0]*6131).reshape(12396,1)"
   ]
  },
  {
   "cell_type": "code",
   "execution_count": 12,
   "id": "f6f19f64-4527-4f54-b7f1-3bfada66138c",
   "metadata": {},
   "outputs": [],
   "source": [
    "X=torch.vstack([seven_tensor,three_tensor]).reshape(12396,-1)"
   ]
  },
  {
   "cell_type": "code",
   "execution_count": 13,
   "id": "525188e3-e476-4a67-aeaa-b72f21f81d7b",
   "metadata": {},
   "outputs": [
    {
     "data": {
      "text/plain": [
       "(torch.Size([12396, 784]), torch.Size([12396, 1]))"
      ]
     },
     "execution_count": 13,
     "metadata": {},
     "output_type": "execute_result"
    }
   ],
   "source": [
    "X.shape, y.shape"
   ]
  },
  {
   "cell_type": "code",
   "execution_count": 16,
   "id": "eed2e9c8-0968-411b-b001-a1f0f57e437f",
   "metadata": {},
   "outputs": [],
   "source": [
    "X=X.reshape(12396,1,28,28)"
   ]
  },
  {
   "cell_type": "code",
   "execution_count": 17,
   "id": "4e4aad3d-d379-426b-8b23-3738ab7ab002",
   "metadata": {},
   "outputs": [
    {
     "data": {
      "text/plain": [
       "torch.Size([12396, 1, 28, 28])"
      ]
     },
     "execution_count": 17,
     "metadata": {},
     "output_type": "execute_result"
    }
   ],
   "source": [
    "X.shape"
   ]
  },
  {
   "cell_type": "markdown",
   "id": "737bdbcc-6477-4d73-9caf-a5c592026ceb",
   "metadata": {
    "tags": []
   },
   "source": [
    "### 지난시간까지의 모형 "
   ]
  },
  {
   "cell_type": "markdown",
   "id": "4aa846b1-7d79-400f-986d-573e5285740d",
   "metadata": {
    "tags": []
   },
   "source": [
    "#### 2d convolution with windowsize=5"
   ]
  },
  {
   "cell_type": "code",
   "execution_count": 18,
   "id": "250227c1-3fba-4648-b569-1fd32e21aa41",
   "metadata": {},
   "outputs": [],
   "source": [
    "c1=torch.nn.Conv2d(1,16,5) # 입력채널=1 (흑백이므로), 출력채널=16, 윈도우크기5 "
   ]
  },
  {
   "cell_type": "code",
   "execution_count": 19,
   "id": "fb240922-7c77-438c-b341-d301ec8e62c6",
   "metadata": {},
   "outputs": [
    {
     "data": {
      "text/plain": [
       "(torch.Size([12396, 1, 28, 28]), torch.Size([12396, 16, 24, 24]))"
      ]
     },
     "execution_count": 19,
     "metadata": {},
     "output_type": "execute_result"
    }
   ],
   "source": [
    "X.shape, c1(X).shape"
   ]
  },
  {
   "cell_type": "markdown",
   "id": "adf353ab-ee1d-4612-8b19-fc954669fe0a",
   "metadata": {},
   "source": [
    "#### MaxPool2d"
   ]
  },
  {
   "cell_type": "code",
   "execution_count": 20,
   "id": "f59c84b5-bf3c-49f0-9515-b2f623afef7c",
   "metadata": {},
   "outputs": [],
   "source": [
    "m1=torch.nn.MaxPool2d(2)"
   ]
  },
  {
   "cell_type": "code",
   "execution_count": 21,
   "id": "f39a6b91-8a83-45d7-9a2b-ad7eb462a125",
   "metadata": {},
   "outputs": [
    {
     "data": {
      "text/plain": [
       "(torch.Size([12396, 1, 28, 28]),\n",
       " torch.Size([12396, 16, 24, 24]),\n",
       " torch.Size([12396, 16, 12, 12]))"
      ]
     },
     "execution_count": 21,
     "metadata": {},
     "output_type": "execute_result"
    }
   ],
   "source": [
    "X.shape,c1(X).shape,m1(c1(X)).shape"
   ]
  },
  {
   "cell_type": "markdown",
   "id": "67cb3097-0de6-4215-b1e2-98510a3cfb56",
   "metadata": {},
   "source": [
    "#### ReLU "
   ]
  },
  {
   "cell_type": "code",
   "execution_count": 23,
   "id": "2b3d0b4b-9f78-4559-8833-a31025e67e48",
   "metadata": {},
   "outputs": [],
   "source": [
    "a1=torch.nn.ReLU()"
   ]
  },
  {
   "cell_type": "code",
   "execution_count": 24,
   "id": "f8ed9b29-9a9c-4f33-8fc2-aaf812fe29ba",
   "metadata": {},
   "outputs": [
    {
     "data": {
      "text/plain": [
       "(torch.Size([12396, 1, 28, 28]),\n",
       " torch.Size([12396, 16, 24, 24]),\n",
       " torch.Size([12396, 16, 12, 12]),\n",
       " torch.Size([12396, 16, 12, 12]))"
      ]
     },
     "execution_count": 24,
     "metadata": {},
     "output_type": "execute_result"
    }
   ],
   "source": [
    "X.shape,c1(X).shape, m1(c1(X)).shape, a1(m1(c1(X))).shape"
   ]
  },
  {
   "cell_type": "markdown",
   "id": "9d7bb0d2-7a61-4ac1-919d-271fe931633c",
   "metadata": {},
   "source": [
    "### flatten "
   ]
  },
  {
   "cell_type": "code",
   "execution_count": 25,
   "id": "02600bb9-6868-4825-a827-e57a3a6880ef",
   "metadata": {},
   "outputs": [],
   "source": [
    "class Flatten(torch.nn.Module):\n",
    "    def forward(self,x): \n",
    "        return x.reshape(12396,-1)"
   ]
  },
  {
   "cell_type": "code",
   "execution_count": 26,
   "id": "66b7fde4-ab89-43d4-9144-19ced26b97a4",
   "metadata": {},
   "outputs": [],
   "source": [
    "flatten=Flatten()"
   ]
  },
  {
   "cell_type": "code",
   "execution_count": 28,
   "id": "d5f4a324-7d81-4a0a-97d2-487cb7d379d9",
   "metadata": {},
   "outputs": [
    {
     "data": {
      "text/plain": [
       "(torch.Size([12396, 1, 28, 28]),\n",
       " torch.Size([12396, 16, 24, 24]),\n",
       " torch.Size([12396, 16, 12, 12]),\n",
       " torch.Size([12396, 16, 12, 12]),\n",
       " torch.Size([12396, 2304]))"
      ]
     },
     "execution_count": 28,
     "metadata": {},
     "output_type": "execute_result"
    }
   ],
   "source": [
    "X.shape,c1(X).shape, m1(c1(X)).shape, a1(m1(c1(X))).shape, flatten(a1(m1(c1(X)))).shape"
   ]
  },
  {
   "cell_type": "markdown",
   "id": "c5177d85-1ead-43bf-a7c3-16d8bb63f7e0",
   "metadata": {},
   "source": [
    "#### linear "
   ]
  },
  {
   "cell_type": "code",
   "execution_count": 30,
   "id": "4fb124b8-c5f0-48f4-b305-7c57ae58787d",
   "metadata": {},
   "outputs": [],
   "source": [
    "l1=torch.nn.Linear(in_features=2304,out_features=1) "
   ]
  },
  {
   "cell_type": "code",
   "execution_count": 37,
   "id": "ed0b5d54-2e02-4cd0-afbd-ee450088e08e",
   "metadata": {},
   "outputs": [
    {
     "data": {
      "text/plain": [
       "(torch.Size([12396, 1, 28, 28]),\n",
       " torch.Size([12396, 16, 24, 24]),\n",
       " torch.Size([12396, 16, 12, 12]),\n",
       " torch.Size([12396, 16, 12, 12]),\n",
       " torch.Size([12396, 2304]),\n",
       " torch.Size([12396, 1]))"
      ]
     },
     "execution_count": 37,
     "metadata": {},
     "output_type": "execute_result"
    }
   ],
   "source": [
    "X.shape,\\\n",
    "c1(X).shape, \\\n",
    "m1(c1(X)).shape, \\\n",
    "a1(m1(c1(X))).shape, \\\n",
    "flatten(a1(m1(c1(X)))).shape, \\\n",
    "l1(flatten(a1(m1(c1(X))))).shape"
   ]
  },
  {
   "cell_type": "code",
   "execution_count": 38,
   "id": "998c90bb-d3a6-4ae4-b626-06a0a716fae2",
   "metadata": {},
   "outputs": [
    {
     "data": {
      "text/plain": [
       "[<matplotlib.lines.Line2D at 0x7fdece25f040>]"
      ]
     },
     "execution_count": 38,
     "metadata": {},
     "output_type": "execute_result"
    },
    {
     "data": {
      "image/png": "[encoded data removed]",
      "text/plain": [
       "<Figure size 432x288 with 1 Axes>"
      ]
     },
     "metadata": {
      "needs_background": "light"
     },
     "output_type": "display_data"
    }
   ],
   "source": [
    "plt.plot(l1(flatten(a1(m1(c1(X))))).data)"
   ]
  },
  {
   "cell_type": "markdown",
   "id": "f3bcef3d-31d0-43b6-be21-f8e630307aa8",
   "metadata": {},
   "source": [
    "#### networks 설계 "
   ]
  },
  {
   "cell_type": "code",
   "execution_count": 39,
   "id": "d0ff02c4-9be8-4514-8b15-104383952a56",
   "metadata": {},
   "outputs": [],
   "source": [
    "net = nn.Sequential(c1,m1,a1,flatten,l1)\n",
    "## 마지막의 sigmoid는 생략한다. torch.nn..BCEWithLogitsLoss()에 내장되어 있을것이므로 "
   ]
  },
  {
   "cell_type": "markdown",
   "id": "589470aa-77f1-4b07-ae3c-862a9e6ef217",
   "metadata": {},
   "source": [
    "`-` 손실함수와 옵티마이저 정의 "
   ]
  },
  {
   "cell_type": "code",
   "execution_count": 40,
   "id": "5557f21d-e49f-4c59-82df-5a3def4c7373",
   "metadata": {},
   "outputs": [],
   "source": [
    "loss_fn=torch.nn.BCEWithLogitsLoss()\n",
    "optimizer= torch.optim.Adam(net.parameters())"
   ]
  },
  {
   "cell_type": "markdown",
   "id": "ad4acb60-c25e-4456-bef9-02494f690251",
   "metadata": {},
   "source": [
    "`-` step1~4"
   ]
  },
  {
   "cell_type": "code",
   "execution_count": 41,
   "id": "428e4b35-c9b0-40e9-b437-e02382626977",
   "metadata": {},
   "outputs": [],
   "source": [
    "for epoc in range(200): \n",
    "    ## 1 \n",
    "    yhat=net(X)\n",
    "    ## 2 \n",
    "    loss=loss_fn(yhat,y) \n",
    "    ## 3 \n",
    "    loss.backward()\n",
    "    ## 4 \n",
    "    optimizer.step()\n",
    "    net.zero_grad()"
   ]
  },
  {
   "cell_type": "code",
   "execution_count": 42,
   "id": "eb62dcb0-e013-4cf7-88cd-c8c21dbd472c",
   "metadata": {},
   "outputs": [],
   "source": [
    "a2= torch.nn.Sigmoid()"
   ]
  },
  {
   "cell_type": "code",
   "execution_count": 48,
   "id": "c02ffd43-ab88-423f-9970-5b211bbba28e",
   "metadata": {},
   "outputs": [
    {
     "data": {
      "text/plain": [
       "[<matplotlib.lines.Line2D at 0x7fdec829d7c0>]"
      ]
     },
     "execution_count": 48,
     "metadata": {},
     "output_type": "execute_result"
    },
    {
     "data": {
      "image/png": "[encoded data removed]",
      "text/plain": [
       "<Figure size 432x288 with 1 Axes>"
      ]
     },
     "metadata": {
      "needs_background": "light"
     },
     "output_type": "display_data"
    }
   ],
   "source": [
    "plt.plot(y)\n",
    "plt.plot(a2(yhat.data),'.')"
   ]
  },
  {
   "cell_type": "code",
   "execution_count": 44,
   "id": "c18f3ae9-5a83-4443-bfa3-e632636d62d5",
   "metadata": {},
   "outputs": [],
   "source": [
    "ypred=a2(yhat.data)>0.5 "
   ]
  },
  {
   "cell_type": "code",
   "execution_count": 46,
   "id": "702b1e57-0fa9-434d-a0c6-e368faefdf5f",
   "metadata": {},
   "outputs": [
    {
     "data": {
      "text/plain": [
       "tensor([0.9920])"
      ]
     },
     "execution_count": 46,
     "metadata": {},
     "output_type": "execute_result"
    }
   ],
   "source": [
    "sum(ypred==y)/12396"
   ]
  },
  {
   "cell_type": "markdown",
   "id": "a7488c30-2e54-4dc5-b42c-b1190dc4054b",
   "metadata": {},
   "source": [
    "### 드랍이웃, 배치추가 (fastai + 내가 만든 네트워크) "
   ]
  },
  {
   "cell_type": "markdown",
   "id": "84b80298-3c82-4205-9fc9-e98e7b38e3df",
   "metadata": {},
   "source": [
    "#### step1: dls를 만들자. "
   ]
  },
  {
   "cell_type": "code",
   "execution_count": 49,
   "id": "0a7f283e-ec07-42e7-92bb-f0e04a6ab986",
   "metadata": {},
   "outputs": [],
   "source": [
    "ds=torch.utils.data.TensorDataset(X,y)"
   ]
  },
  {
   "cell_type": "code",
   "execution_count": 52,
   "id": "148eac13-3bf0-407b-bac6-37926cecc9ba",
   "metadata": {},
   "outputs": [
    {
     "data": {
      "text/plain": [
       "torch.Size([12396, 1, 28, 28])"
      ]
     },
     "execution_count": 52,
     "metadata": {},
     "output_type": "execute_result"
    }
   ],
   "source": [
    "ds.tensors[0].shape"
   ]
  },
  {
   "cell_type": "code",
   "execution_count": 55,
   "id": "0f96d874-1f22-4b9e-8963-acf72bdb2b87",
   "metadata": {},
   "outputs": [],
   "source": [
    "ds1,ds2 = torch.utils.data.random_split(ds,[10000,2396]) "
   ]
  },
  {
   "cell_type": "code",
   "execution_count": 57,
   "id": "2d9c79bd-314f-47f3-b6ba-d1c1db60ba49",
   "metadata": {},
   "outputs": [],
   "source": [
    "dl1 = torch.utils.data.DataLoader(ds1,batch_size=500) \n",
    "dl2 = torch.utils.data.DataLoader(ds2,batch_size=2396) "
   ]
  },
  {
   "cell_type": "code",
   "execution_count": 58,
   "id": "4dc92741-6de2-457b-ac60-cdc2d0582c0a",
   "metadata": {},
   "outputs": [],
   "source": [
    "dls=DataLoaders(dl1,dl2) "
   ]
  },
  {
   "cell_type": "markdown",
   "id": "4a1bd941-8a57-4dfa-acca-577690e69b93",
   "metadata": {},
   "source": [
    "#### step2: 아키텍처, 손실함수, 옵티마이저 "
   ]
  },
  {
   "cell_type": "code",
   "execution_count": 93,
   "id": "92942806-88bb-4cf6-932c-51a35a4ea07e",
   "metadata": {},
   "outputs": [],
   "source": [
    "class Flatten(torch.nn.Module):\n",
    "    def forward(self,x): \n",
    "        return x.reshape(x.shape[0],-1)"
   ]
  },
  {
   "cell_type": "code",
   "execution_count": 94,
   "id": "3d96af86-5962-4e43-9545-e8ac179843e0",
   "metadata": {},
   "outputs": [],
   "source": [
    "net=torch.nn.Sequential(\n",
    "    torch.nn.Conv2d(1,16,5), \n",
    "    torch.nn.MaxPool2d(2), \n",
    "    torch.nn.ReLU(),\n",
    "    torch.nn.Dropout2d(), \n",
    "    Flatten(),\n",
    "    torch.nn.Linear(2304,1))"
   ]
  },
  {
   "cell_type": "code",
   "execution_count": 95,
   "id": "0da0d260-bc5c-4130-89fb-2928cf72adac",
   "metadata": {},
   "outputs": [],
   "source": [
    "loss_fn=torch.nn.BCEWithLogitsLoss()\n",
    "#optimizer= torch.optim.Adam(net.parameters())"
   ]
  },
  {
   "cell_type": "markdown",
   "id": "3c8c6d20-d294-49cd-89cc-3c9407435237",
   "metadata": {},
   "source": [
    "#### step3: lrnr 생성 후 적합"
   ]
  },
  {
   "cell_type": "code",
   "execution_count": 96,
   "id": "c95b38c7-7a09-4c30-b90a-439709109a2f",
   "metadata": {},
   "outputs": [],
   "source": [
    "lrnr1 = Learner(dls,net,opt_func=Adam,loss_func=loss_fn) "
   ]
  },
  {
   "cell_type": "code",
   "execution_count": 97,
   "id": "29acdef5-1b67-4628-b4b4-607bbc2ab616",
   "metadata": {},
   "outputs": [
    {
     "data": {
      "text/html": [
       "<table border=\"1\" class=\"dataframe\">\n",
       "  <thead>\n",
       "    <tr style=\"text-align: left;\">\n",
       "      <th>epoch</th>\n",
       "      <th>train_loss</th>\n",
       "      <th>valid_loss</th>\n",
       "      <th>time</th>\n",
       "    </tr>\n",
       "  </thead>\n",
       "  <tbody>\n",
       "    <tr>\n",
       "      <td>0</td>\n",
       "      <td>0.496839</td>\n",
       "      <td>0.297676</td>\n",
       "      <td>00:00</td>\n",
       "    </tr>\n",
       "    <tr>\n",
       "      <td>1</td>\n",
       "      <td>0.321820</td>\n",
       "      <td>0.108709</td>\n",
       "      <td>00:00</td>\n",
       "    </tr>\n",
       "    <tr>\n",
       "      <td>2</td>\n",
       "      <td>0.218450</td>\n",
       "      <td>0.068134</td>\n",
       "      <td>00:00</td>\n",
       "    </tr>\n",
       "    <tr>\n",
       "      <td>3</td>\n",
       "      <td>0.161052</td>\n",
       "      <td>0.055339</td>\n",
       "      <td>00:00</td>\n",
       "    </tr>\n",
       "    <tr>\n",
       "      <td>4</td>\n",
       "      <td>0.125774</td>\n",
       "      <td>0.048283</td>\n",
       "      <td>00:00</td>\n",
       "    </tr>\n",
       "    <tr>\n",
       "      <td>5</td>\n",
       "      <td>0.102232</td>\n",
       "      <td>0.043202</td>\n",
       "      <td>00:00</td>\n",
       "    </tr>\n",
       "    <tr>\n",
       "      <td>6</td>\n",
       "      <td>0.085854</td>\n",
       "      <td>0.039505</td>\n",
       "      <td>00:00</td>\n",
       "    </tr>\n",
       "    <tr>\n",
       "      <td>7</td>\n",
       "      <td>0.074025</td>\n",
       "      <td>0.036417</td>\n",
       "      <td>00:00</td>\n",
       "    </tr>\n",
       "    <tr>\n",
       "      <td>8</td>\n",
       "      <td>0.065452</td>\n",
       "      <td>0.034444</td>\n",
       "      <td>00:00</td>\n",
       "    </tr>\n",
       "    <tr>\n",
       "      <td>9</td>\n",
       "      <td>0.059061</td>\n",
       "      <td>0.033016</td>\n",
       "      <td>00:00</td>\n",
       "    </tr>\n",
       "  </tbody>\n",
       "</table>"
      ],
      "text/plain": [
       "<IPython.core.display.HTML object>"
      ]
     },
     "metadata": {},
     "output_type": "display_data"
    }
   ],
   "source": [
    "lrnr1.fit(10)"
   ]
  },
  {
   "cell_type": "markdown",
   "id": "201fb1d0-d2a0-4a6a-9c13-2215f8f29b60",
   "metadata": {},
   "source": [
    "#### 각층에 접근"
   ]
  },
  {
   "cell_type": "code",
   "execution_count": 108,
   "id": "3d8cad63-83b5-41d6-b28b-c75288d49ace",
   "metadata": {},
   "outputs": [
    {
     "data": {
      "text/plain": [
       "Sequential(\n",
       "  (0): Conv2d(1, 16, kernel_size=(5, 5), stride=(1, 1))\n",
       "  (1): MaxPool2d(kernel_size=2, stride=2, padding=0, dilation=1, ceil_mode=False)\n",
       "  (2): ReLU()\n",
       "  (3): Dropout2d(p=0.5, inplace=False)\n",
       "  (4): Flatten()\n",
       "  (5): Linear(in_features=2304, out_features=1, bias=True)\n",
       ")"
      ]
     },
     "execution_count": 108,
     "metadata": {},
     "output_type": "execute_result"
    }
   ],
   "source": [
    "lrnr1.model"
   ]
  },
  {
   "cell_type": "code",
   "execution_count": 132,
   "id": "0b1ef3a9-80e1-46e5-a488-201c7ead090d",
   "metadata": {},
   "outputs": [
    {
     "name": "stdout",
     "output_type": "stream",
     "text": [
      "torch.Size([12396, 1, 28, 28]) --> 입력\n",
      "torch.Size([12396, 16, 24, 24]) --> 2d 컨볼루션\n",
      "torch.Size([12396, 16, 12, 12]) --> 맥스풀링\n",
      "torch.Size([12396, 16, 12, 12]) --> 렐루\n",
      "torch.Size([12396, 16, 12, 12]) --> 드랍아웃\n",
      "torch.Size([12396, 2304]) --> 플래튼\n",
      "torch.Size([12396, 1]) --> 리니어\n"
     ]
    }
   ],
   "source": [
    "print(X.to(\"cuda:0\").shape,'--> 입력')\n",
    "print(lrnr1.model[0](X.to(\"cuda:0\")).shape,'--> 2d 컨볼루션')\n",
    "print(lrnr1.model[1](lrnr1.model[0](X.to(\"cuda:0\"))).shape,'--> 맥스풀링') \n",
    "print(lrnr1.model[2](lrnr1.model[1](lrnr1.model[0](X.to(\"cuda:0\")))).shape,'--> 렐루')\n",
    "print(lrnr1.model[3](lrnr1.model[2](lrnr1.model[1](lrnr1.model[0](X.to(\"cuda:0\"))))).shape,'--> 드랍아웃') \n",
    "print(lrnr1.model[4](lrnr1.model[3](lrnr1.model[2](lrnr1.model[1](lrnr1.model[0](X.to(\"cuda:0\")))))).shape,'--> 플래튼')\n",
    "print(lrnr1.model[5](lrnr1.model[4](lrnr1.model[3](lrnr1.model[2](lrnr1.model[1](lrnr1.model[0](X.to(\"cuda:0\"))))))).shape,'--> 리니어')"
   ]
  },
  {
   "cell_type": "markdown",
   "id": "a0e90381-7e3e-4778-abc3-161570713d50",
   "metadata": {},
   "source": [
    "`-` 최종적으로는 아래와 같이 된다. "
   ]
  },
  {
   "cell_type": "code",
   "execution_count": 133,
   "id": "e94425af-a533-4735-a9e0-c981195aac13",
   "metadata": {},
   "outputs": [
    {
     "data": {
      "text/plain": [
       "tensor([[-7.6775],\n",
       "        [-6.6676],\n",
       "        [ 0.5768],\n",
       "        ...,\n",
       "        [13.1107],\n",
       "        [15.3253],\n",
       "        [ 8.0247]], device='cuda:0', grad_fn=<AddmmBackward>)"
      ]
     },
     "execution_count": 133,
     "metadata": {},
     "output_type": "execute_result"
    }
   ],
   "source": [
    "lrnr1.model[5](lrnr1.model[4](lrnr1.model[3](lrnr1.model[2](lrnr1.model[1](lrnr1.model[0](X.to(\"cuda:0\")))))))"
   ]
  },
  {
   "cell_type": "markdown",
   "id": "a773826e-31e8-472e-81de-36f73a1a081f",
   "metadata": {},
   "source": [
    "`-` 위의 결과는 아래들과 같다. "
   ]
  },
  {
   "cell_type": "code",
   "execution_count": 135,
   "id": "03e2373f-a4a9-4807-b4df-fcb21690c34f",
   "metadata": {},
   "outputs": [
    {
     "data": {
      "text/plain": [
       "tensor([[-7.6775],\n",
       "        [-6.6676],\n",
       "        [ 0.5768],\n",
       "        ...,\n",
       "        [13.1107],\n",
       "        [15.3253],\n",
       "        [ 8.0247]], device='cuda:0', grad_fn=<AddmmBackward>)"
      ]
     },
     "execution_count": 135,
     "metadata": {},
     "output_type": "execute_result"
    }
   ],
   "source": [
    "lrnr1.model(X.to(\"cuda:0\"))"
   ]
  },
  {
   "cell_type": "code",
   "execution_count": 136,
   "id": "7ed9fc9f-b7ba-4e2a-bfac-0162defdcbef",
   "metadata": {},
   "outputs": [
    {
     "data": {
      "text/plain": [
       "tensor([[-7.6775],\n",
       "        [-6.6676],\n",
       "        [ 0.5768],\n",
       "        ...,\n",
       "        [13.1107],\n",
       "        [15.3253],\n",
       "        [ 8.0247]], device='cuda:0', grad_fn=<AddmmBackward>)"
      ]
     },
     "execution_count": 136,
     "metadata": {},
     "output_type": "execute_result"
    }
   ],
   "source": [
    "net(X.to(\"cuda:0\"))"
   ]
  },
  {
   "cell_type": "markdown",
   "id": "15f944de-b4f2-4818-adbb-8543ec39382f",
   "metadata": {},
   "source": [
    "`-` 결과를 시각화하면 아래와 같다. "
   ]
  },
  {
   "cell_type": "code",
   "execution_count": 137,
   "id": "ba08639f-8784-4586-b81d-c724d2e187db",
   "metadata": {},
   "outputs": [
    {
     "data": {
      "text/plain": [
       "[<matplotlib.lines.Line2D at 0x7fde85d6ce80>]"
      ]
     },
     "execution_count": 137,
     "metadata": {},
     "output_type": "execute_result"
    },
    {
     "data": {
      "image/png": "[encoded data removed]",
      "text/plain": [
       "<Figure size 432x288 with 1 Axes>"
      ]
     },
     "metadata": {
      "needs_background": "light"
     },
     "output_type": "display_data"
    }
   ],
   "source": [
    "plt.plot(a2(net(X.to(\"cuda:0\")).to(\"cpu\").data),'.')"
   ]
  },
  {
   "cell_type": "markdown",
   "id": "e2ad3912-7ff2-4280-8634-70de5360bb9a",
   "metadata": {},
   "source": [
    "`-` 빠르고 적합결과도 좋음 "
   ]
  },
  {
   "cell_type": "markdown",
   "id": "2e707d54-2381-41b7-b435-710a593aef97",
   "metadata": {},
   "source": [
    "### resent34를 사용 "
   ]
  },
  {
   "cell_type": "markdown",
   "id": "e7ab67b4-ecf2-41c0-b3fc-2c38b7e454f1",
   "metadata": {},
   "source": [
    "`-` fastai를 활용"
   ]
  },
  {
   "cell_type": "markdown",
   "id": "14e4f13b-1ac9-43f9-af6d-d2b7eea59325",
   "metadata": {},
   "source": [
    "`-` 아까사용한 dls를 수정해야함 $\\to$ 네트워크의 형태에 따라서 dls의 형태도 다르게 만들어야함. \n",
    "- 내가만든 MLP를 생각해보면 첫 입력이 $784 \\to  ???$ 선형층\n",
    "- 내가만든 CNN은 첫 입력이 $1\\times 28 \\times 28 \\to ???$"
   ]
  },
  {
   "cell_type": "markdown",
   "id": "7a8d189f-7dd8-45ba-a286-6c9a8853b7d0",
   "metadata": {},
   "source": [
    "`-` dls는 네트워크의 아키텍처를 따라서 다르게 만들어야 함 (당연한 이야기)"
   ]
  },
  {
   "cell_type": "markdown",
   "id": "87a1043f-5d68-4a49-abb6-17d6224a554d",
   "metadata": {},
   "source": [
    "`-` resnet34라는 네트워크를 만들기 위해서 새로운 dls를 만들자. "
   ]
  },
  {
   "cell_type": "code",
   "execution_count": 139,
   "id": "8caeeac0-d1d5-4d81-b8d3-6e2a0482adbd",
   "metadata": {},
   "outputs": [],
   "source": [
    "dls2 = ImageDataLoaders.from_folder(\n",
    "    path,\n",
    "    train='train',\n",
    "    valid_pct=0.2)"
   ]
  },
  {
   "cell_type": "code",
   "execution_count": 141,
   "id": "c1bc5bbf-3907-4df6-9183-4525398f24d8",
   "metadata": {},
   "outputs": [],
   "source": [
    "lrnr2=cnn_learner(dls2,resnet34)"
   ]
  },
  {
   "cell_type": "code",
   "execution_count": 142,
   "id": "62b16ebe-e581-482d-ac2c-8fe4ba752fb2",
   "metadata": {},
   "outputs": [
    {
     "data": {
      "text/html": [
       "<table border=\"1\" class=\"dataframe\">\n",
       "  <thead>\n",
       "    <tr style=\"text-align: left;\">\n",
       "      <th>epoch</th>\n",
       "      <th>train_loss</th>\n",
       "      <th>valid_loss</th>\n",
       "      <th>time</th>\n",
       "    </tr>\n",
       "  </thead>\n",
       "  <tbody>\n",
       "    <tr>\n",
       "      <td>0</td>\n",
       "      <td>0.102295</td>\n",
       "      <td>0.047408</td>\n",
       "      <td>00:09</td>\n",
       "    </tr>\n",
       "    <tr>\n",
       "      <td>1</td>\n",
       "      <td>0.044895</td>\n",
       "      <td>0.028195</td>\n",
       "      <td>00:08</td>\n",
       "    </tr>\n",
       "    <tr>\n",
       "      <td>2</td>\n",
       "      <td>0.025008</td>\n",
       "      <td>0.020967</td>\n",
       "      <td>00:09</td>\n",
       "    </tr>\n",
       "    <tr>\n",
       "      <td>3</td>\n",
       "      <td>0.017816</td>\n",
       "      <td>0.008732</td>\n",
       "      <td>00:08</td>\n",
       "    </tr>\n",
       "    <tr>\n",
       "      <td>4</td>\n",
       "      <td>0.016465</td>\n",
       "      <td>0.017797</td>\n",
       "      <td>00:09</td>\n",
       "    </tr>\n",
       "    <tr>\n",
       "      <td>5</td>\n",
       "      <td>0.014840</td>\n",
       "      <td>0.020204</td>\n",
       "      <td>00:08</td>\n",
       "    </tr>\n",
       "    <tr>\n",
       "      <td>6</td>\n",
       "      <td>0.008250</td>\n",
       "      <td>0.016188</td>\n",
       "      <td>00:08</td>\n",
       "    </tr>\n",
       "    <tr>\n",
       "      <td>7</td>\n",
       "      <td>0.011950</td>\n",
       "      <td>0.013376</td>\n",
       "      <td>00:08</td>\n",
       "    </tr>\n",
       "    <tr>\n",
       "      <td>8</td>\n",
       "      <td>0.003451</td>\n",
       "      <td>0.013504</td>\n",
       "      <td>00:08</td>\n",
       "    </tr>\n",
       "    <tr>\n",
       "      <td>9</td>\n",
       "      <td>0.005553</td>\n",
       "      <td>0.012215</td>\n",
       "      <td>00:08</td>\n",
       "    </tr>\n",
       "  </tbody>\n",
       "</table>"
      ],
      "text/plain": [
       "<IPython.core.display.HTML object>"
      ]
     },
     "metadata": {},
     "output_type": "display_data"
    }
   ],
   "source": [
    "lrnr2.fit(10)"
   ]
  },
  {
   "cell_type": "code",
   "execution_count": null,
   "id": "bc2160a8-4a86-42c1-8c81-c137df1b205c",
   "metadata": {},
   "outputs": [],
   "source": [
    "`-` lrnr2.model 의 네트워크 정보를 확인"
   ]
  }
 ],
 "metadata": {
  "kernelspec": {
   "display_name": "Python 3 (ipykernel)",
   "language": "python",
   "name": "python3"
  },
  "language_info": {
   "codemirror_mode": {
    "name": "ipython",
    "version": 3
   },
   "file_extension": ".py",
   "mimetype": "text/x-python",
   "name": "python",
   "nbconvert_exporter": "python",
   "pygments_lexer": "ipython3",
   "version": "3.8.12"
  }
 },
 "nbformat": 4,
 "nbformat_minor": 5
}
